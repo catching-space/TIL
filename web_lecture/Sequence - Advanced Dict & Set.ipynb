{
 "cells": [
  {
   "cell_type": "markdown",
   "metadata": {},
   "source": [
    "## Sequence\n",
    "\n",
    "- Dictionary는 파이썬의 핵심 골자를 이루는 중요한 자료구조"
   ]
  },
  {
   "cell_type": "markdown",
   "metadata": {},
   "source": [
    "#### Dict 구조"
   ]
  },
  {
   "cell_type": "code",
   "execution_count": 2,
   "metadata": {},
   "outputs": [
    {
     "name": "stdout",
     "output_type": "stream",
     "text": [
      "EX1-1 -  {'__name__': 'builtins', '__doc__': \"Built-in functions, exceptions, and other objects.\\n\\nNoteworthy: None is the `nil' object; Ellipsis represents `...' in slices.\", '__package__': '', '__loader__': <class '_frozen_importlib.BuiltinImporter'>, '__spec__': ModuleSpec(name='builtins', loader=<class '_frozen_importlib.BuiltinImporter'>), '__build_class__': <built-in function __build_class__>, '__import__': <built-in function __import__>, 'abs': <built-in function abs>, 'all': <built-in function all>, 'any': <built-in function any>, 'ascii': <built-in function ascii>, 'bin': <built-in function bin>, 'breakpoint': <built-in function breakpoint>, 'callable': <built-in function callable>, 'chr': <built-in function chr>, 'compile': <built-in function compile>, 'delattr': <built-in function delattr>, 'dir': <built-in function dir>, 'divmod': <built-in function divmod>, 'eval': <built-in function eval>, 'exec': <built-in function exec>, 'format': <built-in function format>, 'getattr': <built-in function getattr>, 'globals': <built-in function globals>, 'hasattr': <built-in function hasattr>, 'hash': <built-in function hash>, 'hex': <built-in function hex>, 'id': <built-in function id>, 'input': <bound method Kernel.raw_input of <ipykernel.ipkernel.IPythonKernel object at 0x10d3f9b70>>, 'isinstance': <built-in function isinstance>, 'issubclass': <built-in function issubclass>, 'iter': <built-in function iter>, 'len': <built-in function len>, 'locals': <built-in function locals>, 'max': <built-in function max>, 'min': <built-in function min>, 'next': <built-in function next>, 'oct': <built-in function oct>, 'ord': <built-in function ord>, 'pow': <built-in function pow>, 'print': <built-in function print>, 'repr': <built-in function repr>, 'round': <built-in function round>, 'setattr': <built-in function setattr>, 'sorted': <built-in function sorted>, 'sum': <built-in function sum>, 'vars': <built-in function vars>, 'None': None, 'Ellipsis': Ellipsis, 'NotImplemented': NotImplemented, 'False': False, 'True': True, 'bool': <class 'bool'>, 'memoryview': <class 'memoryview'>, 'bytearray': <class 'bytearray'>, 'bytes': <class 'bytes'>, 'classmethod': <class 'classmethod'>, 'complex': <class 'complex'>, 'dict': <class 'dict'>, 'enumerate': <class 'enumerate'>, 'filter': <class 'filter'>, 'float': <class 'float'>, 'frozenset': <class 'frozenset'>, 'property': <class 'property'>, 'int': <class 'int'>, 'list': <class 'list'>, 'map': <class 'map'>, 'object': <class 'object'>, 'range': <class 'range'>, 'reversed': <class 'reversed'>, 'set': <class 'set'>, 'slice': <class 'slice'>, 'staticmethod': <class 'staticmethod'>, 'str': <class 'str'>, 'super': <class 'super'>, 'tuple': <class 'tuple'>, 'type': <class 'type'>, 'zip': <class 'zip'>, '__debug__': True, 'BaseException': <class 'BaseException'>, 'Exception': <class 'Exception'>, 'TypeError': <class 'TypeError'>, 'StopAsyncIteration': <class 'StopAsyncIteration'>, 'StopIteration': <class 'StopIteration'>, 'GeneratorExit': <class 'GeneratorExit'>, 'SystemExit': <class 'SystemExit'>, 'KeyboardInterrupt': <class 'KeyboardInterrupt'>, 'ImportError': <class 'ImportError'>, 'ModuleNotFoundError': <class 'ModuleNotFoundError'>, 'OSError': <class 'OSError'>, 'EnvironmentError': <class 'OSError'>, 'IOError': <class 'OSError'>, 'EOFError': <class 'EOFError'>, 'RuntimeError': <class 'RuntimeError'>, 'RecursionError': <class 'RecursionError'>, 'NotImplementedError': <class 'NotImplementedError'>, 'NameError': <class 'NameError'>, 'UnboundLocalError': <class 'UnboundLocalError'>, 'AttributeError': <class 'AttributeError'>, 'SyntaxError': <class 'SyntaxError'>, 'IndentationError': <class 'IndentationError'>, 'TabError': <class 'TabError'>, 'LookupError': <class 'LookupError'>, 'IndexError': <class 'IndexError'>, 'KeyError': <class 'KeyError'>, 'ValueError': <class 'ValueError'>, 'UnicodeError': <class 'UnicodeError'>, 'UnicodeEncodeError': <class 'UnicodeEncodeError'>, 'UnicodeDecodeError': <class 'UnicodeDecodeError'>, 'UnicodeTranslateError': <class 'UnicodeTranslateError'>, 'AssertionError': <class 'AssertionError'>, 'ArithmeticError': <class 'ArithmeticError'>, 'FloatingPointError': <class 'FloatingPointError'>, 'OverflowError': <class 'OverflowError'>, 'ZeroDivisionError': <class 'ZeroDivisionError'>, 'SystemError': <class 'SystemError'>, 'ReferenceError': <class 'ReferenceError'>, 'MemoryError': <class 'MemoryError'>, 'BufferError': <class 'BufferError'>, 'Warning': <class 'Warning'>, 'UserWarning': <class 'UserWarning'>, 'DeprecationWarning': <class 'DeprecationWarning'>, 'PendingDeprecationWarning': <class 'PendingDeprecationWarning'>, 'SyntaxWarning': <class 'SyntaxWarning'>, 'RuntimeWarning': <class 'RuntimeWarning'>, 'FutureWarning': <class 'FutureWarning'>, 'ImportWarning': <class 'ImportWarning'>, 'UnicodeWarning': <class 'UnicodeWarning'>, 'BytesWarning': <class 'BytesWarning'>, 'ResourceWarning': <class 'ResourceWarning'>, 'ConnectionError': <class 'ConnectionError'>, 'BlockingIOError': <class 'BlockingIOError'>, 'BrokenPipeError': <class 'BrokenPipeError'>, 'ChildProcessError': <class 'ChildProcessError'>, 'ConnectionAbortedError': <class 'ConnectionAbortedError'>, 'ConnectionRefusedError': <class 'ConnectionRefusedError'>, 'ConnectionResetError': <class 'ConnectionResetError'>, 'FileExistsError': <class 'FileExistsError'>, 'FileNotFoundError': <class 'FileNotFoundError'>, 'IsADirectoryError': <class 'IsADirectoryError'>, 'NotADirectoryError': <class 'NotADirectoryError'>, 'InterruptedError': <class 'InterruptedError'>, 'PermissionError': <class 'PermissionError'>, 'ProcessLookupError': <class 'ProcessLookupError'>, 'TimeoutError': <class 'TimeoutError'>, 'open': <built-in function open>, 'copyright': Copyright (c) 2001-2018 Python Software Foundation.\n",
      "All Rights Reserved.\n",
      "\n",
      "Copyright (c) 2000 BeOpen.com.\n",
      "All Rights Reserved.\n",
      "\n",
      "Copyright (c) 1995-2001 Corporation for National Research Initiatives.\n",
      "All Rights Reserved.\n",
      "\n",
      "Copyright (c) 1991-1995 Stichting Mathematisch Centrum, Amsterdam.\n",
      "All Rights Reserved., 'credits':     Thanks to CWI, CNRI, BeOpen.com, Zope Corporation and a cast of thousands\n",
      "    for supporting Python development.  See www.python.org for more information., 'license': Type license() to see the full license text, 'help': Type help() for interactive help, or help(object) for help about object., '__IPYTHON__': True, 'display': <function display at 0x10c2afa60>, 'get_ipython': <bound method InteractiveShell.get_ipython of <ipykernel.zmqshell.ZMQInteractiveShell object at 0x10d3f9898>>}\n"
     ]
    }
   ],
   "source": [
    "print('EX1-1 - ', __builtins__.__dict__)"
   ]
  },
  {
   "cell_type": "markdown",
   "metadata": {},
   "source": [
    "### Dictionary\n",
    "- key 중복허용 X"
   ]
  },
  {
   "cell_type": "markdown",
   "metadata": {},
   "source": [
    "### Hashtable\n",
    "- 적은 리소스로 많은 데이터를 효율적으로 관리"
   ]
  },
  {
   "cell_type": "markdown",
   "metadata": {},
   "source": [
    "#### Hash 값 확인"
   ]
  },
  {
   "cell_type": "code",
   "execution_count": 3,
   "metadata": {},
   "outputs": [
    {
     "name": "stdout",
     "output_type": "stream",
     "text": [
      "EX1-2 - 5737367089334957572\n"
     ]
    },
    {
     "ename": "TypeError",
     "evalue": "unhashable type: 'list'",
     "output_type": "error",
     "traceback": [
      "\u001b[0;31m---------------------------------------------------------------------------\u001b[0m",
      "\u001b[0;31mTypeError\u001b[0m                                 Traceback (most recent call last)",
      "\u001b[0;32m<ipython-input-3-4b13e0c5182b>\u001b[0m in \u001b[0;36m<module>\u001b[0;34m\u001b[0m\n\u001b[1;32m      3\u001b[0m \u001b[0;34m\u001b[0m\u001b[0m\n\u001b[1;32m      4\u001b[0m \u001b[0mprint\u001b[0m\u001b[0;34m(\u001b[0m\u001b[0;34m'EX1-2 -'\u001b[0m\u001b[0;34m,\u001b[0m \u001b[0mhash\u001b[0m\u001b[0;34m(\u001b[0m\u001b[0mt1\u001b[0m\u001b[0;34m)\u001b[0m\u001b[0;34m)\u001b[0m\u001b[0;34m\u001b[0m\u001b[0;34m\u001b[0m\u001b[0m\n\u001b[0;32m----> 5\u001b[0;31m \u001b[0mprint\u001b[0m\u001b[0;34m(\u001b[0m\u001b[0;34m'EX1-3 -'\u001b[0m\u001b[0;34m,\u001b[0m \u001b[0mhash\u001b[0m\u001b[0;34m(\u001b[0m\u001b[0mt2\u001b[0m\u001b[0;34m)\u001b[0m\u001b[0;34m)\u001b[0m\u001b[0;34m\u001b[0m\u001b[0;34m\u001b[0m\u001b[0m\n\u001b[0m",
      "\u001b[0;31mTypeError\u001b[0m: unhashable type: 'list'"
     ]
    }
   ],
   "source": [
    "t1 = (10, 20, (30, 40, 50))\n",
    "t2 = (10, 20, [30, 40, 50])\n",
    "\n",
    "print('EX1-2 -', hash(t1))\n",
    "print('EX1-3 -', hash(t2))  # list는 mutalble이기 때문에 에러 발생"
   ]
  },
  {
   "cell_type": "markdown",
   "metadata": {},
   "source": [
    ">mutable인지 immutable인지 확인할 때는 hash() 사용"
   ]
  },
  {
   "cell_type": "markdown",
   "metadata": {},
   "source": [
    "### 지능형 딕셔너리(Comprehending Dict)"
   ]
  },
  {
   "cell_type": "code",
   "execution_count": 4,
   "metadata": {},
   "outputs": [],
   "source": [
    "import csv"
   ]
  },
  {
   "cell_type": "markdown",
   "metadata": {},
   "source": [
    "#### 외부 csv to List of Tuple"
   ]
  },
  {
   "cell_type": "code",
   "execution_count": 6,
   "metadata": {},
   "outputs": [],
   "source": [
    "with open('./resources/test1.csv', encoding='UTF-8') as f:\n",
    "    temp = csv.reader(f)\n",
    "    # header skip\n",
    "    next(temp)\n",
    "    # 변환\n",
    "    NA_CODES = [tuple(x) for x in temp]"
   ]
  },
  {
   "cell_type": "code",
   "execution_count": 9,
   "metadata": {},
   "outputs": [
    {
     "name": "stdout",
     "output_type": "stream",
     "text": [
      "EX 2-1 -\n"
     ]
    },
    {
     "data": {
      "text/plain": [
       "[('Afghanistan', 'AF'),\n",
       " ('Åland Islands', 'AX'),\n",
       " ('Albania', 'AL'),\n",
       " ('Algeria', 'DZ'),\n",
       " ('American Samoa', 'AS'),\n",
       " ('Andorra', 'AD'),\n",
       " ('Angola', 'AO'),\n",
       " ('Anguilla', 'AI'),\n",
       " ('Antarctica', 'AQ'),\n",
       " ('Antigua and Barbuda', 'AG'),\n",
       " ('Argentina', 'AR'),\n",
       " ('Armenia', 'AM'),\n",
       " ('Aruba', 'AW'),\n",
       " ('Australia', 'AU'),\n",
       " ('Austria', 'AT'),\n",
       " ('Azerbaijan', 'AZ'),\n",
       " ('Bahamas', 'BS'),\n",
       " ('Bahrain', 'BH'),\n",
       " ('Bangladesh', 'BD'),\n",
       " ('Barbados', 'BB'),\n",
       " ('Belarus', 'BY'),\n",
       " ('Belgium', 'BE'),\n",
       " ('Belize', 'BZ'),\n",
       " ('Benin', 'BJ'),\n",
       " ('Bermuda', 'BM'),\n",
       " ('Bhutan', 'BT'),\n",
       " ('Bolivia, Plurinational State of', 'BO'),\n",
       " ('Bonaire, Sint Eustatius and Saba', 'BQ'),\n",
       " ('Bosnia and Herzegovina', 'BA'),\n",
       " ('Botswana', 'BW'),\n",
       " ('Bouvet Island', 'BV'),\n",
       " ('Brazil', 'BR'),\n",
       " ('British Indian Ocean Territory', 'IO'),\n",
       " ('Brunei Darussalam', 'BN'),\n",
       " ('Bulgaria', 'BG'),\n",
       " ('Burkina Faso', 'BF'),\n",
       " ('Burundi', 'BI'),\n",
       " ('Cambodia', 'KH'),\n",
       " ('Cameroon', 'CM'),\n",
       " ('Canada', 'CA'),\n",
       " ('Cape Verde', 'CV'),\n",
       " ('Cayman Islands', 'KY'),\n",
       " ('Central African Republic', 'CF'),\n",
       " ('Chad', 'TD'),\n",
       " ('Chile', 'CL'),\n",
       " ('China', 'CN'),\n",
       " ('Christmas Island', 'CX'),\n",
       " ('Cocos (Keeling) Islands', 'CC'),\n",
       " ('Colombia', 'CO'),\n",
       " ('Comoros', 'KM'),\n",
       " ('Congo', 'CG'),\n",
       " ('Congo, the Democratic Republic of the', 'CD'),\n",
       " ('Cook Islands', 'CK'),\n",
       " ('Costa Rica', 'CR'),\n",
       " (\"Côte d'Ivoire\", 'CI'),\n",
       " ('Croatia', 'HR'),\n",
       " ('Cuba', 'CU'),\n",
       " ('Curaçao', 'CW'),\n",
       " ('Cyprus', 'CY'),\n",
       " ('Czech Republic', 'CZ'),\n",
       " ('Denmark', 'DK'),\n",
       " ('Djibouti', 'DJ'),\n",
       " ('Dominica', 'DM'),\n",
       " ('Dominican Republic', 'DO'),\n",
       " ('Ecuador', 'EC'),\n",
       " ('Egypt', 'EG'),\n",
       " ('El Salvador', 'SV'),\n",
       " ('Equatorial Guinea', 'GQ'),\n",
       " ('Eritrea', 'ER'),\n",
       " ('Estonia', 'EE'),\n",
       " ('Ethiopia', 'ET'),\n",
       " ('Falkland Islands (Malvinas)', 'FK'),\n",
       " ('Faroe Islands', 'FO'),\n",
       " ('Fiji', 'FJ'),\n",
       " ('Finland', 'FI'),\n",
       " ('France', 'FR'),\n",
       " ('French Guiana', 'GF'),\n",
       " ('French Polynesia', 'PF'),\n",
       " ('French Southern Territories', 'TF'),\n",
       " ('Gabon', 'GA'),\n",
       " ('Gambia', 'GM'),\n",
       " ('Georgia', 'GE'),\n",
       " ('Germany', 'DE'),\n",
       " ('Ghana', 'GH'),\n",
       " ('Gibraltar', 'GI'),\n",
       " ('Greece', 'GR'),\n",
       " ('Greenland', 'GL'),\n",
       " ('Grenada', 'GD'),\n",
       " ('Guadeloupe', 'GP'),\n",
       " ('Guam', 'GU'),\n",
       " ('Guatemala', 'GT'),\n",
       " ('Guernsey', 'GG'),\n",
       " ('Guinea', 'GN'),\n",
       " ('Guinea-Bissau', 'GW'),\n",
       " ('Guyana', 'GY'),\n",
       " ('Haiti', 'HT'),\n",
       " ('Heard Island and McDonald Islands', 'HM'),\n",
       " ('Holy See (Vatican City State)', 'VA'),\n",
       " ('Honduras', 'HN'),\n",
       " ('Hong Kong', 'HK'),\n",
       " ('Hungary', 'HU'),\n",
       " ('Iceland', 'IS'),\n",
       " ('India', 'IN'),\n",
       " ('Indonesia', 'ID'),\n",
       " ('Iran, Islamic Republic of', 'IR'),\n",
       " ('Iraq', 'IQ'),\n",
       " ('Ireland', 'IE'),\n",
       " ('Isle of Man', 'IM'),\n",
       " ('Israel', 'IL'),\n",
       " ('Italy', 'IT'),\n",
       " ('Jamaica', 'JM'),\n",
       " ('Japan', 'JP'),\n",
       " ('Jersey', 'JE'),\n",
       " ('Jordan', 'JO'),\n",
       " ('Kazakhstan', 'KZ'),\n",
       " ('Kenya', 'KE'),\n",
       " ('Kiribati', 'KI'),\n",
       " (\"Korea, Democratic People's Republic of\", 'KP'),\n",
       " ('Korea, Republic of', 'KR'),\n",
       " ('Kuwait', 'KW'),\n",
       " ('Kyrgyzstan', 'KG'),\n",
       " (\"Lao People's Democratic Republic\", 'LA'),\n",
       " ('Latvia', 'LV'),\n",
       " ('Lebanon', 'LB'),\n",
       " ('Lesotho', 'LS'),\n",
       " ('Liberia', 'LR'),\n",
       " ('Libya', 'LY'),\n",
       " ('Liechtenstein', 'LI'),\n",
       " ('Lithuania', 'LT'),\n",
       " ('Luxembourg', 'LU'),\n",
       " ('Macao', 'MO'),\n",
       " ('Macedonia, the Former Yugoslav Republic of', 'MK'),\n",
       " ('Madagascar', 'MG'),\n",
       " ('Malawi', 'MW'),\n",
       " ('Malaysia', 'MY'),\n",
       " ('Maldives', 'MV'),\n",
       " ('Mali', 'ML'),\n",
       " ('Malta', 'MT'),\n",
       " ('Marshall Islands', 'MH'),\n",
       " ('Martinique', 'MQ'),\n",
       " ('Mauritania', 'MR'),\n",
       " ('Mauritius', 'MU'),\n",
       " ('Mayotte', 'YT'),\n",
       " ('Mexico', 'MX'),\n",
       " ('Micronesia, Federated States of', 'FM'),\n",
       " ('Moldova, Republic of', 'MD'),\n",
       " ('Monaco', 'MC'),\n",
       " ('Mongolia', 'MN'),\n",
       " ('Montenegro', 'ME'),\n",
       " ('Montserrat', 'MS'),\n",
       " ('Morocco', 'MA'),\n",
       " ('Mozambique', 'MZ'),\n",
       " ('Myanmar', 'MM'),\n",
       " ('Namibia', 'NA'),\n",
       " ('Nauru', 'NR'),\n",
       " ('Nepal', 'NP'),\n",
       " ('Netherlands', 'NL'),\n",
       " ('New Caledonia', 'NC'),\n",
       " ('New Zealand', 'NZ'),\n",
       " ('Nicaragua', 'NI'),\n",
       " ('Niger', 'NE'),\n",
       " ('Nigeria', 'NG'),\n",
       " ('Niue', 'NU'),\n",
       " ('Norfolk Island', 'NF'),\n",
       " ('Northern Mariana Islands', 'MP'),\n",
       " ('Norway', 'NO'),\n",
       " ('Oman', 'OM'),\n",
       " ('Pakistan', 'PK'),\n",
       " ('Palau', 'PW'),\n",
       " ('Palestine, State of', 'PS'),\n",
       " ('Panama', 'PA'),\n",
       " ('Papua New Guinea', 'PG'),\n",
       " ('Paraguay', 'PY'),\n",
       " ('Peru', 'PE'),\n",
       " ('Philippines', 'PH'),\n",
       " ('Pitcairn', 'PN'),\n",
       " ('Poland', 'PL'),\n",
       " ('Portugal', 'PT'),\n",
       " ('Puerto Rico', 'PR'),\n",
       " ('Qatar', 'QA'),\n",
       " ('Réunion', 'RE'),\n",
       " ('Romania', 'RO'),\n",
       " ('Russian Federation', 'RU'),\n",
       " ('Rwanda', 'RW'),\n",
       " ('Saint Barthélemy', 'BL'),\n",
       " ('Saint Helena, Ascension and Tristan da Cunha', 'SH'),\n",
       " ('Saint Kitts and Nevis', 'KN'),\n",
       " ('Saint Lucia', 'LC'),\n",
       " ('Saint Martin (French part)', 'MF'),\n",
       " ('Saint Pierre and Miquelon', 'PM'),\n",
       " ('Saint Vincent and the Grenadines', 'VC'),\n",
       " ('Samoa', 'WS'),\n",
       " ('San Marino', 'SM'),\n",
       " ('Sao Tome and Principe', 'ST'),\n",
       " ('Saudi Arabia', 'SA'),\n",
       " ('Senegal', 'SN'),\n",
       " ('Serbia', 'RS'),\n",
       " ('Seychelles', 'SC'),\n",
       " ('Sierra Leone', 'SL'),\n",
       " ('Singapore', 'SG'),\n",
       " ('Sint Maarten (Dutch part)', 'SX'),\n",
       " ('Slovakia', 'SK'),\n",
       " ('Slovenia', 'SI'),\n",
       " ('Solomon Islands', 'SB'),\n",
       " ('Somalia', 'SO'),\n",
       " ('South Africa', 'ZA'),\n",
       " ('South Georgia and the South Sandwich Islands', 'GS'),\n",
       " ('South Sudan', 'SS'),\n",
       " ('Spain', 'ES'),\n",
       " ('Sri Lanka', 'LK'),\n",
       " ('Sudan', 'SD'),\n",
       " ('Suriname', 'SR'),\n",
       " ('Svalbard and Jan Mayen', 'SJ'),\n",
       " ('Swaziland', 'SZ'),\n",
       " ('Sweden', 'SE'),\n",
       " ('Switzerland', 'CH'),\n",
       " ('Syrian Arab Republic', 'SY'),\n",
       " ('Taiwan, Province of China', 'TW'),\n",
       " ('Tajikistan', 'TJ'),\n",
       " ('Tanzania, United Republic of', 'TZ'),\n",
       " ('Thailand', 'TH'),\n",
       " ('Timor-Leste', 'TL'),\n",
       " ('Togo', 'TG'),\n",
       " ('Tokelau', 'TK'),\n",
       " ('Tonga', 'TO'),\n",
       " ('Trinidad and Tobago', 'TT'),\n",
       " ('Tunisia', 'TN'),\n",
       " ('Turkey', 'TR'),\n",
       " ('Turkmenistan', 'TM'),\n",
       " ('Turks and Caicos Islands', 'TC'),\n",
       " ('Tuvalu', 'TV'),\n",
       " ('Uganda', 'UG'),\n",
       " ('Ukraine', 'UA'),\n",
       " ('United Arab Emirates', 'AE'),\n",
       " ('United Kingdom', 'GB'),\n",
       " ('United States', 'US'),\n",
       " ('United States Minor Outlying Islands', 'UM'),\n",
       " ('Uruguay', 'UY'),\n",
       " ('Uzbekistan', 'UZ'),\n",
       " ('Vanuatu', 'VU'),\n",
       " ('Venezuela, Bolivarian Republic of', 'VE'),\n",
       " ('Viet Nam', 'VN'),\n",
       " ('Virgin Islands, British', 'VG'),\n",
       " ('Virgin Islands, U.S.', 'VI'),\n",
       " ('Wallis and Futuna', 'WF'),\n",
       " ('Western Sahara', 'EH'),\n",
       " ('Yemen', 'YE'),\n",
       " ('Zambia', 'ZM'),\n",
       " ('Zimbabwe', 'ZW')]"
      ]
     },
     "execution_count": 9,
     "metadata": {},
     "output_type": "execute_result"
    }
   ],
   "source": [
    "print('EX 2-1 -')\n",
    "NA_CODES"
   ]
  },
  {
   "cell_type": "code",
   "execution_count": 11,
   "metadata": {},
   "outputs": [],
   "source": [
    "n_codes1 = {country: code for country, code in NA_CODES}\n",
    "n_codes2 = {country.upper(): code for country, code in NA_CODES}"
   ]
  },
  {
   "cell_type": "code",
   "execution_count": 14,
   "metadata": {},
   "outputs": [
    {
     "name": "stdout",
     "output_type": "stream",
     "text": [
      "EX 2-2 -\n"
     ]
    },
    {
     "data": {
      "text/plain": [
       "{'Afghanistan': 'AF',\n",
       " 'Åland Islands': 'AX',\n",
       " 'Albania': 'AL',\n",
       " 'Algeria': 'DZ',\n",
       " 'American Samoa': 'AS',\n",
       " 'Andorra': 'AD',\n",
       " 'Angola': 'AO',\n",
       " 'Anguilla': 'AI',\n",
       " 'Antarctica': 'AQ',\n",
       " 'Antigua and Barbuda': 'AG',\n",
       " 'Argentina': 'AR',\n",
       " 'Armenia': 'AM',\n",
       " 'Aruba': 'AW',\n",
       " 'Australia': 'AU',\n",
       " 'Austria': 'AT',\n",
       " 'Azerbaijan': 'AZ',\n",
       " 'Bahamas': 'BS',\n",
       " 'Bahrain': 'BH',\n",
       " 'Bangladesh': 'BD',\n",
       " 'Barbados': 'BB',\n",
       " 'Belarus': 'BY',\n",
       " 'Belgium': 'BE',\n",
       " 'Belize': 'BZ',\n",
       " 'Benin': 'BJ',\n",
       " 'Bermuda': 'BM',\n",
       " 'Bhutan': 'BT',\n",
       " 'Bolivia, Plurinational State of': 'BO',\n",
       " 'Bonaire, Sint Eustatius and Saba': 'BQ',\n",
       " 'Bosnia and Herzegovina': 'BA',\n",
       " 'Botswana': 'BW',\n",
       " 'Bouvet Island': 'BV',\n",
       " 'Brazil': 'BR',\n",
       " 'British Indian Ocean Territory': 'IO',\n",
       " 'Brunei Darussalam': 'BN',\n",
       " 'Bulgaria': 'BG',\n",
       " 'Burkina Faso': 'BF',\n",
       " 'Burundi': 'BI',\n",
       " 'Cambodia': 'KH',\n",
       " 'Cameroon': 'CM',\n",
       " 'Canada': 'CA',\n",
       " 'Cape Verde': 'CV',\n",
       " 'Cayman Islands': 'KY',\n",
       " 'Central African Republic': 'CF',\n",
       " 'Chad': 'TD',\n",
       " 'Chile': 'CL',\n",
       " 'China': 'CN',\n",
       " 'Christmas Island': 'CX',\n",
       " 'Cocos (Keeling) Islands': 'CC',\n",
       " 'Colombia': 'CO',\n",
       " 'Comoros': 'KM',\n",
       " 'Congo': 'CG',\n",
       " 'Congo, the Democratic Republic of the': 'CD',\n",
       " 'Cook Islands': 'CK',\n",
       " 'Costa Rica': 'CR',\n",
       " \"Côte d'Ivoire\": 'CI',\n",
       " 'Croatia': 'HR',\n",
       " 'Cuba': 'CU',\n",
       " 'Curaçao': 'CW',\n",
       " 'Cyprus': 'CY',\n",
       " 'Czech Republic': 'CZ',\n",
       " 'Denmark': 'DK',\n",
       " 'Djibouti': 'DJ',\n",
       " 'Dominica': 'DM',\n",
       " 'Dominican Republic': 'DO',\n",
       " 'Ecuador': 'EC',\n",
       " 'Egypt': 'EG',\n",
       " 'El Salvador': 'SV',\n",
       " 'Equatorial Guinea': 'GQ',\n",
       " 'Eritrea': 'ER',\n",
       " 'Estonia': 'EE',\n",
       " 'Ethiopia': 'ET',\n",
       " 'Falkland Islands (Malvinas)': 'FK',\n",
       " 'Faroe Islands': 'FO',\n",
       " 'Fiji': 'FJ',\n",
       " 'Finland': 'FI',\n",
       " 'France': 'FR',\n",
       " 'French Guiana': 'GF',\n",
       " 'French Polynesia': 'PF',\n",
       " 'French Southern Territories': 'TF',\n",
       " 'Gabon': 'GA',\n",
       " 'Gambia': 'GM',\n",
       " 'Georgia': 'GE',\n",
       " 'Germany': 'DE',\n",
       " 'Ghana': 'GH',\n",
       " 'Gibraltar': 'GI',\n",
       " 'Greece': 'GR',\n",
       " 'Greenland': 'GL',\n",
       " 'Grenada': 'GD',\n",
       " 'Guadeloupe': 'GP',\n",
       " 'Guam': 'GU',\n",
       " 'Guatemala': 'GT',\n",
       " 'Guernsey': 'GG',\n",
       " 'Guinea': 'GN',\n",
       " 'Guinea-Bissau': 'GW',\n",
       " 'Guyana': 'GY',\n",
       " 'Haiti': 'HT',\n",
       " 'Heard Island and McDonald Islands': 'HM',\n",
       " 'Holy See (Vatican City State)': 'VA',\n",
       " 'Honduras': 'HN',\n",
       " 'Hong Kong': 'HK',\n",
       " 'Hungary': 'HU',\n",
       " 'Iceland': 'IS',\n",
       " 'India': 'IN',\n",
       " 'Indonesia': 'ID',\n",
       " 'Iran, Islamic Republic of': 'IR',\n",
       " 'Iraq': 'IQ',\n",
       " 'Ireland': 'IE',\n",
       " 'Isle of Man': 'IM',\n",
       " 'Israel': 'IL',\n",
       " 'Italy': 'IT',\n",
       " 'Jamaica': 'JM',\n",
       " 'Japan': 'JP',\n",
       " 'Jersey': 'JE',\n",
       " 'Jordan': 'JO',\n",
       " 'Kazakhstan': 'KZ',\n",
       " 'Kenya': 'KE',\n",
       " 'Kiribati': 'KI',\n",
       " \"Korea, Democratic People's Republic of\": 'KP',\n",
       " 'Korea, Republic of': 'KR',\n",
       " 'Kuwait': 'KW',\n",
       " 'Kyrgyzstan': 'KG',\n",
       " \"Lao People's Democratic Republic\": 'LA',\n",
       " 'Latvia': 'LV',\n",
       " 'Lebanon': 'LB',\n",
       " 'Lesotho': 'LS',\n",
       " 'Liberia': 'LR',\n",
       " 'Libya': 'LY',\n",
       " 'Liechtenstein': 'LI',\n",
       " 'Lithuania': 'LT',\n",
       " 'Luxembourg': 'LU',\n",
       " 'Macao': 'MO',\n",
       " 'Macedonia, the Former Yugoslav Republic of': 'MK',\n",
       " 'Madagascar': 'MG',\n",
       " 'Malawi': 'MW',\n",
       " 'Malaysia': 'MY',\n",
       " 'Maldives': 'MV',\n",
       " 'Mali': 'ML',\n",
       " 'Malta': 'MT',\n",
       " 'Marshall Islands': 'MH',\n",
       " 'Martinique': 'MQ',\n",
       " 'Mauritania': 'MR',\n",
       " 'Mauritius': 'MU',\n",
       " 'Mayotte': 'YT',\n",
       " 'Mexico': 'MX',\n",
       " 'Micronesia, Federated States of': 'FM',\n",
       " 'Moldova, Republic of': 'MD',\n",
       " 'Monaco': 'MC',\n",
       " 'Mongolia': 'MN',\n",
       " 'Montenegro': 'ME',\n",
       " 'Montserrat': 'MS',\n",
       " 'Morocco': 'MA',\n",
       " 'Mozambique': 'MZ',\n",
       " 'Myanmar': 'MM',\n",
       " 'Namibia': 'NA',\n",
       " 'Nauru': 'NR',\n",
       " 'Nepal': 'NP',\n",
       " 'Netherlands': 'NL',\n",
       " 'New Caledonia': 'NC',\n",
       " 'New Zealand': 'NZ',\n",
       " 'Nicaragua': 'NI',\n",
       " 'Niger': 'NE',\n",
       " 'Nigeria': 'NG',\n",
       " 'Niue': 'NU',\n",
       " 'Norfolk Island': 'NF',\n",
       " 'Northern Mariana Islands': 'MP',\n",
       " 'Norway': 'NO',\n",
       " 'Oman': 'OM',\n",
       " 'Pakistan': 'PK',\n",
       " 'Palau': 'PW',\n",
       " 'Palestine, State of': 'PS',\n",
       " 'Panama': 'PA',\n",
       " 'Papua New Guinea': 'PG',\n",
       " 'Paraguay': 'PY',\n",
       " 'Peru': 'PE',\n",
       " 'Philippines': 'PH',\n",
       " 'Pitcairn': 'PN',\n",
       " 'Poland': 'PL',\n",
       " 'Portugal': 'PT',\n",
       " 'Puerto Rico': 'PR',\n",
       " 'Qatar': 'QA',\n",
       " 'Réunion': 'RE',\n",
       " 'Romania': 'RO',\n",
       " 'Russian Federation': 'RU',\n",
       " 'Rwanda': 'RW',\n",
       " 'Saint Barthélemy': 'BL',\n",
       " 'Saint Helena, Ascension and Tristan da Cunha': 'SH',\n",
       " 'Saint Kitts and Nevis': 'KN',\n",
       " 'Saint Lucia': 'LC',\n",
       " 'Saint Martin (French part)': 'MF',\n",
       " 'Saint Pierre and Miquelon': 'PM',\n",
       " 'Saint Vincent and the Grenadines': 'VC',\n",
       " 'Samoa': 'WS',\n",
       " 'San Marino': 'SM',\n",
       " 'Sao Tome and Principe': 'ST',\n",
       " 'Saudi Arabia': 'SA',\n",
       " 'Senegal': 'SN',\n",
       " 'Serbia': 'RS',\n",
       " 'Seychelles': 'SC',\n",
       " 'Sierra Leone': 'SL',\n",
       " 'Singapore': 'SG',\n",
       " 'Sint Maarten (Dutch part)': 'SX',\n",
       " 'Slovakia': 'SK',\n",
       " 'Slovenia': 'SI',\n",
       " 'Solomon Islands': 'SB',\n",
       " 'Somalia': 'SO',\n",
       " 'South Africa': 'ZA',\n",
       " 'South Georgia and the South Sandwich Islands': 'GS',\n",
       " 'South Sudan': 'SS',\n",
       " 'Spain': 'ES',\n",
       " 'Sri Lanka': 'LK',\n",
       " 'Sudan': 'SD',\n",
       " 'Suriname': 'SR',\n",
       " 'Svalbard and Jan Mayen': 'SJ',\n",
       " 'Swaziland': 'SZ',\n",
       " 'Sweden': 'SE',\n",
       " 'Switzerland': 'CH',\n",
       " 'Syrian Arab Republic': 'SY',\n",
       " 'Taiwan, Province of China': 'TW',\n",
       " 'Tajikistan': 'TJ',\n",
       " 'Tanzania, United Republic of': 'TZ',\n",
       " 'Thailand': 'TH',\n",
       " 'Timor-Leste': 'TL',\n",
       " 'Togo': 'TG',\n",
       " 'Tokelau': 'TK',\n",
       " 'Tonga': 'TO',\n",
       " 'Trinidad and Tobago': 'TT',\n",
       " 'Tunisia': 'TN',\n",
       " 'Turkey': 'TR',\n",
       " 'Turkmenistan': 'TM',\n",
       " 'Turks and Caicos Islands': 'TC',\n",
       " 'Tuvalu': 'TV',\n",
       " 'Uganda': 'UG',\n",
       " 'Ukraine': 'UA',\n",
       " 'United Arab Emirates': 'AE',\n",
       " 'United Kingdom': 'GB',\n",
       " 'United States': 'US',\n",
       " 'United States Minor Outlying Islands': 'UM',\n",
       " 'Uruguay': 'UY',\n",
       " 'Uzbekistan': 'UZ',\n",
       " 'Vanuatu': 'VU',\n",
       " 'Venezuela, Bolivarian Republic of': 'VE',\n",
       " 'Viet Nam': 'VN',\n",
       " 'Virgin Islands, British': 'VG',\n",
       " 'Virgin Islands, U.S.': 'VI',\n",
       " 'Wallis and Futuna': 'WF',\n",
       " 'Western Sahara': 'EH',\n",
       " 'Yemen': 'YE',\n",
       " 'Zambia': 'ZM',\n",
       " 'Zimbabwe': 'ZW'}"
      ]
     },
     "execution_count": 14,
     "metadata": {},
     "output_type": "execute_result"
    }
   ],
   "source": [
    "print('EX 2-2 -')\n",
    "n_codes1"
   ]
  },
  {
   "cell_type": "code",
   "execution_count": 15,
   "metadata": {},
   "outputs": [
    {
     "name": "stdout",
     "output_type": "stream",
     "text": [
      "EX 2-2 -\n"
     ]
    },
    {
     "data": {
      "text/plain": [
       "{'AFGHANISTAN': 'AF',\n",
       " 'ÅLAND ISLANDS': 'AX',\n",
       " 'ALBANIA': 'AL',\n",
       " 'ALGERIA': 'DZ',\n",
       " 'AMERICAN SAMOA': 'AS',\n",
       " 'ANDORRA': 'AD',\n",
       " 'ANGOLA': 'AO',\n",
       " 'ANGUILLA': 'AI',\n",
       " 'ANTARCTICA': 'AQ',\n",
       " 'ANTIGUA AND BARBUDA': 'AG',\n",
       " 'ARGENTINA': 'AR',\n",
       " 'ARMENIA': 'AM',\n",
       " 'ARUBA': 'AW',\n",
       " 'AUSTRALIA': 'AU',\n",
       " 'AUSTRIA': 'AT',\n",
       " 'AZERBAIJAN': 'AZ',\n",
       " 'BAHAMAS': 'BS',\n",
       " 'BAHRAIN': 'BH',\n",
       " 'BANGLADESH': 'BD',\n",
       " 'BARBADOS': 'BB',\n",
       " 'BELARUS': 'BY',\n",
       " 'BELGIUM': 'BE',\n",
       " 'BELIZE': 'BZ',\n",
       " 'BENIN': 'BJ',\n",
       " 'BERMUDA': 'BM',\n",
       " 'BHUTAN': 'BT',\n",
       " 'BOLIVIA, PLURINATIONAL STATE OF': 'BO',\n",
       " 'BONAIRE, SINT EUSTATIUS AND SABA': 'BQ',\n",
       " 'BOSNIA AND HERZEGOVINA': 'BA',\n",
       " 'BOTSWANA': 'BW',\n",
       " 'BOUVET ISLAND': 'BV',\n",
       " 'BRAZIL': 'BR',\n",
       " 'BRITISH INDIAN OCEAN TERRITORY': 'IO',\n",
       " 'BRUNEI DARUSSALAM': 'BN',\n",
       " 'BULGARIA': 'BG',\n",
       " 'BURKINA FASO': 'BF',\n",
       " 'BURUNDI': 'BI',\n",
       " 'CAMBODIA': 'KH',\n",
       " 'CAMEROON': 'CM',\n",
       " 'CANADA': 'CA',\n",
       " 'CAPE VERDE': 'CV',\n",
       " 'CAYMAN ISLANDS': 'KY',\n",
       " 'CENTRAL AFRICAN REPUBLIC': 'CF',\n",
       " 'CHAD': 'TD',\n",
       " 'CHILE': 'CL',\n",
       " 'CHINA': 'CN',\n",
       " 'CHRISTMAS ISLAND': 'CX',\n",
       " 'COCOS (KEELING) ISLANDS': 'CC',\n",
       " 'COLOMBIA': 'CO',\n",
       " 'COMOROS': 'KM',\n",
       " 'CONGO': 'CG',\n",
       " 'CONGO, THE DEMOCRATIC REPUBLIC OF THE': 'CD',\n",
       " 'COOK ISLANDS': 'CK',\n",
       " 'COSTA RICA': 'CR',\n",
       " \"CÔTE D'IVOIRE\": 'CI',\n",
       " 'CROATIA': 'HR',\n",
       " 'CUBA': 'CU',\n",
       " 'CURAÇAO': 'CW',\n",
       " 'CYPRUS': 'CY',\n",
       " 'CZECH REPUBLIC': 'CZ',\n",
       " 'DENMARK': 'DK',\n",
       " 'DJIBOUTI': 'DJ',\n",
       " 'DOMINICA': 'DM',\n",
       " 'DOMINICAN REPUBLIC': 'DO',\n",
       " 'ECUADOR': 'EC',\n",
       " 'EGYPT': 'EG',\n",
       " 'EL SALVADOR': 'SV',\n",
       " 'EQUATORIAL GUINEA': 'GQ',\n",
       " 'ERITREA': 'ER',\n",
       " 'ESTONIA': 'EE',\n",
       " 'ETHIOPIA': 'ET',\n",
       " 'FALKLAND ISLANDS (MALVINAS)': 'FK',\n",
       " 'FAROE ISLANDS': 'FO',\n",
       " 'FIJI': 'FJ',\n",
       " 'FINLAND': 'FI',\n",
       " 'FRANCE': 'FR',\n",
       " 'FRENCH GUIANA': 'GF',\n",
       " 'FRENCH POLYNESIA': 'PF',\n",
       " 'FRENCH SOUTHERN TERRITORIES': 'TF',\n",
       " 'GABON': 'GA',\n",
       " 'GAMBIA': 'GM',\n",
       " 'GEORGIA': 'GE',\n",
       " 'GERMANY': 'DE',\n",
       " 'GHANA': 'GH',\n",
       " 'GIBRALTAR': 'GI',\n",
       " 'GREECE': 'GR',\n",
       " 'GREENLAND': 'GL',\n",
       " 'GRENADA': 'GD',\n",
       " 'GUADELOUPE': 'GP',\n",
       " 'GUAM': 'GU',\n",
       " 'GUATEMALA': 'GT',\n",
       " 'GUERNSEY': 'GG',\n",
       " 'GUINEA': 'GN',\n",
       " 'GUINEA-BISSAU': 'GW',\n",
       " 'GUYANA': 'GY',\n",
       " 'HAITI': 'HT',\n",
       " 'HEARD ISLAND AND MCDONALD ISLANDS': 'HM',\n",
       " 'HOLY SEE (VATICAN CITY STATE)': 'VA',\n",
       " 'HONDURAS': 'HN',\n",
       " 'HONG KONG': 'HK',\n",
       " 'HUNGARY': 'HU',\n",
       " 'ICELAND': 'IS',\n",
       " 'INDIA': 'IN',\n",
       " 'INDONESIA': 'ID',\n",
       " 'IRAN, ISLAMIC REPUBLIC OF': 'IR',\n",
       " 'IRAQ': 'IQ',\n",
       " 'IRELAND': 'IE',\n",
       " 'ISLE OF MAN': 'IM',\n",
       " 'ISRAEL': 'IL',\n",
       " 'ITALY': 'IT',\n",
       " 'JAMAICA': 'JM',\n",
       " 'JAPAN': 'JP',\n",
       " 'JERSEY': 'JE',\n",
       " 'JORDAN': 'JO',\n",
       " 'KAZAKHSTAN': 'KZ',\n",
       " 'KENYA': 'KE',\n",
       " 'KIRIBATI': 'KI',\n",
       " \"KOREA, DEMOCRATIC PEOPLE'S REPUBLIC OF\": 'KP',\n",
       " 'KOREA, REPUBLIC OF': 'KR',\n",
       " 'KUWAIT': 'KW',\n",
       " 'KYRGYZSTAN': 'KG',\n",
       " \"LAO PEOPLE'S DEMOCRATIC REPUBLIC\": 'LA',\n",
       " 'LATVIA': 'LV',\n",
       " 'LEBANON': 'LB',\n",
       " 'LESOTHO': 'LS',\n",
       " 'LIBERIA': 'LR',\n",
       " 'LIBYA': 'LY',\n",
       " 'LIECHTENSTEIN': 'LI',\n",
       " 'LITHUANIA': 'LT',\n",
       " 'LUXEMBOURG': 'LU',\n",
       " 'MACAO': 'MO',\n",
       " 'MACEDONIA, THE FORMER YUGOSLAV REPUBLIC OF': 'MK',\n",
       " 'MADAGASCAR': 'MG',\n",
       " 'MALAWI': 'MW',\n",
       " 'MALAYSIA': 'MY',\n",
       " 'MALDIVES': 'MV',\n",
       " 'MALI': 'ML',\n",
       " 'MALTA': 'MT',\n",
       " 'MARSHALL ISLANDS': 'MH',\n",
       " 'MARTINIQUE': 'MQ',\n",
       " 'MAURITANIA': 'MR',\n",
       " 'MAURITIUS': 'MU',\n",
       " 'MAYOTTE': 'YT',\n",
       " 'MEXICO': 'MX',\n",
       " 'MICRONESIA, FEDERATED STATES OF': 'FM',\n",
       " 'MOLDOVA, REPUBLIC OF': 'MD',\n",
       " 'MONACO': 'MC',\n",
       " 'MONGOLIA': 'MN',\n",
       " 'MONTENEGRO': 'ME',\n",
       " 'MONTSERRAT': 'MS',\n",
       " 'MOROCCO': 'MA',\n",
       " 'MOZAMBIQUE': 'MZ',\n",
       " 'MYANMAR': 'MM',\n",
       " 'NAMIBIA': 'NA',\n",
       " 'NAURU': 'NR',\n",
       " 'NEPAL': 'NP',\n",
       " 'NETHERLANDS': 'NL',\n",
       " 'NEW CALEDONIA': 'NC',\n",
       " 'NEW ZEALAND': 'NZ',\n",
       " 'NICARAGUA': 'NI',\n",
       " 'NIGER': 'NE',\n",
       " 'NIGERIA': 'NG',\n",
       " 'NIUE': 'NU',\n",
       " 'NORFOLK ISLAND': 'NF',\n",
       " 'NORTHERN MARIANA ISLANDS': 'MP',\n",
       " 'NORWAY': 'NO',\n",
       " 'OMAN': 'OM',\n",
       " 'PAKISTAN': 'PK',\n",
       " 'PALAU': 'PW',\n",
       " 'PALESTINE, STATE OF': 'PS',\n",
       " 'PANAMA': 'PA',\n",
       " 'PAPUA NEW GUINEA': 'PG',\n",
       " 'PARAGUAY': 'PY',\n",
       " 'PERU': 'PE',\n",
       " 'PHILIPPINES': 'PH',\n",
       " 'PITCAIRN': 'PN',\n",
       " 'POLAND': 'PL',\n",
       " 'PORTUGAL': 'PT',\n",
       " 'PUERTO RICO': 'PR',\n",
       " 'QATAR': 'QA',\n",
       " 'RÉUNION': 'RE',\n",
       " 'ROMANIA': 'RO',\n",
       " 'RUSSIAN FEDERATION': 'RU',\n",
       " 'RWANDA': 'RW',\n",
       " 'SAINT BARTHÉLEMY': 'BL',\n",
       " 'SAINT HELENA, ASCENSION AND TRISTAN DA CUNHA': 'SH',\n",
       " 'SAINT KITTS AND NEVIS': 'KN',\n",
       " 'SAINT LUCIA': 'LC',\n",
       " 'SAINT MARTIN (FRENCH PART)': 'MF',\n",
       " 'SAINT PIERRE AND MIQUELON': 'PM',\n",
       " 'SAINT VINCENT AND THE GRENADINES': 'VC',\n",
       " 'SAMOA': 'WS',\n",
       " 'SAN MARINO': 'SM',\n",
       " 'SAO TOME AND PRINCIPE': 'ST',\n",
       " 'SAUDI ARABIA': 'SA',\n",
       " 'SENEGAL': 'SN',\n",
       " 'SERBIA': 'RS',\n",
       " 'SEYCHELLES': 'SC',\n",
       " 'SIERRA LEONE': 'SL',\n",
       " 'SINGAPORE': 'SG',\n",
       " 'SINT MAARTEN (DUTCH PART)': 'SX',\n",
       " 'SLOVAKIA': 'SK',\n",
       " 'SLOVENIA': 'SI',\n",
       " 'SOLOMON ISLANDS': 'SB',\n",
       " 'SOMALIA': 'SO',\n",
       " 'SOUTH AFRICA': 'ZA',\n",
       " 'SOUTH GEORGIA AND THE SOUTH SANDWICH ISLANDS': 'GS',\n",
       " 'SOUTH SUDAN': 'SS',\n",
       " 'SPAIN': 'ES',\n",
       " 'SRI LANKA': 'LK',\n",
       " 'SUDAN': 'SD',\n",
       " 'SURINAME': 'SR',\n",
       " 'SVALBARD AND JAN MAYEN': 'SJ',\n",
       " 'SWAZILAND': 'SZ',\n",
       " 'SWEDEN': 'SE',\n",
       " 'SWITZERLAND': 'CH',\n",
       " 'SYRIAN ARAB REPUBLIC': 'SY',\n",
       " 'TAIWAN, PROVINCE OF CHINA': 'TW',\n",
       " 'TAJIKISTAN': 'TJ',\n",
       " 'TANZANIA, UNITED REPUBLIC OF': 'TZ',\n",
       " 'THAILAND': 'TH',\n",
       " 'TIMOR-LESTE': 'TL',\n",
       " 'TOGO': 'TG',\n",
       " 'TOKELAU': 'TK',\n",
       " 'TONGA': 'TO',\n",
       " 'TRINIDAD AND TOBAGO': 'TT',\n",
       " 'TUNISIA': 'TN',\n",
       " 'TURKEY': 'TR',\n",
       " 'TURKMENISTAN': 'TM',\n",
       " 'TURKS AND CAICOS ISLANDS': 'TC',\n",
       " 'TUVALU': 'TV',\n",
       " 'UGANDA': 'UG',\n",
       " 'UKRAINE': 'UA',\n",
       " 'UNITED ARAB EMIRATES': 'AE',\n",
       " 'UNITED KINGDOM': 'GB',\n",
       " 'UNITED STATES': 'US',\n",
       " 'UNITED STATES MINOR OUTLYING ISLANDS': 'UM',\n",
       " 'URUGUAY': 'UY',\n",
       " 'UZBEKISTAN': 'UZ',\n",
       " 'VANUATU': 'VU',\n",
       " 'VENEZUELA, BOLIVARIAN REPUBLIC OF': 'VE',\n",
       " 'VIET NAM': 'VN',\n",
       " 'VIRGIN ISLANDS, BRITISH': 'VG',\n",
       " 'VIRGIN ISLANDS, U.S.': 'VI',\n",
       " 'WALLIS AND FUTUNA': 'WF',\n",
       " 'WESTERN SAHARA': 'EH',\n",
       " 'YEMEN': 'YE',\n",
       " 'ZAMBIA': 'ZM',\n",
       " 'ZIMBABWE': 'ZW'}"
      ]
     },
     "execution_count": 15,
     "metadata": {},
     "output_type": "execute_result"
    }
   ],
   "source": [
    "print('EX 2-2 -')\n",
    "n_codes2"
   ]
  },
  {
   "cell_type": "markdown",
   "metadata": {},
   "source": [
    "#### Dict Setdefault"
   ]
  },
  {
   "cell_type": "code",
   "execution_count": 27,
   "metadata": {},
   "outputs": [],
   "source": [
    "source = (('k1', 'val1'),\n",
    "          ('k1', 'val2'),\n",
    "              ('k2', 'val3'),\n",
    "              ('k2', 'val4'),\n",
    "              ('k2', 'val5'))"
   ]
  },
  {
   "cell_type": "code",
   "execution_count": 28,
   "metadata": {},
   "outputs": [],
   "source": [
    "new_dict1 = {}\n",
    "new_dict2 = {}"
   ]
  },
  {
   "cell_type": "markdown",
   "metadata": {},
   "source": [
    "#### No Use Setdefault"
   ]
  },
  {
   "cell_type": "code",
   "execution_count": 29,
   "metadata": {},
   "outputs": [
    {
     "name": "stdout",
     "output_type": "stream",
     "text": [
      "EX 3-1 - {'k1': ['val1', 'val2'], 'k2': ['val3', 'val4', 'val5']}\n"
     ]
    }
   ],
   "source": [
    "for k, v in source:\n",
    "    if k in new_dict1:\n",
    "        new_dict1[k].append(v)\n",
    "    else:\n",
    "        new_dict1[k] = [v]\n",
    "\n",
    "print('EX 3-1 -', new_dict1)"
   ]
  },
  {
   "cell_type": "markdown",
   "metadata": {},
   "source": [
    "#### Use Setdefault"
   ]
  },
  {
   "cell_type": "code",
   "execution_count": 30,
   "metadata": {},
   "outputs": [
    {
     "name": "stdout",
     "output_type": "stream",
     "text": [
      "EX 3-2 - {'k1': ['val1', 'val2'], 'k2': ['val3', 'val4', 'val5']}\n"
     ]
    }
   ],
   "source": [
    "for k, v in source:\n",
    "    new_dict2.setdefault(k, []).append(v)\n",
    "    \n",
    "print('EX 3-2 -', new_dict2)"
   ]
  },
  {
   "cell_type": "markdown",
   "metadata": {},
   "source": [
    "#### 사용자 정의 dict 상속(UserDict 기능)"
   ]
  },
  {
   "cell_type": "code",
   "execution_count": 31,
   "metadata": {},
   "outputs": [],
   "source": [
    "class UserDict(dict):\n",
    "    def __missing__(self, key):\n",
    "        print('Called : __missing__')\n",
    "        if isinstance(key, str):\n",
    "            raise KeyError(key)\n",
    "        return self[str(key)]\n",
    "    \n",
    "    def get(self, key, default=None):\n",
    "        print('Called : __getitem__')\n",
    "        try:\n",
    "            return self[key]\n",
    "        except KeyError:\n",
    "            return default\n",
    "        \n",
    "    def __contains__(self, key):\n",
    "        print('Called : __contains__')\n",
    "        return key in self.keys() or str(key) in self.keys()\n",
    "        "
   ]
  },
  {
   "cell_type": "code",
   "execution_count": 38,
   "metadata": {},
   "outputs": [],
   "source": [
    "user_dict1 = UserDict(one=1, two=2)\n",
    "user_dict2 = UserDict({'one': 1, 'two': 2})\n",
    "user_dict3 = UserDict([('one', 1), ('two', 2)])"
   ]
  },
  {
   "cell_type": "code",
   "execution_count": 39,
   "metadata": {},
   "outputs": [
    {
     "name": "stdout",
     "output_type": "stream",
     "text": [
      "EX4-1 - {'one': 1, 'two': 2} {'one': 1, 'two': 2} {'one': 1, 'two': 2}\n"
     ]
    }
   ],
   "source": [
    "print('EX4-1 -', user_dict1, user_dict2, user_dict3)"
   ]
  },
  {
   "cell_type": "code",
   "execution_count": 42,
   "metadata": {},
   "outputs": [
    {
     "name": "stdout",
     "output_type": "stream",
     "text": [
      "Called : __getitem__\n",
      "EX4-2 - 2\n",
      "Called : __contains__\n",
      "EX4-3 - True\n"
     ]
    }
   ],
   "source": [
    "print('EX4-2 -', user_dict2.get('two'))  # get 호출 후 값 없을 시 __missing__ 호출\n",
    "print('EX4-3 -', 'one' in user_dict3)  # __contains__ 호출"
   ]
  },
  {
   "cell_type": "code",
   "execution_count": 43,
   "metadata": {},
   "outputs": [
    {
     "name": "stdout",
     "output_type": "stream",
     "text": [
      "Called : __missing__\n"
     ]
    },
    {
     "ename": "KeyError",
     "evalue": "'three'",
     "output_type": "error",
     "traceback": [
      "\u001b[0;31m---------------------------------------------------------------------------\u001b[0m",
      "\u001b[0;31mKeyError\u001b[0m                                  Traceback (most recent call last)",
      "\u001b[0;32m<ipython-input-43-0665f883c94a>\u001b[0m in \u001b[0;36m<module>\u001b[0;34m\u001b[0m\n\u001b[0;32m----> 1\u001b[0;31m \u001b[0mprint\u001b[0m\u001b[0;34m(\u001b[0m\u001b[0;34m'EX4-4 -'\u001b[0m\u001b[0;34m,\u001b[0m \u001b[0muser_dict3\u001b[0m\u001b[0;34m[\u001b[0m\u001b[0;34m'three'\u001b[0m\u001b[0;34m]\u001b[0m\u001b[0;34m)\u001b[0m\u001b[0;34m\u001b[0m\u001b[0;34m\u001b[0m\u001b[0m\n\u001b[0m",
      "\u001b[0;32m<ipython-input-31-fd4a335d81a6>\u001b[0m in \u001b[0;36m__missing__\u001b[0;34m(self, key)\u001b[0m\n\u001b[1;32m      3\u001b[0m         \u001b[0mprint\u001b[0m\u001b[0;34m(\u001b[0m\u001b[0;34m'Called : __missing__'\u001b[0m\u001b[0;34m)\u001b[0m\u001b[0;34m\u001b[0m\u001b[0;34m\u001b[0m\u001b[0m\n\u001b[1;32m      4\u001b[0m         \u001b[0;32mif\u001b[0m \u001b[0misinstance\u001b[0m\u001b[0;34m(\u001b[0m\u001b[0mkey\u001b[0m\u001b[0;34m,\u001b[0m \u001b[0mstr\u001b[0m\u001b[0;34m)\u001b[0m\u001b[0;34m:\u001b[0m\u001b[0;34m\u001b[0m\u001b[0;34m\u001b[0m\u001b[0m\n\u001b[0;32m----> 5\u001b[0;31m             \u001b[0;32mraise\u001b[0m \u001b[0mKeyError\u001b[0m\u001b[0;34m(\u001b[0m\u001b[0mkey\u001b[0m\u001b[0;34m)\u001b[0m\u001b[0;34m\u001b[0m\u001b[0;34m\u001b[0m\u001b[0m\n\u001b[0m\u001b[1;32m      6\u001b[0m         \u001b[0;32mreturn\u001b[0m \u001b[0mself\u001b[0m\u001b[0;34m[\u001b[0m\u001b[0mstr\u001b[0m\u001b[0;34m(\u001b[0m\u001b[0mkey\u001b[0m\u001b[0;34m)\u001b[0m\u001b[0;34m]\u001b[0m\u001b[0;34m\u001b[0m\u001b[0;34m\u001b[0m\u001b[0m\n\u001b[1;32m      7\u001b[0m \u001b[0;34m\u001b[0m\u001b[0m\n",
      "\u001b[0;31mKeyError\u001b[0m: 'three'"
     ]
    }
   ],
   "source": [
    "print('EX4-4 -', user_dict3['three'])  # KeyError 발생 (__missing__ 호출)"
   ]
  },
  {
   "cell_type": "code",
   "execution_count": 45,
   "metadata": {},
   "outputs": [
    {
     "name": "stdout",
     "output_type": "stream",
     "text": [
      "Called : __getitem__\n",
      "Called : __missing__\n",
      "EX4-5 - None\n"
     ]
    }
   ],
   "source": [
    "print('EX4-5 -', user_dict3.get('three'))"
   ]
  },
  {
   "cell_type": "code",
   "execution_count": 47,
   "metadata": {},
   "outputs": [
    {
     "name": "stdout",
     "output_type": "stream",
     "text": [
      "Called : __contains__\n",
      "EX4-6 - False\n"
     ]
    }
   ],
   "source": [
    "print('EX4-6 -', 'three' in user_dict3)"
   ]
  },
  {
   "cell_type": "markdown",
   "metadata": {},
   "source": [
    "### immutable dict"
   ]
  },
  {
   "cell_type": "code",
   "execution_count": 48,
   "metadata": {},
   "outputs": [],
   "source": [
    "from types import MappingProxyType"
   ]
  },
  {
   "cell_type": "code",
   "execution_count": 49,
   "metadata": {},
   "outputs": [],
   "source": [
    "d = {'key1': 'TEST1'}"
   ]
  },
  {
   "cell_type": "markdown",
   "metadata": {},
   "source": [
    "#### Read Only"
   ]
  },
  {
   "cell_type": "code",
   "execution_count": 50,
   "metadata": {},
   "outputs": [
    {
     "name": "stdout",
     "output_type": "stream",
     "text": [
      "EX5-1 - {'key1': 'TEST1'} 4868504096\n",
      "EX5-2 - {'key1': 'TEST1'} 4864741048\n"
     ]
    }
   ],
   "source": [
    "d_frozen = MappingProxyType(d)\n",
    "print('EX5-1 -', d, id(d))\n",
    "print('EX5-2 -', d_frozen, id(d_frozen))"
   ]
  },
  {
   "cell_type": "code",
   "execution_count": 52,
   "metadata": {},
   "outputs": [
    {
     "name": "stdout",
     "output_type": "stream",
     "text": [
      "EX5-3 - False True\n"
     ]
    }
   ],
   "source": [
    "print('EX5-3 -', d is d_frozen, d == d_frozen)"
   ]
  },
  {
   "cell_type": "code",
   "execution_count": 53,
   "metadata": {},
   "outputs": [
    {
     "ename": "TypeError",
     "evalue": "'mappingproxy' object does not support item assignment",
     "output_type": "error",
     "traceback": [
      "\u001b[0;31m---------------------------------------------------------------------------\u001b[0m",
      "\u001b[0;31mTypeError\u001b[0m                                 Traceback (most recent call last)",
      "\u001b[0;32m<ipython-input-53-484ed62b2f02>\u001b[0m in \u001b[0;36m<module>\u001b[0;34m\u001b[0m\n\u001b[0;32m----> 1\u001b[0;31m \u001b[0md_frozen\u001b[0m\u001b[0;34m[\u001b[0m\u001b[0;34m'key1'\u001b[0m\u001b[0;34m]\u001b[0m \u001b[0;34m=\u001b[0m \u001b[0;34m'TEST2'\u001b[0m\u001b[0;34m\u001b[0m\u001b[0;34m\u001b[0m\u001b[0m\n\u001b[0m",
      "\u001b[0;31mTypeError\u001b[0m: 'mappingproxy' object does not support item assignment"
     ]
    }
   ],
   "source": [
    "d_frozen['key1'] = 'TEST2'  # immutable이므로 에러 발생 - 수정 불가"
   ]
  },
  {
   "cell_type": "code",
   "execution_count": 56,
   "metadata": {},
   "outputs": [
    {
     "ename": "TypeError",
     "evalue": "'mappingproxy' object does not support item assignment",
     "output_type": "error",
     "traceback": [
      "\u001b[0;31m---------------------------------------------------------------------------\u001b[0m",
      "\u001b[0;31mTypeError\u001b[0m                                 Traceback (most recent call last)",
      "\u001b[0;32m<ipython-input-56-dd34060c8346>\u001b[0m in \u001b[0;36m<module>\u001b[0;34m\u001b[0m\n\u001b[0;32m----> 1\u001b[0;31m \u001b[0md_frozen\u001b[0m\u001b[0;34m[\u001b[0m\u001b[0;34m'key2'\u001b[0m\u001b[0;34m]\u001b[0m \u001b[0;34m=\u001b[0m \u001b[0;34m'TEST2'\u001b[0m\u001b[0;34m\u001b[0m\u001b[0;34m\u001b[0m\u001b[0m\n\u001b[0m",
      "\u001b[0;31mTypeError\u001b[0m: 'mappingproxy' object does not support item assignment"
     ]
    }
   ],
   "source": [
    "d_frozen['key2'] = 'TEST2'# immutable이므로 에러 발생 - 추가도 불가"
   ]
  },
  {
   "cell_type": "code",
   "execution_count": 55,
   "metadata": {},
   "outputs": [
    {
     "name": "stdout",
     "output_type": "stream",
     "text": [
      "EX5-4 - {'key1': 'TEST1', 'key2': 'TEST2'}\n"
     ]
    }
   ],
   "source": [
    "d['key2'] = 'TEST2'\n",
    "print('EX5-4 -', d)"
   ]
  },
  {
   "cell_type": "markdown",
   "metadata": {},
   "source": [
    "### Set (FrozenSet)"
   ]
  },
  {
   "cell_type": "code",
   "execution_count": 58,
   "metadata": {},
   "outputs": [],
   "source": [
    "s1 = {'Apple', 'Orange', 'Apple', 'Orange', 'Kiwi'}\n",
    "s2 = set(['Apple', 'Orange', 'Apple', 'Orange', 'Kiwi'])\n",
    "s3 = {3}\n",
    "s4 = set()  # {} -> 이건 딕셔너리 \n",
    "s5 = frozenset({'Apple', 'Orange', 'Apple', 'Orange', 'Kiwi'})"
   ]
  },
  {
   "cell_type": "code",
   "execution_count": 61,
   "metadata": {},
   "outputs": [],
   "source": [
    "s1.add('Melon')"
   ]
  },
  {
   "cell_type": "markdown",
   "metadata": {},
   "source": [
    ">set은 순서가 유지되지 않는다."
   ]
  },
  {
   "cell_type": "code",
   "execution_count": 60,
   "metadata": {},
   "outputs": [
    {
     "ename": "AttributeError",
     "evalue": "'frozenset' object has no attribute 'add'",
     "output_type": "error",
     "traceback": [
      "\u001b[0;31m---------------------------------------------------------------------------\u001b[0m",
      "\u001b[0;31mAttributeError\u001b[0m                            Traceback (most recent call last)",
      "\u001b[0;32m<ipython-input-60-252e549311da>\u001b[0m in \u001b[0;36m<module>\u001b[0;34m\u001b[0m\n\u001b[0;32m----> 1\u001b[0;31m \u001b[0ms5\u001b[0m\u001b[0;34m.\u001b[0m\u001b[0madd\u001b[0m\u001b[0;34m(\u001b[0m\u001b[0;34m'Melon'\u001b[0m\u001b[0;34m)\u001b[0m  \u001b[0;31m# frozenset은 immutable이므로 에러 발생\u001b[0m\u001b[0;34m\u001b[0m\u001b[0;34m\u001b[0m\u001b[0m\n\u001b[0m",
      "\u001b[0;31mAttributeError\u001b[0m: 'frozenset' object has no attribute 'add'"
     ]
    }
   ],
   "source": [
    "s5.add('Melon')  # frozenset은 immutable이므로 에러 발생"
   ]
  },
  {
   "cell_type": "code",
   "execution_count": 62,
   "metadata": {},
   "outputs": [
    {
     "name": "stdout",
     "output_type": "stream",
     "text": [
      "EX6-1 - {'Kiwi', 'Orange', 'Melon', 'Apple'} <class 'set'>\n",
      "EX6-2 - {'Kiwi', 'Orange', 'Melon', 'Apple'} <class 'set'>\n",
      "EX6-3 - {'Kiwi', 'Orange', 'Melon', 'Apple'} <class 'set'>\n",
      "EX6-4 - {'Kiwi', 'Orange', 'Melon', 'Apple'} <class 'set'>\n",
      "EX6-5 - {'Kiwi', 'Orange', 'Melon', 'Apple'} <class 'set'>\n"
     ]
    }
   ],
   "source": [
    "print('EX6-1 -', s1, type(s1))\n",
    "print('EX6-2 -', s1, type(s1))\n",
    "print('EX6-3 -', s1, type(s1))\n",
    "print('EX6-4 -', s1, type(s1))\n",
    "print('EX6-5 -', s1, type(s1))"
   ]
  },
  {
   "cell_type": "markdown",
   "metadata": {},
   "source": [
    "#### set 선언 최적화"
   ]
  },
  {
   "cell_type": "code",
   "execution_count": 65,
   "metadata": {},
   "outputs": [],
   "source": [
    "from dis import dis"
   ]
  },
  {
   "cell_type": "code",
   "execution_count": 70,
   "metadata": {},
   "outputs": [
    {
     "name": "stdout",
     "output_type": "stream",
     "text": [
      "EX6-6 -\n",
      "  1           0 LOAD_CONST               0 (10)\n",
      "              2 BUILD_SET                1\n",
      "              4 RETURN_VALUE\n"
     ]
    }
   ],
   "source": [
    "print('EX6-6 -')\n",
    "dis('{10}')  # 더 빠름"
   ]
  },
  {
   "cell_type": "code",
   "execution_count": 71,
   "metadata": {},
   "outputs": [
    {
     "name": "stdout",
     "output_type": "stream",
     "text": [
      "EX6-7 -\n",
      "  1           0 LOAD_NAME                0 (set)\n",
      "              2 LOAD_CONST               0 (10)\n",
      "              4 BUILD_LIST               1\n",
      "              6 CALL_FUNCTION            1\n",
      "              8 RETURN_VALUE\n"
     ]
    }
   ],
   "source": [
    "print('EX6-7 -')\n",
    "dis('set([10])')  # 더 느림"
   ]
  },
  {
   "cell_type": "markdown",
   "metadata": {},
   "source": [
    "#### 지능형 set(Comprehending Set)"
   ]
  },
  {
   "cell_type": "code",
   "execution_count": 73,
   "metadata": {},
   "outputs": [],
   "source": [
    "from unicodedata import name"
   ]
  },
  {
   "cell_type": "code",
   "execution_count": 75,
   "metadata": {},
   "outputs": [
    {
     "name": "stdout",
     "output_type": "stream",
     "text": [
      "EX7-1 - \n"
     ]
    },
    {
     "data": {
      "text/plain": [
       "{'',\n",
       " 'ACUTE ACCENT',\n",
       " 'AMPERSAND',\n",
       " 'APOSTROPHE',\n",
       " 'ASTERISK',\n",
       " 'BROKEN BAR',\n",
       " 'CEDILLA',\n",
       " 'CENT SIGN',\n",
       " 'CIRCUMFLEX ACCENT',\n",
       " 'COLON',\n",
       " 'COMMA',\n",
       " 'COMMERCIAL AT',\n",
       " 'COPYRIGHT SIGN',\n",
       " 'CURRENCY SIGN',\n",
       " 'DEGREE SIGN',\n",
       " 'DIAERESIS',\n",
       " 'DIGIT EIGHT',\n",
       " 'DIGIT FIVE',\n",
       " 'DIGIT FOUR',\n",
       " 'DIGIT NINE',\n",
       " 'DIGIT ONE',\n",
       " 'DIGIT SEVEN',\n",
       " 'DIGIT SIX',\n",
       " 'DIGIT THREE',\n",
       " 'DIGIT TWO',\n",
       " 'DIGIT ZERO',\n",
       " 'DIVISION SIGN',\n",
       " 'DOLLAR SIGN',\n",
       " 'EQUALS SIGN',\n",
       " 'EXCLAMATION MARK',\n",
       " 'FEMININE ORDINAL INDICATOR',\n",
       " 'FULL STOP',\n",
       " 'GRAVE ACCENT',\n",
       " 'GREATER-THAN SIGN',\n",
       " 'HYPHEN-MINUS',\n",
       " 'INVERTED EXCLAMATION MARK',\n",
       " 'INVERTED QUESTION MARK',\n",
       " 'LATIN CAPITAL LETTER A',\n",
       " 'LATIN CAPITAL LETTER A WITH ACUTE',\n",
       " 'LATIN CAPITAL LETTER A WITH CIRCUMFLEX',\n",
       " 'LATIN CAPITAL LETTER A WITH DIAERESIS',\n",
       " 'LATIN CAPITAL LETTER A WITH GRAVE',\n",
       " 'LATIN CAPITAL LETTER A WITH RING ABOVE',\n",
       " 'LATIN CAPITAL LETTER A WITH TILDE',\n",
       " 'LATIN CAPITAL LETTER AE',\n",
       " 'LATIN CAPITAL LETTER B',\n",
       " 'LATIN CAPITAL LETTER C',\n",
       " 'LATIN CAPITAL LETTER C WITH CEDILLA',\n",
       " 'LATIN CAPITAL LETTER D',\n",
       " 'LATIN CAPITAL LETTER E',\n",
       " 'LATIN CAPITAL LETTER E WITH ACUTE',\n",
       " 'LATIN CAPITAL LETTER E WITH CIRCUMFLEX',\n",
       " 'LATIN CAPITAL LETTER E WITH DIAERESIS',\n",
       " 'LATIN CAPITAL LETTER E WITH GRAVE',\n",
       " 'LATIN CAPITAL LETTER ETH',\n",
       " 'LATIN CAPITAL LETTER F',\n",
       " 'LATIN CAPITAL LETTER G',\n",
       " 'LATIN CAPITAL LETTER H',\n",
       " 'LATIN CAPITAL LETTER I',\n",
       " 'LATIN CAPITAL LETTER I WITH ACUTE',\n",
       " 'LATIN CAPITAL LETTER I WITH CIRCUMFLEX',\n",
       " 'LATIN CAPITAL LETTER I WITH DIAERESIS',\n",
       " 'LATIN CAPITAL LETTER I WITH GRAVE',\n",
       " 'LATIN CAPITAL LETTER J',\n",
       " 'LATIN CAPITAL LETTER K',\n",
       " 'LATIN CAPITAL LETTER L',\n",
       " 'LATIN CAPITAL LETTER M',\n",
       " 'LATIN CAPITAL LETTER N',\n",
       " 'LATIN CAPITAL LETTER N WITH TILDE',\n",
       " 'LATIN CAPITAL LETTER O',\n",
       " 'LATIN CAPITAL LETTER O WITH ACUTE',\n",
       " 'LATIN CAPITAL LETTER O WITH CIRCUMFLEX',\n",
       " 'LATIN CAPITAL LETTER O WITH DIAERESIS',\n",
       " 'LATIN CAPITAL LETTER O WITH GRAVE',\n",
       " 'LATIN CAPITAL LETTER O WITH STROKE',\n",
       " 'LATIN CAPITAL LETTER O WITH TILDE',\n",
       " 'LATIN CAPITAL LETTER P',\n",
       " 'LATIN CAPITAL LETTER Q',\n",
       " 'LATIN CAPITAL LETTER R',\n",
       " 'LATIN CAPITAL LETTER S',\n",
       " 'LATIN CAPITAL LETTER T',\n",
       " 'LATIN CAPITAL LETTER THORN',\n",
       " 'LATIN CAPITAL LETTER U',\n",
       " 'LATIN CAPITAL LETTER U WITH ACUTE',\n",
       " 'LATIN CAPITAL LETTER U WITH CIRCUMFLEX',\n",
       " 'LATIN CAPITAL LETTER U WITH DIAERESIS',\n",
       " 'LATIN CAPITAL LETTER U WITH GRAVE',\n",
       " 'LATIN CAPITAL LETTER V',\n",
       " 'LATIN CAPITAL LETTER W',\n",
       " 'LATIN CAPITAL LETTER X',\n",
       " 'LATIN CAPITAL LETTER Y',\n",
       " 'LATIN CAPITAL LETTER Y WITH ACUTE',\n",
       " 'LATIN CAPITAL LETTER Z',\n",
       " 'LATIN SMALL LETTER A',\n",
       " 'LATIN SMALL LETTER A WITH ACUTE',\n",
       " 'LATIN SMALL LETTER A WITH CIRCUMFLEX',\n",
       " 'LATIN SMALL LETTER A WITH DIAERESIS',\n",
       " 'LATIN SMALL LETTER A WITH GRAVE',\n",
       " 'LATIN SMALL LETTER A WITH RING ABOVE',\n",
       " 'LATIN SMALL LETTER A WITH TILDE',\n",
       " 'LATIN SMALL LETTER AE',\n",
       " 'LATIN SMALL LETTER B',\n",
       " 'LATIN SMALL LETTER C',\n",
       " 'LATIN SMALL LETTER C WITH CEDILLA',\n",
       " 'LATIN SMALL LETTER D',\n",
       " 'LATIN SMALL LETTER E',\n",
       " 'LATIN SMALL LETTER E WITH ACUTE',\n",
       " 'LATIN SMALL LETTER E WITH CIRCUMFLEX',\n",
       " 'LATIN SMALL LETTER E WITH DIAERESIS',\n",
       " 'LATIN SMALL LETTER E WITH GRAVE',\n",
       " 'LATIN SMALL LETTER ETH',\n",
       " 'LATIN SMALL LETTER F',\n",
       " 'LATIN SMALL LETTER G',\n",
       " 'LATIN SMALL LETTER H',\n",
       " 'LATIN SMALL LETTER I',\n",
       " 'LATIN SMALL LETTER I WITH ACUTE',\n",
       " 'LATIN SMALL LETTER I WITH CIRCUMFLEX',\n",
       " 'LATIN SMALL LETTER I WITH DIAERESIS',\n",
       " 'LATIN SMALL LETTER I WITH GRAVE',\n",
       " 'LATIN SMALL LETTER J',\n",
       " 'LATIN SMALL LETTER K',\n",
       " 'LATIN SMALL LETTER L',\n",
       " 'LATIN SMALL LETTER M',\n",
       " 'LATIN SMALL LETTER N',\n",
       " 'LATIN SMALL LETTER N WITH TILDE',\n",
       " 'LATIN SMALL LETTER O',\n",
       " 'LATIN SMALL LETTER O WITH ACUTE',\n",
       " 'LATIN SMALL LETTER O WITH CIRCUMFLEX',\n",
       " 'LATIN SMALL LETTER O WITH DIAERESIS',\n",
       " 'LATIN SMALL LETTER O WITH GRAVE',\n",
       " 'LATIN SMALL LETTER O WITH STROKE',\n",
       " 'LATIN SMALL LETTER O WITH TILDE',\n",
       " 'LATIN SMALL LETTER P',\n",
       " 'LATIN SMALL LETTER Q',\n",
       " 'LATIN SMALL LETTER R',\n",
       " 'LATIN SMALL LETTER S',\n",
       " 'LATIN SMALL LETTER SHARP S',\n",
       " 'LATIN SMALL LETTER T',\n",
       " 'LATIN SMALL LETTER THORN',\n",
       " 'LATIN SMALL LETTER U',\n",
       " 'LATIN SMALL LETTER U WITH ACUTE',\n",
       " 'LATIN SMALL LETTER U WITH CIRCUMFLEX',\n",
       " 'LATIN SMALL LETTER U WITH DIAERESIS',\n",
       " 'LATIN SMALL LETTER U WITH GRAVE',\n",
       " 'LATIN SMALL LETTER V',\n",
       " 'LATIN SMALL LETTER W',\n",
       " 'LATIN SMALL LETTER X',\n",
       " 'LATIN SMALL LETTER Y',\n",
       " 'LATIN SMALL LETTER Y WITH ACUTE',\n",
       " 'LATIN SMALL LETTER Y WITH DIAERESIS',\n",
       " 'LATIN SMALL LETTER Z',\n",
       " 'LEFT CURLY BRACKET',\n",
       " 'LEFT PARENTHESIS',\n",
       " 'LEFT SQUARE BRACKET',\n",
       " 'LEFT-POINTING DOUBLE ANGLE QUOTATION MARK',\n",
       " 'LESS-THAN SIGN',\n",
       " 'LOW LINE',\n",
       " 'MACRON',\n",
       " 'MASCULINE ORDINAL INDICATOR',\n",
       " 'MICRO SIGN',\n",
       " 'MIDDLE DOT',\n",
       " 'MULTIPLICATION SIGN',\n",
       " 'NO-BREAK SPACE',\n",
       " 'NOT SIGN',\n",
       " 'NUMBER SIGN',\n",
       " 'PERCENT SIGN',\n",
       " 'PILCROW SIGN',\n",
       " 'PLUS SIGN',\n",
       " 'PLUS-MINUS SIGN',\n",
       " 'POUND SIGN',\n",
       " 'QUESTION MARK',\n",
       " 'QUOTATION MARK',\n",
       " 'REGISTERED SIGN',\n",
       " 'REVERSE SOLIDUS',\n",
       " 'RIGHT CURLY BRACKET',\n",
       " 'RIGHT PARENTHESIS',\n",
       " 'RIGHT SQUARE BRACKET',\n",
       " 'RIGHT-POINTING DOUBLE ANGLE QUOTATION MARK',\n",
       " 'SECTION SIGN',\n",
       " 'SEMICOLON',\n",
       " 'SOFT HYPHEN',\n",
       " 'SOLIDUS',\n",
       " 'SPACE',\n",
       " 'SUPERSCRIPT ONE',\n",
       " 'SUPERSCRIPT THREE',\n",
       " 'SUPERSCRIPT TWO',\n",
       " 'TILDE',\n",
       " 'VERTICAL LINE',\n",
       " 'VULGAR FRACTION ONE HALF',\n",
       " 'VULGAR FRACTION ONE QUARTER',\n",
       " 'VULGAR FRACTION THREE QUARTERS',\n",
       " 'YEN SIGN'}"
      ]
     },
     "execution_count": 75,
     "metadata": {},
     "output_type": "execute_result"
    }
   ],
   "source": [
    "print('EX7-1 - ')\n",
    "\n",
    "{name(chr(i), '') for i in range(0, 256)}"
   ]
  },
  {
   "cell_type": "code",
   "execution_count": null,
   "metadata": {},
   "outputs": [],
   "source": []
  }
 ],
 "metadata": {
  "kernelspec": {
   "display_name": "Python 3",
   "language": "python",
   "name": "python3"
  },
  "language_info": {
   "codemirror_mode": {
    "name": "ipython",
    "version": 3
   },
   "file_extension": ".py",
   "mimetype": "text/x-python",
   "name": "python",
   "nbconvert_exporter": "python",
   "pygments_lexer": "ipython3",
   "version": "3.7.2"
  }
 },
 "nbformat": 4,
 "nbformat_minor": 2
}
