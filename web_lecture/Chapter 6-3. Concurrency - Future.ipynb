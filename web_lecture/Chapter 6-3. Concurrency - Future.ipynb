{
 "cells": [
  {
   "cell_type": "markdown",
   "metadata": {},
   "source": [
    "## Future 동시성\n",
    "- 비동기 작업 실행\n",
    "- 적합한 작업일 경우 순차적 진행보다 압도적인 성능 향상\n",
    "- 지연시간(Block), CPU 및 리소스 낭비 방지, Network I/O 관련 작업 동시성 활용 권장"
   ]
  },
  {
   "cell_type": "markdown",
   "metadata": {},
   "source": [
    "1. 순차실행\n",
    "1. concurrent.futures 방법 1\n",
    "1. concurrent.futures 방법 2"
   ]
  },
  {
   "cell_type": "code",
   "execution_count": 1,
   "metadata": {},
   "outputs": [],
   "source": [
    "import os\n",
    "import time\n",
    "import sys\n",
    "import csv"
   ]
  },
  {
   "cell_type": "markdown",
   "metadata": {},
   "source": [
    "## 순차실행"
   ]
  },
  {
   "cell_type": "code",
   "execution_count": 2,
   "metadata": {},
   "outputs": [
    {
     "data": {
      "text/plain": [
       "['Singapore',\n",
       " 'Germany',\n",
       " 'Israel',\n",
       " 'Norway',\n",
       " 'Italy',\n",
       " 'Canada',\n",
       " 'France',\n",
       " 'Spain',\n",
       " 'Mexico']"
      ]
     },
     "execution_count": 2,
     "metadata": {},
     "output_type": "execute_result"
    }
   ],
   "source": [
    "NATION_LS = 'Singapore Germany Israel Norway Italy \\\n",
    "              Canada France Spain Mexico'.split()\n",
    "NATION_LS"
   ]
  },
  {
   "cell_type": "code",
   "execution_count": 3,
   "metadata": {},
   "outputs": [],
   "source": [
    "TARGET_CSV = './resources/nations.csv'\n",
    "DEST_DIR = './csvs'"
   ]
  },
  {
   "cell_type": "markdown",
   "metadata": {},
   "source": [
    "### csv 헤더 기초 정보"
   ]
  },
  {
   "cell_type": "code",
   "execution_count": 4,
   "metadata": {},
   "outputs": [
    {
     "data": {
      "text/plain": [
       "14"
      ]
     },
     "execution_count": 4,
     "metadata": {},
     "output_type": "execute_result"
    }
   ],
   "source": [
    "HEADER = ['Region','Country', 'Item Type', 'Sales Channel',\n",
    "          'Order Priority', 'Order Date', 'Order ID', 'Ship Date',\n",
    "          'Units Sold', 'Unit Price', 'Unit Cost', 'Total Revenue',\n",
    "          'Total Cost', 'Total Profit']\n",
    "len(HEADER)"
   ]
  },
  {
   "cell_type": "markdown",
   "metadata": {},
   "source": [
    "### 결과별 분리 함수\n"
   ]
  },
  {
   "cell_type": "code",
   "execution_count": 5,
   "metadata": {},
   "outputs": [],
   "source": [
    "def get_sales_data(nt):\n",
    "    with open(TARGET_CSV, 'r') as f:\n",
    "        reader = csv.DictReader(f)\n",
    "        # Dict을 리스트로 적재\n",
    "        data = []\n",
    "        # Header 확인\n",
    "        # print(reader.fieldnames)\n",
    "        for r in reader:\n",
    "            # OrderedDict 확인\n",
    "            # print(r)\n",
    "            # 조건에 맞는 국가만 삽입\n",
    "            if r['Country'] == nt:\n",
    "                data.append(r)\n",
    "    return data"
   ]
  },
  {
   "cell_type": "markdown",
   "metadata": {},
   "source": [
    "### 중간 상황 출력"
   ]
  },
  {
   "cell_type": "code",
   "execution_count": 6,
   "metadata": {},
   "outputs": [],
   "source": [
    "def show(text):\n",
    "    print(text, end=' ')\n",
    "    # 버퍼 비우기\n",
    "    sys.stdout.flush()"
   ]
  },
  {
   "cell_type": "markdown",
   "metadata": {},
   "source": [
    "### 국가별 csv 파일 저장"
   ]
  },
  {
   "cell_type": "code",
   "execution_count": 7,
   "metadata": {},
   "outputs": [],
   "source": [
    "def save_csv(data, filename):\n",
    "    # 최종 경로 생성\n",
    "    path = os.path.join(DEST_DIR, filename)\n",
    "    with open(path, 'w', newline='') as fp:\n",
    "        writer = csv.DictWriter(fp, fieldnames=HEADER)\n",
    "        # Header write\n",
    "        writer.writeheader()\n",
    "        # Dict to CSV write\n",
    "        for row in data:\n",
    "            writer.writerow(row)"
   ]
  },
  {
   "cell_type": "markdown",
   "metadata": {},
   "source": [
    "### 결과별 분리 함수 실행"
   ]
  },
  {
   "cell_type": "code",
   "execution_count": 8,
   "metadata": {},
   "outputs": [],
   "source": [
    "def separate_many(nt_list):\n",
    "    for nt in sorted(nt_list):\n",
    "        # 분리 데이터\n",
    "        data = get_sales_data(nt)\n",
    "        # 상황 출력\n",
    "        show(nt)\n",
    "        # 파일 저장\n",
    "        save_csv(data, nt.lower()+'.csv')\n",
    "    return len(nt_list)"
   ]
  },
  {
   "cell_type": "markdown",
   "metadata": {},
   "source": [
    "### main 함수 실행"
   ]
  },
  {
   "cell_type": "code",
   "execution_count": 9,
   "metadata": {},
   "outputs": [],
   "source": [
    "def main(sepratate_many):\n",
    "    # 시작 시간\n",
    "    start_tm = time.time()\n",
    "    # 결과 건수\n",
    "    result_cnt = sepratate_many(NATION_LS)\n",
    "    # 종료 시간\n",
    "    end_tm = time.time() - start_tm\n",
    "    # 최종 결과 출력\n",
    "    msg = '\\n{} csv seperated in {:.2f}s'\n",
    "    print(msg.format(result_cnt, end_tm))"
   ]
  },
  {
   "cell_type": "code",
   "execution_count": 10,
   "metadata": {},
   "outputs": [
    {
     "name": "stdout",
     "output_type": "stream",
     "text": [
      "Canada France Germany Israel Italy Mexico Norway Singapore Spain \n",
      "9 csv seperated in 18.36s\n"
     ]
    }
   ],
   "source": [
    "if __name__ == '__main__':\n",
    "    main(separate_many)"
   ]
  },
  {
   "cell_type": "markdown",
   "metadata": {},
   "source": [
    "## concurrent.futures 방법 1\n",
    "- `ThreadPoolExecutor`\n",
    "- 서로 다른 스레드 또는 프로세스에서 실행 가능\n",
    "- 내부 과정 알 필요 없으며, 고수준의 인터페이스 제공\n",
    "- GIL(Global Interface Lock): 한번에 한 개의 스레드만 수행할 수 있도록 인터프리터 자체에서 잠금을 거는 것"
   ]
  },
  {
   "cell_type": "code",
   "execution_count": 14,
   "metadata": {},
   "outputs": [],
   "source": [
    "from concurrent import futures"
   ]
  },
  {
   "cell_type": "code",
   "execution_count": 19,
   "metadata": {},
   "outputs": [],
   "source": [
    "def separate_many(nt):\n",
    "    # for nt in sorted(nt_list):  # 스레드로 동시 실행하므로 for문 필요 없음\n",
    "    # 분리 데이터\n",
    "    data = get_sales_data(nt)\n",
    "    # 상황 출력\n",
    "    show(nt)\n",
    "    # 파일 저장\n",
    "    save_csv(data, nt.lower()+'.csv')\n",
    "    return nt"
   ]
  },
  {
   "cell_type": "code",
   "execution_count": 24,
   "metadata": {},
   "outputs": [],
   "source": [
    "def main(sepratate_many):\n",
    "    # worker 개수\n",
    "    worker = min(20, len(NATION_LS))\n",
    "    # 시작 시간\n",
    "    start_tm = time.time()\n",
    "    # 결과 건수\n",
    "    with futures.ThreadPoolExecutor(worker) as executor:\n",
    "        # map -> 작업 순서 유지, 즉시 실행\n",
    "        result_cnt = executor.map(separate_many, sorted(NATION_LS))\n",
    "    # 종료 시간\n",
    "    end_tm = time.time() - start_tm\n",
    "    # 최종 결과 출력\n",
    "    msg = '\\n{} csv seperated in {:.2f}s'\n",
    "    print(msg.format(list(result_cnt), end_tm))"
   ]
  },
  {
   "cell_type": "code",
   "execution_count": 25,
   "metadata": {},
   "outputs": [
    {
     "name": "stdout",
     "output_type": "stream",
     "text": [
      "Germany CanadaSpain  Norway France IsraelMexico  Italy Singapore \n",
      "['Canada', 'France', 'Germany', 'Israel', 'Italy', 'Mexico', 'Norway', 'Singapore', 'Spain'] csv seperated in 19.70s\n"
     ]
    }
   ],
   "source": [
    "if __name__ == '__main__':\n",
    "    main(separate_many)"
   ]
  },
  {
   "cell_type": "markdown",
   "metadata": {},
   "source": [
    ">순차 진행보다 시간이 더 걸린다!! -> GIL 때문"
   ]
  },
  {
   "cell_type": "markdown",
   "metadata": {},
   "source": [
    "GIL을 우회하기 위해서는 `ProcessPoolExecutor` 필요"
   ]
  },
  {
   "cell_type": "markdown",
   "metadata": {},
   "source": [
    "### concurrent.futures 방법 2\n",
    "- `ProcessPoolExecutor`"
   ]
  },
  {
   "cell_type": "code",
   "execution_count": 40,
   "metadata": {},
   "outputs": [],
   "source": [
    "def main(sepratate_many):\n",
    "    # worker 개수\n",
    "    worker = min(20, len(NATION_LS))\n",
    "    # 시작 시간\n",
    "    start_tm = time.time()\n",
    "    # futures\n",
    "    futures_list = []\n",
    "    # 결과 건수\n",
    "    # ThreadPoolExecutor: GIL에 종속됨\n",
    "    # ProcessPoolExecutor: GIL을 우회, 변경 후 -> os.cpu_count()\n",
    "    with futures.ProcessPoolExecutor(worker) as executor:\n",
    "        # Submit -> Callable 객체 스케줄링 (실행 예약) -> Future\n",
    "        # Future -> result(), done(), as_complete() 주로 사용\n",
    "        for nt in sorted(NATION_LS):\n",
    "            # future 반환\n",
    "            future = executor.submit(separate_many, nt)\n",
    "            # 스케줄링\n",
    "            futures_list.append(future)\n",
    "            # 출력1\n",
    "            print('Scheduled for {}: {}'.format(nt, future))\n",
    "        for future in futures.as_completed(futures_list):\n",
    "            result = future.result()\n",
    "            done = future.done()\n",
    "            cancelled = future.cancelled\n",
    "            # future 결과 확인\n",
    "            print('Future result: {}, Done: {}'.format(result, done))\n",
    "            print('Future cancelled: {}'.format(cancelled))\n",
    "\n",
    "    # 종료 시간\n",
    "    end_tm = time.time() - start_tm\n",
    "    # 최종 결과 출력\n",
    "    msg = '\\n csv seperated in {:.2f}s'\n",
    "    # print(msg.format(list(futures_list), end_tm))\n",
    "    print(msg.format(end_tm))"
   ]
  },
  {
   "cell_type": "code",
   "execution_count": 41,
   "metadata": {},
   "outputs": [
    {
     "name": "stdout",
     "output_type": "stream",
     "text": [
      "Scheduled for Canada: <Future at 0x11ff4ee10 state=running>\n",
      "Scheduled for France: <Future at 0x11ff60ba8 state=pending>\n",
      "Scheduled for Germany: <Future at 0x11ff60b38 state=pending>\n",
      "Scheduled for Israel: <Future at 0x11ff62b70 state=pending>\n",
      "Scheduled for Italy: <Future at 0x11ff1ab70 state=pending>\n",
      "Scheduled for Mexico: <Future at 0x11ff1ad30 state=pending>\n",
      "Scheduled for Norway: <Future at 0x11ff1a9b0 state=pending>\n",
      "Scheduled for Singapore: <Future at 0x11ff1a390 state=pending>\n",
      "Scheduled for Spain: <Future at 0x11ff1a550 state=pending>\n",
      "France Norway Germany Mexico Singapore Canada Spain Israel Italy Future result: France, Done: True\n",
      "Future cancelled: <bound method Future.cancelled of <Future at 0x11ff60ba8 state=finished returned str>>\n",
      "Future result: Norway, Done: True\n",
      "Future cancelled: <bound method Future.cancelled of <Future at 0x11ff1a9b0 state=finished returned str>>\n",
      "Future result: Germany, Done: True\n",
      "Future cancelled: <bound method Future.cancelled of <Future at 0x11ff60b38 state=finished returned str>>\n",
      "Future result: Mexico, Done: True\n",
      "Future cancelled: <bound method Future.cancelled of <Future at 0x11ff1ad30 state=finished returned str>>\n",
      "Future result: Singapore, Done: True\n",
      "Future cancelled: <bound method Future.cancelled of <Future at 0x11ff1a390 state=finished returned str>>\n",
      "Future result: Canada, Done: True\n",
      "Future cancelled: <bound method Future.cancelled of <Future at 0x11ff4ee10 state=finished returned str>>\n",
      "Future result: Spain, Done: True\n",
      "Future cancelled: <bound method Future.cancelled of <Future at 0x11ff1a550 state=finished returned str>>\n",
      "Future result: Israel, Done: True\n",
      "Future cancelled: <bound method Future.cancelled of <Future at 0x11ff62b70 state=finished returned str>>\n",
      "Future result: Italy, Done: True\n",
      "Future cancelled: <bound method Future.cancelled of <Future at 0x11ff1ab70 state=finished returned str>>\n",
      "\n",
      " csv seperated in 3.42s\n"
     ]
    }
   ],
   "source": [
    "if __name__ == '__main__':\n",
    "    main(separate_many)"
   ]
  },
  {
   "cell_type": "markdown",
   "metadata": {},
   "source": [
    "## Conclusion\n",
    "- I/O bound task -> `ThreadPoolExecutor`\n",
    "- CPU bound task -> `ProcessPoolExecutor`"
   ]
  },
  {
   "cell_type": "markdown",
   "metadata": {},
   "source": [
    "---"
   ]
  }
 ],
 "metadata": {
  "kernelspec": {
   "display_name": "Python 3",
   "language": "python",
   "name": "python3"
  },
  "language_info": {
   "codemirror_mode": {
    "name": "ipython",
    "version": 3
   },
   "file_extension": ".py",
   "mimetype": "text/x-python",
   "name": "python",
   "nbconvert_exporter": "python",
   "pygments_lexer": "ipython3",
   "version": "3.7.2"
  }
 },
 "nbformat": 4,
 "nbformat_minor": 4
}
