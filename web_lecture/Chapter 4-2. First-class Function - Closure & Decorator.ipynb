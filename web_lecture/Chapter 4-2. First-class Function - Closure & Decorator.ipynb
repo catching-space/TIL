{
 "cells": [
  {
   "cell_type": "code",
   "execution_count": 1,
   "metadata": {},
   "outputs": [],
   "source": [
    "def func_v1(a):\n",
    "    print(a)\n",
    "    print(b)"
   ]
  },
  {
   "cell_type": "code",
   "execution_count": 2,
   "metadata": {},
   "outputs": [
    {
     "name": "stdout",
     "output_type": "stream",
     "text": [
      "5\n"
     ]
    },
    {
     "ename": "NameError",
     "evalue": "name 'b' is not defined",
     "output_type": "error",
     "traceback": [
      "\u001b[0;31m---------------------------------------------------------------------------\u001b[0m",
      "\u001b[0;31mNameError\u001b[0m                                 Traceback (most recent call last)",
      "\u001b[0;32m<ipython-input-2-e533ec3426c8>\u001b[0m in \u001b[0;36m<module>\u001b[0;34m\u001b[0m\n\u001b[0;32m----> 1\u001b[0;31m \u001b[0mfunc_v1\u001b[0m\u001b[0;34m(\u001b[0m\u001b[0;36m5\u001b[0m\u001b[0;34m)\u001b[0m\u001b[0;34m\u001b[0m\u001b[0;34m\u001b[0m\u001b[0m\n\u001b[0m",
      "\u001b[0;32m<ipython-input-1-f4396b245914>\u001b[0m in \u001b[0;36mfunc_v1\u001b[0;34m(a)\u001b[0m\n\u001b[1;32m      1\u001b[0m \u001b[0;32mdef\u001b[0m \u001b[0mfunc_v1\u001b[0m\u001b[0;34m(\u001b[0m\u001b[0ma\u001b[0m\u001b[0;34m)\u001b[0m\u001b[0;34m:\u001b[0m\u001b[0;34m\u001b[0m\u001b[0;34m\u001b[0m\u001b[0m\n\u001b[1;32m      2\u001b[0m     \u001b[0mprint\u001b[0m\u001b[0;34m(\u001b[0m\u001b[0ma\u001b[0m\u001b[0;34m)\u001b[0m\u001b[0;34m\u001b[0m\u001b[0;34m\u001b[0m\u001b[0m\n\u001b[0;32m----> 3\u001b[0;31m     \u001b[0mprint\u001b[0m\u001b[0;34m(\u001b[0m\u001b[0mb\u001b[0m\u001b[0;34m)\u001b[0m\u001b[0;34m\u001b[0m\u001b[0;34m\u001b[0m\u001b[0m\n\u001b[0m",
      "\u001b[0;31mNameError\u001b[0m: name 'b' is not defined"
     ]
    }
   ],
   "source": [
    "func_v1(5)"
   ]
  },
  {
   "cell_type": "markdown",
   "metadata": {},
   "source": [
    ">Not define error 발생"
   ]
  },
  {
   "cell_type": "code",
   "execution_count": 3,
   "metadata": {},
   "outputs": [],
   "source": [
    "b = 10\n",
    "\n",
    "def func_v2(a):\n",
    "    print(a)\n",
    "    print(b)"
   ]
  },
  {
   "cell_type": "code",
   "execution_count": 4,
   "metadata": {},
   "outputs": [
    {
     "name": "stdout",
     "output_type": "stream",
     "text": [
      "5\n",
      "10\n"
     ]
    }
   ],
   "source": [
    "func_v2(5)"
   ]
  },
  {
   "cell_type": "code",
   "execution_count": 5,
   "metadata": {},
   "outputs": [],
   "source": [
    "def func_v3(a):\n",
    "    print(a)\n",
    "    print(b)\n",
    "    b = 5"
   ]
  },
  {
   "cell_type": "code",
   "execution_count": 6,
   "metadata": {},
   "outputs": [
    {
     "name": "stdout",
     "output_type": "stream",
     "text": [
      "5\n"
     ]
    },
    {
     "ename": "UnboundLocalError",
     "evalue": "local variable 'b' referenced before assignment",
     "output_type": "error",
     "traceback": [
      "\u001b[0;31m---------------------------------------------------------------------------\u001b[0m",
      "\u001b[0;31mUnboundLocalError\u001b[0m                         Traceback (most recent call last)",
      "\u001b[0;32m<ipython-input-6-d0889f9d1cf8>\u001b[0m in \u001b[0;36m<module>\u001b[0;34m\u001b[0m\n\u001b[0;32m----> 1\u001b[0;31m \u001b[0mfunc_v3\u001b[0m\u001b[0;34m(\u001b[0m\u001b[0;36m5\u001b[0m\u001b[0;34m)\u001b[0m\u001b[0;34m\u001b[0m\u001b[0;34m\u001b[0m\u001b[0m\n\u001b[0m",
      "\u001b[0;32m<ipython-input-5-a705b7506b8d>\u001b[0m in \u001b[0;36mfunc_v3\u001b[0;34m(a)\u001b[0m\n\u001b[1;32m      1\u001b[0m \u001b[0;32mdef\u001b[0m \u001b[0mfunc_v3\u001b[0m\u001b[0;34m(\u001b[0m\u001b[0ma\u001b[0m\u001b[0;34m)\u001b[0m\u001b[0;34m:\u001b[0m\u001b[0;34m\u001b[0m\u001b[0;34m\u001b[0m\u001b[0m\n\u001b[1;32m      2\u001b[0m     \u001b[0mprint\u001b[0m\u001b[0;34m(\u001b[0m\u001b[0ma\u001b[0m\u001b[0;34m)\u001b[0m\u001b[0;34m\u001b[0m\u001b[0;34m\u001b[0m\u001b[0m\n\u001b[0;32m----> 3\u001b[0;31m     \u001b[0mprint\u001b[0m\u001b[0;34m(\u001b[0m\u001b[0mb\u001b[0m\u001b[0;34m)\u001b[0m\u001b[0;34m\u001b[0m\u001b[0;34m\u001b[0m\u001b[0m\n\u001b[0m\u001b[1;32m      4\u001b[0m     \u001b[0mb\u001b[0m \u001b[0;34m=\u001b[0m \u001b[0;36m5\u001b[0m\u001b[0;34m\u001b[0m\u001b[0;34m\u001b[0m\u001b[0m\n",
      "\u001b[0;31mUnboundLocalError\u001b[0m: local variable 'b' referenced before assignment"
     ]
    }
   ],
   "source": [
    "func_v3(5)"
   ]
  },
  {
   "cell_type": "markdown",
   "metadata": {},
   "source": [
    ">함수의 local scope 내 변수 b값을 할당하기 이전에 출력을 하려고 하니 오류가 발생. 전역변수 b가 존재하지만 함수 내에서는 local scope가 우선시된다."
   ]
  },
  {
   "cell_type": "code",
   "execution_count": 7,
   "metadata": {},
   "outputs": [],
   "source": [
    "from dis import dis"
   ]
  },
  {
   "cell_type": "code",
   "execution_count": 8,
   "metadata": {},
   "outputs": [
    {
     "name": "stdout",
     "output_type": "stream",
     "text": [
      "  2           0 LOAD_GLOBAL              0 (print)\n",
      "              2 LOAD_FAST                0 (a)\n",
      "              4 CALL_FUNCTION            1\n",
      "              6 POP_TOP\n",
      "\n",
      "  3           8 LOAD_GLOBAL              0 (print)\n",
      "             10 LOAD_FAST                1 (b)\n",
      "             12 CALL_FUNCTION            1\n",
      "             14 POP_TOP\n",
      "\n",
      "  4          16 LOAD_CONST               1 (5)\n",
      "             18 STORE_FAST               1 (b)\n",
      "             20 LOAD_CONST               0 (None)\n",
      "             22 RETURN_VALUE\n",
      "None\n"
     ]
    }
   ],
   "source": [
    "print(dis(func_v3))"
   ]
  },
  {
   "cell_type": "markdown",
   "metadata": {},
   "source": [
    "## Closure\n",
    "- 반환되는 내부 함수에 대해서 선언된 연결을 가지고 참조하는 방식\n",
    "- 반환 당시 함수 유효범위를 벗어난 변수 또는 메소드에 직접 접근이 가능하다. "
   ]
  },
  {
   "cell_type": "code",
   "execution_count": 10,
   "metadata": {},
   "outputs": [
    {
     "name": "stdout",
     "output_type": "stream",
     "text": [
      "20\n"
     ]
    }
   ],
   "source": [
    "a = 10\n",
    "\n",
    "print(a + 10)"
   ]
  },
  {
   "cell_type": "code",
   "execution_count": 11,
   "metadata": {},
   "outputs": [
    {
     "name": "stdout",
     "output_type": "stream",
     "text": [
      "110\n"
     ]
    }
   ],
   "source": [
    "print(a + 100)"
   ]
  },
  {
   "cell_type": "markdown",
   "metadata": {},
   "source": [
    "### 결과를 누적하고자 할 때"
   ]
  },
  {
   "cell_type": "code",
   "execution_count": 12,
   "metadata": {},
   "outputs": [
    {
     "name": "stdout",
     "output_type": "stream",
     "text": [
      "1275\n"
     ]
    }
   ],
   "source": [
    "print(sum(range(1, 51)))"
   ]
  },
  {
   "cell_type": "code",
   "execution_count": 13,
   "metadata": {},
   "outputs": [
    {
     "name": "stdout",
     "output_type": "stream",
     "text": [
      "3775\n"
     ]
    }
   ],
   "source": [
    "print(sum(range(51, 101)))"
   ]
  },
  {
   "cell_type": "markdown",
   "metadata": {},
   "source": [
    "### Class 이용"
   ]
  },
  {
   "cell_type": "code",
   "execution_count": 26,
   "metadata": {},
   "outputs": [],
   "source": [
    "class Averager():\n",
    "    def __init__(self):\n",
    "        self._series = []\n",
    "        \n",
    "    def __call__(self, v):\n",
    "        self._series.append(v)\n",
    "        print('class >>> {} / {}'.format(self._series, len(self._series)))\n",
    "        return sum(self._series) / len(self._series)"
   ]
  },
  {
   "cell_type": "code",
   "execution_count": 27,
   "metadata": {},
   "outputs": [],
   "source": [
    "avg_cls = Averager()"
   ]
  },
  {
   "cell_type": "markdown",
   "metadata": {},
   "source": [
    "#### 누적 확인"
   ]
  },
  {
   "cell_type": "code",
   "execution_count": 28,
   "metadata": {},
   "outputs": [
    {
     "name": "stdout",
     "output_type": "stream",
     "text": [
      "class >>> [15] / 1\n"
     ]
    },
    {
     "data": {
      "text/plain": [
       "15.0"
      ]
     },
     "execution_count": 28,
     "metadata": {},
     "output_type": "execute_result"
    }
   ],
   "source": [
    "avg_cls(15)"
   ]
  },
  {
   "cell_type": "code",
   "execution_count": 29,
   "metadata": {},
   "outputs": [
    {
     "name": "stdout",
     "output_type": "stream",
     "text": [
      "class >>> [15, 35] / 2\n"
     ]
    },
    {
     "data": {
      "text/plain": [
       "25.0"
      ]
     },
     "execution_count": 29,
     "metadata": {},
     "output_type": "execute_result"
    }
   ],
   "source": [
    "avg_cls(35)"
   ]
  },
  {
   "cell_type": "code",
   "execution_count": 30,
   "metadata": {},
   "outputs": [
    {
     "name": "stdout",
     "output_type": "stream",
     "text": [
      "class >>> [15, 35, 40] / 3\n"
     ]
    },
    {
     "data": {
      "text/plain": [
       "30.0"
      ]
     },
     "execution_count": 30,
     "metadata": {},
     "output_type": "execute_result"
    }
   ],
   "source": [
    "avg_cls(40)"
   ]
  },
  {
   "cell_type": "markdown",
   "metadata": {},
   "source": [
    "### Closure 사용\n",
    "- 전역변수 사용 감소\n",
    "- 디자인 패턴에 적용"
   ]
  },
  {
   "cell_type": "code",
   "execution_count": 31,
   "metadata": {},
   "outputs": [],
   "source": [
    "def closure_avg1():\n",
    "    # Free variable\n",
    "    series = []\n",
    "    # 클로저 영역\n",
    "    def averager(v):\n",
    "#         series = []  # check\n",
    "        series.append(v)\n",
    "        print('class >>> {} / {}'.format(series, len(series)))\n",
    "        return sum(series) / len(series)\n",
    "    return averager"
   ]
  },
  {
   "cell_type": "code",
   "execution_count": 32,
   "metadata": {},
   "outputs": [],
   "source": [
    "avg_closure1 = closure_avg1()"
   ]
  },
  {
   "cell_type": "code",
   "execution_count": 34,
   "metadata": {},
   "outputs": [
    {
     "name": "stdout",
     "output_type": "stream",
     "text": [
      "<function closure_avg1.<locals>.averager at 0x1238cb950>\n"
     ]
    }
   ],
   "source": [
    "print(avg_closure1)"
   ]
  },
  {
   "cell_type": "code",
   "execution_count": 35,
   "metadata": {},
   "outputs": [
    {
     "name": "stdout",
     "output_type": "stream",
     "text": [
      "class >>> [15] / 1\n",
      "15.0\n",
      "class >>> [15, 35] / 2\n",
      "25.0\n",
      "class >>> [15, 35, 40] / 3\n",
      "30.0\n"
     ]
    }
   ],
   "source": [
    "print(avg_closure1(15))\n",
    "print(avg_closure1(35))\n",
    "print(avg_closure1(40))"
   ]
  },
  {
   "cell_type": "code",
   "execution_count": 36,
   "metadata": {},
   "outputs": [
    {
     "data": {
      "text/plain": [
       "['__annotations__',\n",
       " '__call__',\n",
       " '__class__',\n",
       " '__closure__',\n",
       " '__code__',\n",
       " '__defaults__',\n",
       " '__delattr__',\n",
       " '__dict__',\n",
       " '__dir__',\n",
       " '__doc__',\n",
       " '__eq__',\n",
       " '__format__',\n",
       " '__ge__',\n",
       " '__get__',\n",
       " '__getattribute__',\n",
       " '__globals__',\n",
       " '__gt__',\n",
       " '__hash__',\n",
       " '__init__',\n",
       " '__init_subclass__',\n",
       " '__kwdefaults__',\n",
       " '__le__',\n",
       " '__lt__',\n",
       " '__module__',\n",
       " '__name__',\n",
       " '__ne__',\n",
       " '__new__',\n",
       " '__qualname__',\n",
       " '__reduce__',\n",
       " '__reduce_ex__',\n",
       " '__repr__',\n",
       " '__setattr__',\n",
       " '__sizeof__',\n",
       " '__str__',\n",
       " '__subclasshook__']"
      ]
     },
     "execution_count": 36,
     "metadata": {},
     "output_type": "execute_result"
    }
   ],
   "source": [
    "dir(avg_closure1)"
   ]
  },
  {
   "cell_type": "code",
   "execution_count": 37,
   "metadata": {},
   "outputs": [
    {
     "data": {
      "text/plain": [
       "['__class__',\n",
       " '__delattr__',\n",
       " '__dir__',\n",
       " '__doc__',\n",
       " '__eq__',\n",
       " '__format__',\n",
       " '__ge__',\n",
       " '__getattribute__',\n",
       " '__gt__',\n",
       " '__hash__',\n",
       " '__init__',\n",
       " '__init_subclass__',\n",
       " '__le__',\n",
       " '__lt__',\n",
       " '__ne__',\n",
       " '__new__',\n",
       " '__reduce__',\n",
       " '__reduce_ex__',\n",
       " '__repr__',\n",
       " '__setattr__',\n",
       " '__sizeof__',\n",
       " '__str__',\n",
       " '__subclasshook__',\n",
       " 'co_argcount',\n",
       " 'co_cellvars',\n",
       " 'co_code',\n",
       " 'co_consts',\n",
       " 'co_filename',\n",
       " 'co_firstlineno',\n",
       " 'co_flags',\n",
       " 'co_freevars',\n",
       " 'co_kwonlyargcount',\n",
       " 'co_lnotab',\n",
       " 'co_name',\n",
       " 'co_names',\n",
       " 'co_nlocals',\n",
       " 'co_stacksize',\n",
       " 'co_varnames']"
      ]
     },
     "execution_count": 37,
     "metadata": {},
     "output_type": "execute_result"
    }
   ],
   "source": [
    "dir(avg_closure1.__code__)"
   ]
  },
  {
   "cell_type": "markdown",
   "metadata": {},
   "source": [
    ">`co_freevars`: 자유 함수 영역 "
   ]
  },
  {
   "cell_type": "code",
   "execution_count": 38,
   "metadata": {},
   "outputs": [
    {
     "data": {
      "text/plain": [
       "('series',)"
      ]
     },
     "execution_count": 38,
     "metadata": {},
     "output_type": "execute_result"
    }
   ],
   "source": [
    "avg_closure1.__code__.co_freevars"
   ]
  },
  {
   "cell_type": "code",
   "execution_count": 42,
   "metadata": {},
   "outputs": [
    {
     "data": {
      "text/plain": [
       "['__class__',\n",
       " '__delattr__',\n",
       " '__dir__',\n",
       " '__doc__',\n",
       " '__eq__',\n",
       " '__format__',\n",
       " '__ge__',\n",
       " '__getattribute__',\n",
       " '__gt__',\n",
       " '__hash__',\n",
       " '__init__',\n",
       " '__init_subclass__',\n",
       " '__le__',\n",
       " '__lt__',\n",
       " '__ne__',\n",
       " '__new__',\n",
       " '__reduce__',\n",
       " '__reduce_ex__',\n",
       " '__repr__',\n",
       " '__setattr__',\n",
       " '__sizeof__',\n",
       " '__str__',\n",
       " '__subclasshook__',\n",
       " 'cell_contents']"
      ]
     },
     "execution_count": 42,
     "metadata": {},
     "output_type": "execute_result"
    }
   ],
   "source": [
    "dir(avg_closure1.__closure__[0])"
   ]
  },
  {
   "cell_type": "markdown",
   "metadata": {},
   "source": [
    "#### `cell_contents`"
   ]
  },
  {
   "cell_type": "code",
   "execution_count": 43,
   "metadata": {},
   "outputs": [
    {
     "data": {
      "text/plain": [
       "['__add__',\n",
       " '__class__',\n",
       " '__contains__',\n",
       " '__delattr__',\n",
       " '__delitem__',\n",
       " '__dir__',\n",
       " '__doc__',\n",
       " '__eq__',\n",
       " '__format__',\n",
       " '__ge__',\n",
       " '__getattribute__',\n",
       " '__getitem__',\n",
       " '__gt__',\n",
       " '__hash__',\n",
       " '__iadd__',\n",
       " '__imul__',\n",
       " '__init__',\n",
       " '__init_subclass__',\n",
       " '__iter__',\n",
       " '__le__',\n",
       " '__len__',\n",
       " '__lt__',\n",
       " '__mul__',\n",
       " '__ne__',\n",
       " '__new__',\n",
       " '__reduce__',\n",
       " '__reduce_ex__',\n",
       " '__repr__',\n",
       " '__reversed__',\n",
       " '__rmul__',\n",
       " '__setattr__',\n",
       " '__setitem__',\n",
       " '__sizeof__',\n",
       " '__str__',\n",
       " '__subclasshook__',\n",
       " 'append',\n",
       " 'clear',\n",
       " 'copy',\n",
       " 'count',\n",
       " 'extend',\n",
       " 'index',\n",
       " 'insert',\n",
       " 'pop',\n",
       " 'remove',\n",
       " 'reverse',\n",
       " 'sort']"
      ]
     },
     "execution_count": 43,
     "metadata": {},
     "output_type": "execute_result"
    }
   ],
   "source": [
    "dir(avg_closure1.__closure__[0].cell_contents)"
   ]
  },
  {
   "cell_type": "markdown",
   "metadata": {},
   "source": [
    "### 잘못된 Closure의 사용 예"
   ]
  },
  {
   "cell_type": "code",
   "execution_count": 61,
   "metadata": {},
   "outputs": [],
   "source": [
    "def closure_avg2():\n",
    "    # Free variable\n",
    "    cnt = 0\n",
    "    total = 0\n",
    "    \n",
    "    def averager(v):\n",
    "        nonlocal cnt, total\n",
    "        cnt += 1\n",
    "        total += v\n",
    "        print('def2 >>> {} / {}'.format(total, cnt))\n",
    "        return total / cnt\n",
    "    \n",
    "    return averager"
   ]
  },
  {
   "cell_type": "code",
   "execution_count": 62,
   "metadata": {},
   "outputs": [],
   "source": [
    "avg_closure2 = closure_avg2()"
   ]
  },
  {
   "cell_type": "markdown",
   "metadata": {},
   "source": [
    "`nonlocal cnt, total` 없을 시 에러 발생"
   ]
  },
  {
   "cell_type": "code",
   "execution_count": 47,
   "metadata": {},
   "outputs": [
    {
     "ename": "UnboundLocalError",
     "evalue": "local variable 'cnt' referenced before assignment",
     "output_type": "error",
     "traceback": [
      "\u001b[0;31m---------------------------------------------------------------------------\u001b[0m",
      "\u001b[0;31mUnboundLocalError\u001b[0m                         Traceback (most recent call last)",
      "\u001b[0;32m<ipython-input-47-0800422e438b>\u001b[0m in \u001b[0;36m<module>\u001b[0;34m\u001b[0m\n\u001b[0;32m----> 1\u001b[0;31m \u001b[0mavg_closure2\u001b[0m\u001b[0;34m(\u001b[0m\u001b[0;36m15\u001b[0m\u001b[0;34m)\u001b[0m\u001b[0;34m\u001b[0m\u001b[0;34m\u001b[0m\u001b[0m\n\u001b[0m",
      "\u001b[0;32m<ipython-input-45-215f3cb824a7>\u001b[0m in \u001b[0;36maverager\u001b[0;34m(v)\u001b[0m\n\u001b[1;32m      5\u001b[0m \u001b[0;34m\u001b[0m\u001b[0m\n\u001b[1;32m      6\u001b[0m     \u001b[0;32mdef\u001b[0m \u001b[0maverager\u001b[0m\u001b[0;34m(\u001b[0m\u001b[0mv\u001b[0m\u001b[0;34m)\u001b[0m\u001b[0;34m:\u001b[0m\u001b[0;34m\u001b[0m\u001b[0;34m\u001b[0m\u001b[0m\n\u001b[0;32m----> 7\u001b[0;31m         \u001b[0mcnt\u001b[0m \u001b[0;34m+=\u001b[0m \u001b[0;36m1\u001b[0m\u001b[0;34m\u001b[0m\u001b[0;34m\u001b[0m\u001b[0m\n\u001b[0m\u001b[1;32m      8\u001b[0m         \u001b[0mtotal\u001b[0m \u001b[0;34m+=\u001b[0m \u001b[0mv\u001b[0m\u001b[0;34m\u001b[0m\u001b[0;34m\u001b[0m\u001b[0m\n\u001b[1;32m      9\u001b[0m         \u001b[0;32mreturn\u001b[0m \u001b[0mtotal\u001b[0m \u001b[0;34m/\u001b[0m \u001b[0mcnt\u001b[0m\u001b[0;34m\u001b[0m\u001b[0;34m\u001b[0m\u001b[0m\n",
      "\u001b[0;31mUnboundLocalError\u001b[0m: local variable 'cnt' referenced before assignment"
     ]
    }
   ],
   "source": [
    "avg_closure2(15)"
   ]
  },
  {
   "cell_type": "code",
   "execution_count": 63,
   "metadata": {},
   "outputs": [
    {
     "name": "stdout",
     "output_type": "stream",
     "text": [
      "def2 >>> 15 / 1\n"
     ]
    },
    {
     "data": {
      "text/plain": [
       "15.0"
      ]
     },
     "execution_count": 63,
     "metadata": {},
     "output_type": "execute_result"
    }
   ],
   "source": [
    "avg_closure2(15)"
   ]
  },
  {
   "cell_type": "code",
   "execution_count": 64,
   "metadata": {},
   "outputs": [
    {
     "name": "stdout",
     "output_type": "stream",
     "text": [
      "def2 >>> 50 / 2\n"
     ]
    },
    {
     "data": {
      "text/plain": [
       "25.0"
      ]
     },
     "execution_count": 64,
     "metadata": {},
     "output_type": "execute_result"
    }
   ],
   "source": [
    "avg_closure2(35)"
   ]
  },
  {
   "cell_type": "code",
   "execution_count": 65,
   "metadata": {},
   "outputs": [
    {
     "name": "stdout",
     "output_type": "stream",
     "text": [
      "def2 >>> 90 / 3\n"
     ]
    },
    {
     "data": {
      "text/plain": [
       "30.0"
      ]
     },
     "execution_count": 65,
     "metadata": {},
     "output_type": "execute_result"
    }
   ],
   "source": [
    "avg_closure2(40)"
   ]
  },
  {
   "cell_type": "markdown",
   "metadata": {},
   "source": [
    "## Decorator\n",
    "- 중복 제거\n",
    "- 클로저 사용할때보다 문법이 간결함\n",
    "- 조합해서 사용하는 것이 용이\n",
    "- 디버깅 어려워지는 단점 (에러 발생 지점을 추척하는 것이 어려움)"
   ]
  },
  {
   "cell_type": "code",
   "execution_count": 67,
   "metadata": {},
   "outputs": [],
   "source": [
    "import time\n",
    "\n",
    "def perf_clock(func):\n",
    "    def perf_clocked(*args):\n",
    "        # 시작 시간\n",
    "        st = time.perf_counter()\n",
    "        result = func(*args)\n",
    "        # 종료 시간\n",
    "        et = time.perf_counter() - st\n",
    "        # 함수명\n",
    "        name = func.__name__\n",
    "        # 매개변수\n",
    "        arg_str = ','.join(repr(arg) for arg in args)\n",
    "        # 출력\n",
    "        print('[%0.5fs] %s(%s) -> %r' % (et, name, arg_str, result))\n",
    "        return result\n",
    "    return perf_clocked"
   ]
  },
  {
   "cell_type": "markdown",
   "metadata": {},
   "source": [
    "#### Decorator 미사용"
   ]
  },
  {
   "cell_type": "code",
   "execution_count": 75,
   "metadata": {},
   "outputs": [],
   "source": [
    "def time_func(second):\n",
    "    time.sleep(second)\n",
    "    \n",
    "def sum_func(*numbers):\n",
    "    return sum(numbers)\n",
    "\n",
    "def fact_func(n):\n",
    "    return 1 if n < 2 else n * fact_func(n-1)"
   ]
  },
  {
   "cell_type": "code",
   "execution_count": 76,
   "metadata": {},
   "outputs": [],
   "source": [
    "non_deco1 = perf_clock(time_func)\n",
    "non_deco2 = perf_clock(sum_func)\n",
    "non_deco3 = perf_clock(fact_func)"
   ]
  },
  {
   "cell_type": "code",
   "execution_count": 77,
   "metadata": {},
   "outputs": [
    {
     "name": "stdout",
     "output_type": "stream",
     "text": [
      "<function perf_clock.<locals>.perf_clocked at 0x12375e400> ('func',)\n",
      "<function perf_clock.<locals>.perf_clocked at 0x12375e488> ('func',)\n",
      "<function perf_clock.<locals>.perf_clocked at 0x12375eb70> ('func',)\n"
     ]
    }
   ],
   "source": [
    "print(non_deco1, non_deco1.__code__.co_freevars)\n",
    "print(non_deco2, non_deco2.__code__.co_freevars)\n",
    "print(non_deco3, non_deco3.__code__.co_freevars)"
   ]
  },
  {
   "cell_type": "code",
   "execution_count": 87,
   "metadata": {},
   "outputs": [
    {
     "name": "stdout",
     "output_type": "stream",
     "text": [
      "[2.00436s] time_func(2) -> None\n"
     ]
    }
   ],
   "source": [
    "non_deco1(2)"
   ]
  },
  {
   "cell_type": "code",
   "execution_count": 88,
   "metadata": {},
   "outputs": [
    {
     "name": "stdout",
     "output_type": "stream",
     "text": [
      "[0.00000s] sum_func(100,200,300,500) -> 1100\n"
     ]
    },
    {
     "data": {
      "text/plain": [
       "1100"
      ]
     },
     "execution_count": 88,
     "metadata": {},
     "output_type": "execute_result"
    }
   ],
   "source": [
    "non_deco2(100, 200, 300, 500)"
   ]
  },
  {
   "cell_type": "code",
   "execution_count": 89,
   "metadata": {},
   "outputs": [
    {
     "name": "stdout",
     "output_type": "stream",
     "text": [
      "[0.00003s] fact_func(100) -> 93326215443944152681699238856266700490715968264381621468592963895217599993229915608941463976156518286253697920827223758251185210916864000000000000000000000000\n"
     ]
    },
    {
     "data": {
      "text/plain": [
       "93326215443944152681699238856266700490715968264381621468592963895217599993229915608941463976156518286253697920827223758251185210916864000000000000000000000000"
      ]
     },
     "execution_count": 89,
     "metadata": {},
     "output_type": "execute_result"
    }
   ],
   "source": [
    "non_deco3(100)"
   ]
  },
  {
   "cell_type": "markdown",
   "metadata": {},
   "source": [
    "#### Decorator 사용"
   ]
  },
  {
   "cell_type": "code",
   "execution_count": 93,
   "metadata": {},
   "outputs": [],
   "source": [
    "@perf_clock\n",
    "def time_func(second):\n",
    "    time.sleep(second)\n",
    "    \n",
    "@perf_clock\n",
    "def sum_func(*numbers):\n",
    "    return sum(numbers)\n",
    "\n",
    "@perf_clock\n",
    "def fact_func(n):\n",
    "    return 1 if n < 2 else n * fact_func(n-1)"
   ]
  },
  {
   "cell_type": "code",
   "execution_count": 94,
   "metadata": {},
   "outputs": [
    {
     "name": "stdout",
     "output_type": "stream",
     "text": [
      "[2.00203s] time_func(2) -> None\n"
     ]
    }
   ],
   "source": [
    "time_func(2)"
   ]
  },
  {
   "cell_type": "code",
   "execution_count": 95,
   "metadata": {},
   "outputs": [
    {
     "name": "stdout",
     "output_type": "stream",
     "text": [
      "[0.00000s] sum_func(100,200,300,500) -> 1100\n"
     ]
    },
    {
     "data": {
      "text/plain": [
       "1100"
      ]
     },
     "execution_count": 95,
     "metadata": {},
     "output_type": "execute_result"
    }
   ],
   "source": [
    "sum_func(100, 200, 300, 500)"
   ]
  },
  {
   "cell_type": "code",
   "execution_count": 96,
   "metadata": {
    "scrolled": false
   },
   "outputs": [
    {
     "name": "stdout",
     "output_type": "stream",
     "text": [
      "[0.00000s] fact_func(1) -> 1\n",
      "[0.00005s] fact_func(2) -> 2\n",
      "[0.00027s] fact_func(3) -> 6\n",
      "[0.00035s] fact_func(4) -> 24\n",
      "[0.00038s] fact_func(5) -> 120\n",
      "[0.00041s] fact_func(6) -> 720\n",
      "[0.00104s] fact_func(7) -> 5040\n",
      "[0.00107s] fact_func(8) -> 40320\n",
      "[0.00109s] fact_func(9) -> 362880\n",
      "[0.00110s] fact_func(10) -> 3628800\n",
      "[0.00137s] fact_func(11) -> 39916800\n",
      "[0.00140s] fact_func(12) -> 479001600\n",
      "[0.00142s] fact_func(13) -> 6227020800\n",
      "[0.00144s] fact_func(14) -> 87178291200\n",
      "[0.00145s] fact_func(15) -> 1307674368000\n",
      "[0.00147s] fact_func(16) -> 20922789888000\n",
      "[0.00178s] fact_func(17) -> 355687428096000\n",
      "[0.00182s] fact_func(18) -> 6402373705728000\n",
      "[0.00183s] fact_func(19) -> 121645100408832000\n",
      "[0.00185s] fact_func(20) -> 2432902008176640000\n",
      "[0.00188s] fact_func(21) -> 51090942171709440000\n",
      "[0.00190s] fact_func(22) -> 1124000727777607680000\n",
      "[0.00191s] fact_func(23) -> 25852016738884976640000\n",
      "[0.00193s] fact_func(24) -> 620448401733239439360000\n",
      "[0.00194s] fact_func(25) -> 15511210043330985984000000\n",
      "[0.00195s] fact_func(26) -> 403291461126605635584000000\n",
      "[0.00232s] fact_func(27) -> 10888869450418352160768000000\n",
      "[0.00234s] fact_func(28) -> 304888344611713860501504000000\n",
      "[0.00237s] fact_func(29) -> 8841761993739701954543616000000\n",
      "[0.00238s] fact_func(30) -> 265252859812191058636308480000000\n",
      "[0.00240s] fact_func(31) -> 8222838654177922817725562880000000\n",
      "[0.00243s] fact_func(32) -> 263130836933693530167218012160000000\n",
      "[0.00245s] fact_func(33) -> 8683317618811886495518194401280000000\n",
      "[0.00248s] fact_func(34) -> 295232799039604140847618609643520000000\n",
      "[0.00250s] fact_func(35) -> 10333147966386144929666651337523200000000\n",
      "[0.00252s] fact_func(36) -> 371993326789901217467999448150835200000000\n",
      "[0.00254s] fact_func(37) -> 13763753091226345046315979581580902400000000\n",
      "[0.00255s] fact_func(38) -> 523022617466601111760007224100074291200000000\n",
      "[0.00257s] fact_func(39) -> 20397882081197443358640281739902897356800000000\n",
      "[0.00259s] fact_func(40) -> 815915283247897734345611269596115894272000000000\n",
      "[0.00261s] fact_func(41) -> 33452526613163807108170062053440751665152000000000\n",
      "[0.00263s] fact_func(42) -> 1405006117752879898543142606244511569936384000000000\n",
      "[0.00265s] fact_func(43) -> 60415263063373835637355132068513997507264512000000000\n",
      "[0.00281s] fact_func(44) -> 2658271574788448768043625811014615890319638528000000000\n",
      "[0.00284s] fact_func(45) -> 119622220865480194561963161495657715064383733760000000000\n",
      "[0.00287s] fact_func(46) -> 5502622159812088949850305428800254892961651752960000000000\n",
      "[0.00292s] fact_func(47) -> 258623241511168180642964355153611979969197632389120000000000\n",
      "[0.00295s] fact_func(48) -> 12413915592536072670862289047373375038521486354677760000000000\n",
      "[0.00298s] fact_func(49) -> 608281864034267560872252163321295376887552831379210240000000000\n",
      "[0.00299s] fact_func(50) -> 30414093201713378043612608166064768844377641568960512000000000000\n",
      "[0.00301s] fact_func(51) -> 1551118753287382280224243016469303211063259720016986112000000000000\n",
      "[0.00303s] fact_func(52) -> 80658175170943878571660636856403766975289505440883277824000000000000\n",
      "[0.00305s] fact_func(53) -> 4274883284060025564298013753389399649690343788366813724672000000000000\n",
      "[0.00314s] fact_func(54) -> 230843697339241380472092742683027581083278564571807941132288000000000000\n",
      "[0.00316s] fact_func(55) -> 12696403353658275925965100847566516959580321051449436762275840000000000000\n",
      "[0.00317s] fact_func(56) -> 710998587804863451854045647463724949736497978881168458687447040000000000000\n",
      "[0.00320s] fact_func(57) -> 40526919504877216755680601905432322134980384796226602145184481280000000000000\n",
      "[0.00321s] fact_func(58) -> 2350561331282878571829474910515074683828862318181142924420699914240000000000000\n",
      "[0.00323s] fact_func(59) -> 138683118545689835737939019720389406345902876772687432540821294940160000000000000\n",
      "[0.00324s] fact_func(60) -> 8320987112741390144276341183223364380754172606361245952449277696409600000000000000\n",
      "[0.00326s] fact_func(61) -> 507580213877224798800856812176625227226004528988036003099405939480985600000000000000\n",
      "[0.00345s] fact_func(62) -> 31469973260387937525653122354950764088012280797258232192163168247821107200000000000000\n",
      "[0.00347s] fact_func(63) -> 1982608315404440064116146708361898137544773690227268628106279599612729753600000000000000\n",
      "[0.00349s] fact_func(64) -> 126886932185884164103433389335161480802865516174545192198801894375214704230400000000000000\n",
      "[0.00351s] fact_func(65) -> 8247650592082470666723170306785496252186258551345437492922123134388955774976000000000000000\n",
      "[0.00353s] fact_func(66) -> 544344939077443064003729240247842752644293064388798874532860126869671081148416000000000000000\n",
      "[0.00354s] fact_func(67) -> 36471110918188685288249859096605464427167635314049524593701628500267962436943872000000000000000\n",
      "[0.00356s] fact_func(68) -> 2480035542436830599600990418569171581047399201355367672371710738018221445712183296000000000000000\n",
      "[0.00358s] fact_func(69) -> 171122452428141311372468338881272839092270544893520369393648040923257279754140647424000000000000000\n",
      "[0.00360s] fact_func(70) -> 11978571669969891796072783721689098736458938142546425857555362864628009582789845319680000000000000000\n",
      "[0.00362s] fact_func(71) -> 850478588567862317521167644239926010288584608120796235886430763388588680378079017697280000000000000000\n",
      "[0.00363s] fact_func(72) -> 61234458376886086861524070385274672740778091784697328983823014963978384987221689274204160000000000000000\n",
      "[0.00365s] fact_func(73) -> 4470115461512684340891257138125051110076800700282905015819080092370422104067183317016903680000000000000000\n",
      "[0.00367s] fact_func(74) -> 330788544151938641225953028221253782145683251820934971170611926835411235700971565459250872320000000000000000\n",
      "[0.00369s] fact_func(75) -> 24809140811395398091946477116594033660926243886570122837795894512655842677572867409443815424000000000000000000\n",
      "[0.00371s] fact_func(76) -> 1885494701666050254987932260861146558230394535379329335672487982961844043495537923117729972224000000000000000000\n",
      "[0.00373s] fact_func(77) -> 145183092028285869634070784086308284983740379224208358846781574688061991349156420080065207861248000000000000000000\n",
      "[0.00375s] fact_func(78) -> 11324281178206297831457521158732046228731749579488251990048962825668835325234200766245086213177344000000000000000000\n",
      "[0.00376s] fact_func(79) -> 894618213078297528685144171539831652069808216779571907213868063227837990693501860533361810841010176000000000000000000\n",
      "[0.00378s] fact_func(80) -> 71569457046263802294811533723186532165584657342365752577109445058227039255480148842668944867280814080000000000000000000\n",
      "[0.00380s] fact_func(81) -> 5797126020747367985879734231578109105412357244731625958745865049716390179693892056256184534249745940480000000000000000000\n",
      "[0.00382s] fact_func(82) -> 475364333701284174842138206989404946643813294067993328617160934076743994734899148613007131808479167119360000000000000000000\n",
      "[0.00386s] fact_func(83) -> 39455239697206586511897471180120610571436503407643446275224357528369751562996629334879591940103770870906880000000000000000000\n",
      "[0.00388s] fact_func(84) -> 3314240134565353266999387579130131288000666286242049487118846032383059131291716864129885722968716753156177920000000000000000000\n",
      "[0.00390s] fact_func(85) -> 281710411438055027694947944226061159480056634330574206405101912752560026159795933451040286452340924018275123200000000000000000000\n",
      "[0.00392s] fact_func(86) -> 24227095383672732381765523203441259715284870552429381750838764496720162249742450276789464634901319465571660595200000000000000000000\n",
      "[0.00393s] fact_func(87) -> 2107757298379527717213600518699389595229783738061356212322972511214654115727593174080683423236414793504734471782400000000000000000000\n",
      "[0.00395s] fact_func(88) -> 185482642257398439114796845645546284380220968949399346684421580986889562184028199319100141244804501828416633516851200000000000000000000\n",
      "[0.00396s] fact_func(89) -> 16507955160908461081216919262453619309839666236496541854913520707833171034378509739399912570787600662729080382999756800000000000000000000\n",
      "[0.00398s] fact_func(90) -> 1485715964481761497309522733620825737885569961284688766942216863704985393094065876545992131370884059645617234469978112000000000000000000000\n",
      "[0.00400s] fact_func(91) -> 135200152767840296255166568759495142147586866476906677791741734597153670771559994765685283954750449427751168336768008192000000000000000000000\n",
      "[0.00401s] fact_func(92) -> 12438414054641307255475324325873553077577991715875414356840239582938137710983519518443046123837041347353107486982656753664000000000000000000000\n",
      "[0.00403s] fact_func(93) -> 1156772507081641574759205162306240436214753229576413535186142281213246807121467315215203289516844845303838996289387078090752000000000000000000000\n",
      "[0.00404s] fact_func(94) -> 108736615665674308027365285256786601004186803580182872307497374434045199869417927630229109214583415458560865651202385340530688000000000000000000000\n",
      "[0.00406s] fact_func(95) -> 10329978488239059262599702099394727095397746340117372869212250571234293987594703124871765375385424468563282236864226607350415360000000000000000000000\n",
      "[0.00408s] fact_func(96) -> 991677934870949689209571401541893801158183648651267795444376054838492222809091499987689476037000748982075094738965754305639874560000000000000000000000\n",
      "[0.00410s] fact_func(97) -> 96192759682482119853328425949563698712343813919172976158104477319333745612481875498805879175589072651261284189679678167647067832320000000000000000000000\n",
      "[0.00412s] fact_func(98) -> 9426890448883247745626185743057242473809693764078951663494238777294707070023223798882976159207729119823605850588608460429412647567360000000000000000000000\n",
      "[0.00414s] fact_func(99) -> 933262154439441526816992388562667004907159682643816214685929638952175999932299156089414639761565182862536979208272237582511852109168640000000000000000000000\n",
      "[0.00444s] fact_func(100) -> 93326215443944152681699238856266700490715968264381621468592963895217599993229915608941463976156518286253697920827223758251185210916864000000000000000000000000\n"
     ]
    },
    {
     "data": {
      "text/plain": [
       "93326215443944152681699238856266700490715968264381621468592963895217599993229915608941463976156518286253697920827223758251185210916864000000000000000000000000"
      ]
     },
     "execution_count": 96,
     "metadata": {},
     "output_type": "execute_result"
    }
   ],
   "source": [
    "fact_func(100)"
   ]
  },
  {
   "cell_type": "code",
   "execution_count": null,
   "metadata": {},
   "outputs": [],
   "source": []
  }
 ],
 "metadata": {
  "kernelspec": {
   "display_name": "Python 3",
   "language": "python",
   "name": "python3"
  },
  "language_info": {
   "codemirror_mode": {
    "name": "ipython",
    "version": 3
   },
   "file_extension": ".py",
   "mimetype": "text/x-python",
   "name": "python",
   "nbconvert_exporter": "python",
   "pygments_lexer": "ipython3",
   "version": "3.7.2"
  }
 },
 "nbformat": 4,
 "nbformat_minor": 2
}
