{
 "cells": [
  {
   "cell_type": "markdown",
   "metadata": {},
   "source": [
    "## 파이썬 클래스 관련 메소드 심화"
   ]
  },
  {
   "cell_type": "markdown",
   "metadata": {},
   "source": [
    "### Class 선언"
   ]
  },
  {
   "cell_type": "code",
   "execution_count": 1,
   "metadata": {},
   "outputs": [],
   "source": [
    "class VectorP(object):\n",
    "    def __init__(self, x, y):\n",
    "        self.__x = float(x)\n",
    "        self.__y = float(y)\n",
    "        \n",
    "    def __iter__(self):\n",
    "        return (i for i in (self.__x, self.__y))  # Generator"
   ]
  },
  {
   "cell_type": "markdown",
   "metadata": {},
   "source": [
    "### 객체 선언"
   ]
  },
  {
   "cell_type": "code",
   "execution_count": 5,
   "metadata": {},
   "outputs": [],
   "source": [
    "v = VectorP(20, 40)"
   ]
  },
  {
   "cell_type": "code",
   "execution_count": 6,
   "metadata": {},
   "outputs": [
    {
     "ename": "AttributeError",
     "evalue": "'VectorP' object has no attribute '__x'",
     "output_type": "error",
     "traceback": [
      "\u001b[0;31m---------------------------------------------------------------------------\u001b[0m",
      "\u001b[0;31mAttributeError\u001b[0m                            Traceback (most recent call last)",
      "\u001b[0;32m<ipython-input-6-defc13f89c98>\u001b[0m in \u001b[0;36m<module>\u001b[0;34m\u001b[0m\n\u001b[0;32m----> 1\u001b[0;31m \u001b[0mprint\u001b[0m\u001b[0;34m(\u001b[0m\u001b[0mv\u001b[0m\u001b[0;34m.\u001b[0m\u001b[0m__x\u001b[0m\u001b[0;34m,\u001b[0m \u001b[0mv\u001b[0m\u001b[0;34m.\u001b[0m\u001b[0m__y\u001b[0m\u001b[0;34m)\u001b[0m\u001b[0;34m\u001b[0m\u001b[0;34m\u001b[0m\u001b[0m\n\u001b[0m",
      "\u001b[0;31mAttributeError\u001b[0m: 'VectorP' object has no attribute '__x'"
     ]
    }
   ],
   "source": [
    "print(v.__x, v.__y)"
   ]
  },
  {
   "cell_type": "markdown",
   "metadata": {},
   "source": [
    ">`__` 언더바 2개를 붙이면 외부에서 값이 접근이 불가능한 private 속성을 갖는다. (하지만 완전 불가능한 것은 아님)"
   ]
  },
  {
   "cell_type": "markdown",
   "metadata": {},
   "source": [
    "### Iter 확인"
   ]
  },
  {
   "cell_type": "code",
   "execution_count": 4,
   "metadata": {},
   "outputs": [
    {
     "name": "stdout",
     "output_type": "stream",
     "text": [
      "20.0\n",
      "40.0\n"
     ]
    }
   ],
   "source": [
    "for val in v:\n",
    "    print(val)"
   ]
  },
  {
   "cell_type": "markdown",
   "metadata": {},
   "source": [
    "### Getter, Setter"
   ]
  },
  {
   "cell_type": "code",
   "execution_count": 31,
   "metadata": {},
   "outputs": [],
   "source": [
    "class VectorP(object):\n",
    "    def __init__(self, x, y):\n",
    "        self.__x = float(x)\n",
    "        self.__y = float(y)\n",
    "        \n",
    "    def __iter__(self):\n",
    "        return (i for i in (self.__x, self.__y))  # Generator\n",
    "    \n",
    "    @property\n",
    "    def x(self):\n",
    "        print('Called Property x')\n",
    "        return self.__x\n",
    "    \n",
    "    @x.setter\n",
    "    def x(self, v):\n",
    "        print('Called Property x Setter')\n",
    "        self.__x = v\n",
    "        \n",
    "    @property\n",
    "    def y(self):\n",
    "        print('Called Property y')\n",
    "        return self.__y\n",
    "    \n",
    "    @x.setter\n",
    "    def y(self, v):\n",
    "        if v < 30:\n",
    "            raise ValueError('Below 30 is not allowed.')\n",
    "        print('Called Property x Setter')\n",
    "        self.__y = v\n",
    "        \n",
    "        \n",
    "v = VectorP(20, 40)"
   ]
  },
  {
   "cell_type": "markdown",
   "metadata": {},
   "source": [
    "보통 property 함수의 name은 변수의 name으로 하는 것이 통상적인 규칙이다."
   ]
  },
  {
   "cell_type": "code",
   "execution_count": 32,
   "metadata": {},
   "outputs": [
    {
     "name": "stdout",
     "output_type": "stream",
     "text": [
      "Called Property x\n",
      "20.0\n"
     ]
    }
   ],
   "source": [
    "print(v.x)"
   ]
  },
  {
   "cell_type": "code",
   "execution_count": 33,
   "metadata": {},
   "outputs": [
    {
     "name": "stdout",
     "output_type": "stream",
     "text": [
      "Called Property x Setter\n",
      "Called Property x\n",
      "10\n"
     ]
    }
   ],
   "source": [
    "v.x = 10\n",
    "print(v.x)"
   ]
  },
  {
   "cell_type": "code",
   "execution_count": 34,
   "metadata": {},
   "outputs": [
    {
     "name": "stdout",
     "output_type": "stream",
     "text": [
      "Called Property x\n",
      "10\n"
     ]
    }
   ],
   "source": [
    "print(v.y)"
   ]
  },
  {
   "cell_type": "code",
   "execution_count": 35,
   "metadata": {},
   "outputs": [
    {
     "ename": "ValueError",
     "evalue": "Below 30 is not allowed.",
     "output_type": "error",
     "traceback": [
      "\u001b[0;31m---------------------------------------------------------------------------\u001b[0m",
      "\u001b[0;31mValueError\u001b[0m                                Traceback (most recent call last)",
      "\u001b[0;32m<ipython-input-35-9ac869bc5d44>\u001b[0m in \u001b[0;36m<module>\u001b[0;34m\u001b[0m\n\u001b[0;32m----> 1\u001b[0;31m \u001b[0mv\u001b[0m\u001b[0;34m.\u001b[0m\u001b[0my\u001b[0m \u001b[0;34m=\u001b[0m \u001b[0;36m10\u001b[0m\u001b[0;34m\u001b[0m\u001b[0;34m\u001b[0m\u001b[0m\n\u001b[0m",
      "\u001b[0;32m<ipython-input-31-9d2d2be84da9>\u001b[0m in \u001b[0;36my\u001b[0;34m(self, v)\u001b[0m\n\u001b[1;32m     25\u001b[0m     \u001b[0;32mdef\u001b[0m \u001b[0my\u001b[0m\u001b[0;34m(\u001b[0m\u001b[0mself\u001b[0m\u001b[0;34m,\u001b[0m \u001b[0mv\u001b[0m\u001b[0;34m)\u001b[0m\u001b[0;34m:\u001b[0m\u001b[0;34m\u001b[0m\u001b[0;34m\u001b[0m\u001b[0m\n\u001b[1;32m     26\u001b[0m         \u001b[0;32mif\u001b[0m \u001b[0mv\u001b[0m \u001b[0;34m<\u001b[0m \u001b[0;36m30\u001b[0m\u001b[0;34m:\u001b[0m\u001b[0;34m\u001b[0m\u001b[0;34m\u001b[0m\u001b[0m\n\u001b[0;32m---> 27\u001b[0;31m             \u001b[0;32mraise\u001b[0m \u001b[0mValueError\u001b[0m\u001b[0;34m(\u001b[0m\u001b[0;34m'Below 30 is not allowed.'\u001b[0m\u001b[0;34m)\u001b[0m\u001b[0;34m\u001b[0m\u001b[0;34m\u001b[0m\u001b[0m\n\u001b[0m\u001b[1;32m     28\u001b[0m         \u001b[0mprint\u001b[0m\u001b[0;34m(\u001b[0m\u001b[0;34m'Called Property x Setter'\u001b[0m\u001b[0;34m)\u001b[0m\u001b[0;34m\u001b[0m\u001b[0;34m\u001b[0m\u001b[0m\n\u001b[1;32m     29\u001b[0m         \u001b[0mself\u001b[0m\u001b[0;34m.\u001b[0m\u001b[0m__y\u001b[0m \u001b[0;34m=\u001b[0m \u001b[0mv\u001b[0m\u001b[0;34m\u001b[0m\u001b[0;34m\u001b[0m\u001b[0m\n",
      "\u001b[0;31mValueError\u001b[0m: Below 30 is not allowed."
     ]
    }
   ],
   "source": [
    "v.y = 10"
   ]
  },
  {
   "cell_type": "markdown",
   "metadata": {},
   "source": [
    ">Property 클래스를 활용하여 클래스 객체를 안전하게 보호할 수 있다. (은닉화)"
   ]
  },
  {
   "cell_type": "code",
   "execution_count": 36,
   "metadata": {},
   "outputs": [
    {
     "data": {
      "text/plain": [
       "(['_VectorP__x',\n",
       "  '_VectorP__y',\n",
       "  '__class__',\n",
       "  '__delattr__',\n",
       "  '__dict__',\n",
       "  '__dir__',\n",
       "  '__doc__',\n",
       "  '__eq__',\n",
       "  '__format__',\n",
       "  '__ge__',\n",
       "  '__getattribute__',\n",
       "  '__gt__',\n",
       "  '__hash__',\n",
       "  '__init__',\n",
       "  '__init_subclass__',\n",
       "  '__iter__',\n",
       "  '__le__',\n",
       "  '__lt__',\n",
       "  '__module__',\n",
       "  '__ne__',\n",
       "  '__new__',\n",
       "  '__reduce__',\n",
       "  '__reduce_ex__',\n",
       "  '__repr__',\n",
       "  '__setattr__',\n",
       "  '__sizeof__',\n",
       "  '__str__',\n",
       "  '__subclasshook__',\n",
       "  '__weakref__',\n",
       "  'x',\n",
       "  'y'],\n",
       " {'_VectorP__x': 10, '_VectorP__y': 40.0})"
      ]
     },
     "execution_count": 36,
     "metadata": {},
     "output_type": "execute_result"
    }
   ],
   "source": [
    "dir(v), v.__dict__"
   ]
  },
  {
   "cell_type": "code",
   "execution_count": 37,
   "metadata": {},
   "outputs": [
    {
     "name": "stdout",
     "output_type": "stream",
     "text": [
      "Called Property x\n",
      "Called Property x\n"
     ]
    },
    {
     "data": {
      "text/plain": [
       "(10, 10)"
      ]
     },
     "execution_count": 37,
     "metadata": {},
     "output_type": "execute_result"
    }
   ],
   "source": [
    "v.x, v.y"
   ]
  },
  {
   "cell_type": "markdown",
   "metadata": {},
   "source": [
    "## `__slot__`\n",
    "- 파이썬 인터프리터에게 통보\n",
    "- 해당 클래스가 가지는 속성을 제한\n",
    "- `__dict__` 속성 최적화 -> 다수 객체 생성 시 메모리 사용 공간 대폭 감소\n",
    "- 해당 클래스에 만들어진 인스턴스 속성 관리에 딕셔너리 대신 Set 자료형을 사용\n"
   ]
  },
  {
   "cell_type": "code",
   "execution_count": 38,
   "metadata": {},
   "outputs": [],
   "source": [
    "class TestA(object):\n",
    "    __slots__ = ('a',)\n",
    "    \n",
    "class TestB(object):\n",
    "    pass"
   ]
  },
  {
   "cell_type": "code",
   "execution_count": 39,
   "metadata": {},
   "outputs": [],
   "source": [
    "use_slot = TestA()\n",
    "no_slot = TestB()"
   ]
  },
  {
   "cell_type": "code",
   "execution_count": 41,
   "metadata": {},
   "outputs": [
    {
     "name": "stdout",
     "output_type": "stream",
     "text": [
      "<__main__.TestA object at 0x1198107c8>\n"
     ]
    }
   ],
   "source": [
    "print(use_slot)"
   ]
  },
  {
   "cell_type": "code",
   "execution_count": 42,
   "metadata": {},
   "outputs": [
    {
     "ename": "AttributeError",
     "evalue": "'TestA' object has no attribute '__dict__'",
     "output_type": "error",
     "traceback": [
      "\u001b[0;31m---------------------------------------------------------------------------\u001b[0m",
      "\u001b[0;31mAttributeError\u001b[0m                            Traceback (most recent call last)",
      "\u001b[0;32m<ipython-input-42-3a5a3b4672dd>\u001b[0m in \u001b[0;36m<module>\u001b[0;34m\u001b[0m\n\u001b[0;32m----> 1\u001b[0;31m \u001b[0mprint\u001b[0m\u001b[0;34m(\u001b[0m\u001b[0muse_slot\u001b[0m\u001b[0;34m.\u001b[0m\u001b[0m__dict__\u001b[0m\u001b[0;34m)\u001b[0m\u001b[0;34m\u001b[0m\u001b[0;34m\u001b[0m\u001b[0m\n\u001b[0m",
      "\u001b[0;31mAttributeError\u001b[0m: 'TestA' object has no attribute '__dict__'"
     ]
    }
   ],
   "source": [
    "print(use_slot.__dict__)"
   ]
  },
  {
   "cell_type": "markdown",
   "metadata": {},
   "source": [
    ">인스턴스 속성 관리에 딕셔너리 대신 Set 자료형 형태를 사용하기 때문에 Error 발생"
   ]
  },
  {
   "cell_type": "code",
   "execution_count": 43,
   "metadata": {},
   "outputs": [
    {
     "name": "stdout",
     "output_type": "stream",
     "text": [
      "<__main__.TestB object at 0x11982deb8>\n",
      "{}\n"
     ]
    }
   ],
   "source": [
    "print(no_slot)\n",
    "print(no_slot.__dict__)"
   ]
  },
  {
   "cell_type": "markdown",
   "metadata": {},
   "source": [
    "### 메모리 사용량 비교"
   ]
  },
  {
   "cell_type": "code",
   "execution_count": 45,
   "metadata": {},
   "outputs": [],
   "source": [
    "import timeit\n",
    "\n",
    "# 측정을 위한 함수 선언\n",
    "def repeat_outer(obj):\n",
    "    def repeat_inner():\n",
    "        obj.a = 'TEST'\n",
    "        del obj.a\n",
    "    return repeat_inner"
   ]
  },
  {
   "cell_type": "code",
   "execution_count": 51,
   "metadata": {},
   "outputs": [
    {
     "data": {
      "text/plain": [
       "0.06914879299984023"
      ]
     },
     "execution_count": 51,
     "metadata": {},
     "output_type": "execute_result"
    }
   ],
   "source": [
    "min(timeit.repeat(repeat_outer(use_slot), number=500000))"
   ]
  },
  {
   "cell_type": "code",
   "execution_count": 52,
   "metadata": {},
   "outputs": [
    {
     "data": {
      "text/plain": [
       "0.08632061999992402"
      ]
     },
     "execution_count": 52,
     "metadata": {},
     "output_type": "execute_result"
    }
   ],
   "source": [
    "min(timeit.repeat(repeat_outer(no_slot), number=500000))"
   ]
  },
  {
   "cell_type": "markdown",
   "metadata": {},
   "source": [
    ">`__slot__`의 경우 20%~30% 정도 속도가 더 빠르다"
   ]
  },
  {
   "cell_type": "markdown",
   "metadata": {},
   "source": [
    "## 객체 슬라이싱"
   ]
  },
  {
   "cell_type": "code",
   "execution_count": 58,
   "metadata": {},
   "outputs": [],
   "source": [
    "class ObjectS:\n",
    "    def __init__(self):\n",
    "        self._numbers = [n for n in range(1, 10000, 3)]\n",
    "        \n",
    "    def __len__(self):\n",
    "        return len(self._numbers)\n",
    "    \n",
    "    def __getitem__(self, idx):\n",
    "        return self._numbers[idx]\n",
    "    \n",
    "s = ObjectS()"
   ]
  },
  {
   "cell_type": "code",
   "execution_count": 59,
   "metadata": {},
   "outputs": [
    {
     "data": {
      "text/plain": [
       "{'_numbers': [1,\n",
       "  4,\n",
       "  7,\n",
       "  10,\n",
       "  13,\n",
       "  16,\n",
       "  19,\n",
       "  22,\n",
       "  25,\n",
       "  28,\n",
       "  31,\n",
       "  34,\n",
       "  37,\n",
       "  40,\n",
       "  43,\n",
       "  46,\n",
       "  49,\n",
       "  52,\n",
       "  55,\n",
       "  58,\n",
       "  61,\n",
       "  64,\n",
       "  67,\n",
       "  70,\n",
       "  73,\n",
       "  76,\n",
       "  79,\n",
       "  82,\n",
       "  85,\n",
       "  88,\n",
       "  91,\n",
       "  94,\n",
       "  97,\n",
       "  100,\n",
       "  103,\n",
       "  106,\n",
       "  109,\n",
       "  112,\n",
       "  115,\n",
       "  118,\n",
       "  121,\n",
       "  124,\n",
       "  127,\n",
       "  130,\n",
       "  133,\n",
       "  136,\n",
       "  139,\n",
       "  142,\n",
       "  145,\n",
       "  148,\n",
       "  151,\n",
       "  154,\n",
       "  157,\n",
       "  160,\n",
       "  163,\n",
       "  166,\n",
       "  169,\n",
       "  172,\n",
       "  175,\n",
       "  178,\n",
       "  181,\n",
       "  184,\n",
       "  187,\n",
       "  190,\n",
       "  193,\n",
       "  196,\n",
       "  199,\n",
       "  202,\n",
       "  205,\n",
       "  208,\n",
       "  211,\n",
       "  214,\n",
       "  217,\n",
       "  220,\n",
       "  223,\n",
       "  226,\n",
       "  229,\n",
       "  232,\n",
       "  235,\n",
       "  238,\n",
       "  241,\n",
       "  244,\n",
       "  247,\n",
       "  250,\n",
       "  253,\n",
       "  256,\n",
       "  259,\n",
       "  262,\n",
       "  265,\n",
       "  268,\n",
       "  271,\n",
       "  274,\n",
       "  277,\n",
       "  280,\n",
       "  283,\n",
       "  286,\n",
       "  289,\n",
       "  292,\n",
       "  295,\n",
       "  298,\n",
       "  301,\n",
       "  304,\n",
       "  307,\n",
       "  310,\n",
       "  313,\n",
       "  316,\n",
       "  319,\n",
       "  322,\n",
       "  325,\n",
       "  328,\n",
       "  331,\n",
       "  334,\n",
       "  337,\n",
       "  340,\n",
       "  343,\n",
       "  346,\n",
       "  349,\n",
       "  352,\n",
       "  355,\n",
       "  358,\n",
       "  361,\n",
       "  364,\n",
       "  367,\n",
       "  370,\n",
       "  373,\n",
       "  376,\n",
       "  379,\n",
       "  382,\n",
       "  385,\n",
       "  388,\n",
       "  391,\n",
       "  394,\n",
       "  397,\n",
       "  400,\n",
       "  403,\n",
       "  406,\n",
       "  409,\n",
       "  412,\n",
       "  415,\n",
       "  418,\n",
       "  421,\n",
       "  424,\n",
       "  427,\n",
       "  430,\n",
       "  433,\n",
       "  436,\n",
       "  439,\n",
       "  442,\n",
       "  445,\n",
       "  448,\n",
       "  451,\n",
       "  454,\n",
       "  457,\n",
       "  460,\n",
       "  463,\n",
       "  466,\n",
       "  469,\n",
       "  472,\n",
       "  475,\n",
       "  478,\n",
       "  481,\n",
       "  484,\n",
       "  487,\n",
       "  490,\n",
       "  493,\n",
       "  496,\n",
       "  499,\n",
       "  502,\n",
       "  505,\n",
       "  508,\n",
       "  511,\n",
       "  514,\n",
       "  517,\n",
       "  520,\n",
       "  523,\n",
       "  526,\n",
       "  529,\n",
       "  532,\n",
       "  535,\n",
       "  538,\n",
       "  541,\n",
       "  544,\n",
       "  547,\n",
       "  550,\n",
       "  553,\n",
       "  556,\n",
       "  559,\n",
       "  562,\n",
       "  565,\n",
       "  568,\n",
       "  571,\n",
       "  574,\n",
       "  577,\n",
       "  580,\n",
       "  583,\n",
       "  586,\n",
       "  589,\n",
       "  592,\n",
       "  595,\n",
       "  598,\n",
       "  601,\n",
       "  604,\n",
       "  607,\n",
       "  610,\n",
       "  613,\n",
       "  616,\n",
       "  619,\n",
       "  622,\n",
       "  625,\n",
       "  628,\n",
       "  631,\n",
       "  634,\n",
       "  637,\n",
       "  640,\n",
       "  643,\n",
       "  646,\n",
       "  649,\n",
       "  652,\n",
       "  655,\n",
       "  658,\n",
       "  661,\n",
       "  664,\n",
       "  667,\n",
       "  670,\n",
       "  673,\n",
       "  676,\n",
       "  679,\n",
       "  682,\n",
       "  685,\n",
       "  688,\n",
       "  691,\n",
       "  694,\n",
       "  697,\n",
       "  700,\n",
       "  703,\n",
       "  706,\n",
       "  709,\n",
       "  712,\n",
       "  715,\n",
       "  718,\n",
       "  721,\n",
       "  724,\n",
       "  727,\n",
       "  730,\n",
       "  733,\n",
       "  736,\n",
       "  739,\n",
       "  742,\n",
       "  745,\n",
       "  748,\n",
       "  751,\n",
       "  754,\n",
       "  757,\n",
       "  760,\n",
       "  763,\n",
       "  766,\n",
       "  769,\n",
       "  772,\n",
       "  775,\n",
       "  778,\n",
       "  781,\n",
       "  784,\n",
       "  787,\n",
       "  790,\n",
       "  793,\n",
       "  796,\n",
       "  799,\n",
       "  802,\n",
       "  805,\n",
       "  808,\n",
       "  811,\n",
       "  814,\n",
       "  817,\n",
       "  820,\n",
       "  823,\n",
       "  826,\n",
       "  829,\n",
       "  832,\n",
       "  835,\n",
       "  838,\n",
       "  841,\n",
       "  844,\n",
       "  847,\n",
       "  850,\n",
       "  853,\n",
       "  856,\n",
       "  859,\n",
       "  862,\n",
       "  865,\n",
       "  868,\n",
       "  871,\n",
       "  874,\n",
       "  877,\n",
       "  880,\n",
       "  883,\n",
       "  886,\n",
       "  889,\n",
       "  892,\n",
       "  895,\n",
       "  898,\n",
       "  901,\n",
       "  904,\n",
       "  907,\n",
       "  910,\n",
       "  913,\n",
       "  916,\n",
       "  919,\n",
       "  922,\n",
       "  925,\n",
       "  928,\n",
       "  931,\n",
       "  934,\n",
       "  937,\n",
       "  940,\n",
       "  943,\n",
       "  946,\n",
       "  949,\n",
       "  952,\n",
       "  955,\n",
       "  958,\n",
       "  961,\n",
       "  964,\n",
       "  967,\n",
       "  970,\n",
       "  973,\n",
       "  976,\n",
       "  979,\n",
       "  982,\n",
       "  985,\n",
       "  988,\n",
       "  991,\n",
       "  994,\n",
       "  997,\n",
       "  1000,\n",
       "  1003,\n",
       "  1006,\n",
       "  1009,\n",
       "  1012,\n",
       "  1015,\n",
       "  1018,\n",
       "  1021,\n",
       "  1024,\n",
       "  1027,\n",
       "  1030,\n",
       "  1033,\n",
       "  1036,\n",
       "  1039,\n",
       "  1042,\n",
       "  1045,\n",
       "  1048,\n",
       "  1051,\n",
       "  1054,\n",
       "  1057,\n",
       "  1060,\n",
       "  1063,\n",
       "  1066,\n",
       "  1069,\n",
       "  1072,\n",
       "  1075,\n",
       "  1078,\n",
       "  1081,\n",
       "  1084,\n",
       "  1087,\n",
       "  1090,\n",
       "  1093,\n",
       "  1096,\n",
       "  1099,\n",
       "  1102,\n",
       "  1105,\n",
       "  1108,\n",
       "  1111,\n",
       "  1114,\n",
       "  1117,\n",
       "  1120,\n",
       "  1123,\n",
       "  1126,\n",
       "  1129,\n",
       "  1132,\n",
       "  1135,\n",
       "  1138,\n",
       "  1141,\n",
       "  1144,\n",
       "  1147,\n",
       "  1150,\n",
       "  1153,\n",
       "  1156,\n",
       "  1159,\n",
       "  1162,\n",
       "  1165,\n",
       "  1168,\n",
       "  1171,\n",
       "  1174,\n",
       "  1177,\n",
       "  1180,\n",
       "  1183,\n",
       "  1186,\n",
       "  1189,\n",
       "  1192,\n",
       "  1195,\n",
       "  1198,\n",
       "  1201,\n",
       "  1204,\n",
       "  1207,\n",
       "  1210,\n",
       "  1213,\n",
       "  1216,\n",
       "  1219,\n",
       "  1222,\n",
       "  1225,\n",
       "  1228,\n",
       "  1231,\n",
       "  1234,\n",
       "  1237,\n",
       "  1240,\n",
       "  1243,\n",
       "  1246,\n",
       "  1249,\n",
       "  1252,\n",
       "  1255,\n",
       "  1258,\n",
       "  1261,\n",
       "  1264,\n",
       "  1267,\n",
       "  1270,\n",
       "  1273,\n",
       "  1276,\n",
       "  1279,\n",
       "  1282,\n",
       "  1285,\n",
       "  1288,\n",
       "  1291,\n",
       "  1294,\n",
       "  1297,\n",
       "  1300,\n",
       "  1303,\n",
       "  1306,\n",
       "  1309,\n",
       "  1312,\n",
       "  1315,\n",
       "  1318,\n",
       "  1321,\n",
       "  1324,\n",
       "  1327,\n",
       "  1330,\n",
       "  1333,\n",
       "  1336,\n",
       "  1339,\n",
       "  1342,\n",
       "  1345,\n",
       "  1348,\n",
       "  1351,\n",
       "  1354,\n",
       "  1357,\n",
       "  1360,\n",
       "  1363,\n",
       "  1366,\n",
       "  1369,\n",
       "  1372,\n",
       "  1375,\n",
       "  1378,\n",
       "  1381,\n",
       "  1384,\n",
       "  1387,\n",
       "  1390,\n",
       "  1393,\n",
       "  1396,\n",
       "  1399,\n",
       "  1402,\n",
       "  1405,\n",
       "  1408,\n",
       "  1411,\n",
       "  1414,\n",
       "  1417,\n",
       "  1420,\n",
       "  1423,\n",
       "  1426,\n",
       "  1429,\n",
       "  1432,\n",
       "  1435,\n",
       "  1438,\n",
       "  1441,\n",
       "  1444,\n",
       "  1447,\n",
       "  1450,\n",
       "  1453,\n",
       "  1456,\n",
       "  1459,\n",
       "  1462,\n",
       "  1465,\n",
       "  1468,\n",
       "  1471,\n",
       "  1474,\n",
       "  1477,\n",
       "  1480,\n",
       "  1483,\n",
       "  1486,\n",
       "  1489,\n",
       "  1492,\n",
       "  1495,\n",
       "  1498,\n",
       "  1501,\n",
       "  1504,\n",
       "  1507,\n",
       "  1510,\n",
       "  1513,\n",
       "  1516,\n",
       "  1519,\n",
       "  1522,\n",
       "  1525,\n",
       "  1528,\n",
       "  1531,\n",
       "  1534,\n",
       "  1537,\n",
       "  1540,\n",
       "  1543,\n",
       "  1546,\n",
       "  1549,\n",
       "  1552,\n",
       "  1555,\n",
       "  1558,\n",
       "  1561,\n",
       "  1564,\n",
       "  1567,\n",
       "  1570,\n",
       "  1573,\n",
       "  1576,\n",
       "  1579,\n",
       "  1582,\n",
       "  1585,\n",
       "  1588,\n",
       "  1591,\n",
       "  1594,\n",
       "  1597,\n",
       "  1600,\n",
       "  1603,\n",
       "  1606,\n",
       "  1609,\n",
       "  1612,\n",
       "  1615,\n",
       "  1618,\n",
       "  1621,\n",
       "  1624,\n",
       "  1627,\n",
       "  1630,\n",
       "  1633,\n",
       "  1636,\n",
       "  1639,\n",
       "  1642,\n",
       "  1645,\n",
       "  1648,\n",
       "  1651,\n",
       "  1654,\n",
       "  1657,\n",
       "  1660,\n",
       "  1663,\n",
       "  1666,\n",
       "  1669,\n",
       "  1672,\n",
       "  1675,\n",
       "  1678,\n",
       "  1681,\n",
       "  1684,\n",
       "  1687,\n",
       "  1690,\n",
       "  1693,\n",
       "  1696,\n",
       "  1699,\n",
       "  1702,\n",
       "  1705,\n",
       "  1708,\n",
       "  1711,\n",
       "  1714,\n",
       "  1717,\n",
       "  1720,\n",
       "  1723,\n",
       "  1726,\n",
       "  1729,\n",
       "  1732,\n",
       "  1735,\n",
       "  1738,\n",
       "  1741,\n",
       "  1744,\n",
       "  1747,\n",
       "  1750,\n",
       "  1753,\n",
       "  1756,\n",
       "  1759,\n",
       "  1762,\n",
       "  1765,\n",
       "  1768,\n",
       "  1771,\n",
       "  1774,\n",
       "  1777,\n",
       "  1780,\n",
       "  1783,\n",
       "  1786,\n",
       "  1789,\n",
       "  1792,\n",
       "  1795,\n",
       "  1798,\n",
       "  1801,\n",
       "  1804,\n",
       "  1807,\n",
       "  1810,\n",
       "  1813,\n",
       "  1816,\n",
       "  1819,\n",
       "  1822,\n",
       "  1825,\n",
       "  1828,\n",
       "  1831,\n",
       "  1834,\n",
       "  1837,\n",
       "  1840,\n",
       "  1843,\n",
       "  1846,\n",
       "  1849,\n",
       "  1852,\n",
       "  1855,\n",
       "  1858,\n",
       "  1861,\n",
       "  1864,\n",
       "  1867,\n",
       "  1870,\n",
       "  1873,\n",
       "  1876,\n",
       "  1879,\n",
       "  1882,\n",
       "  1885,\n",
       "  1888,\n",
       "  1891,\n",
       "  1894,\n",
       "  1897,\n",
       "  1900,\n",
       "  1903,\n",
       "  1906,\n",
       "  1909,\n",
       "  1912,\n",
       "  1915,\n",
       "  1918,\n",
       "  1921,\n",
       "  1924,\n",
       "  1927,\n",
       "  1930,\n",
       "  1933,\n",
       "  1936,\n",
       "  1939,\n",
       "  1942,\n",
       "  1945,\n",
       "  1948,\n",
       "  1951,\n",
       "  1954,\n",
       "  1957,\n",
       "  1960,\n",
       "  1963,\n",
       "  1966,\n",
       "  1969,\n",
       "  1972,\n",
       "  1975,\n",
       "  1978,\n",
       "  1981,\n",
       "  1984,\n",
       "  1987,\n",
       "  1990,\n",
       "  1993,\n",
       "  1996,\n",
       "  1999,\n",
       "  2002,\n",
       "  2005,\n",
       "  2008,\n",
       "  2011,\n",
       "  2014,\n",
       "  2017,\n",
       "  2020,\n",
       "  2023,\n",
       "  2026,\n",
       "  2029,\n",
       "  2032,\n",
       "  2035,\n",
       "  2038,\n",
       "  2041,\n",
       "  2044,\n",
       "  2047,\n",
       "  2050,\n",
       "  2053,\n",
       "  2056,\n",
       "  2059,\n",
       "  2062,\n",
       "  2065,\n",
       "  2068,\n",
       "  2071,\n",
       "  2074,\n",
       "  2077,\n",
       "  2080,\n",
       "  2083,\n",
       "  2086,\n",
       "  2089,\n",
       "  2092,\n",
       "  2095,\n",
       "  2098,\n",
       "  2101,\n",
       "  2104,\n",
       "  2107,\n",
       "  2110,\n",
       "  2113,\n",
       "  2116,\n",
       "  2119,\n",
       "  2122,\n",
       "  2125,\n",
       "  2128,\n",
       "  2131,\n",
       "  2134,\n",
       "  2137,\n",
       "  2140,\n",
       "  2143,\n",
       "  2146,\n",
       "  2149,\n",
       "  2152,\n",
       "  2155,\n",
       "  2158,\n",
       "  2161,\n",
       "  2164,\n",
       "  2167,\n",
       "  2170,\n",
       "  2173,\n",
       "  2176,\n",
       "  2179,\n",
       "  2182,\n",
       "  2185,\n",
       "  2188,\n",
       "  2191,\n",
       "  2194,\n",
       "  2197,\n",
       "  2200,\n",
       "  2203,\n",
       "  2206,\n",
       "  2209,\n",
       "  2212,\n",
       "  2215,\n",
       "  2218,\n",
       "  2221,\n",
       "  2224,\n",
       "  2227,\n",
       "  2230,\n",
       "  2233,\n",
       "  2236,\n",
       "  2239,\n",
       "  2242,\n",
       "  2245,\n",
       "  2248,\n",
       "  2251,\n",
       "  2254,\n",
       "  2257,\n",
       "  2260,\n",
       "  2263,\n",
       "  2266,\n",
       "  2269,\n",
       "  2272,\n",
       "  2275,\n",
       "  2278,\n",
       "  2281,\n",
       "  2284,\n",
       "  2287,\n",
       "  2290,\n",
       "  2293,\n",
       "  2296,\n",
       "  2299,\n",
       "  2302,\n",
       "  2305,\n",
       "  2308,\n",
       "  2311,\n",
       "  2314,\n",
       "  2317,\n",
       "  2320,\n",
       "  2323,\n",
       "  2326,\n",
       "  2329,\n",
       "  2332,\n",
       "  2335,\n",
       "  2338,\n",
       "  2341,\n",
       "  2344,\n",
       "  2347,\n",
       "  2350,\n",
       "  2353,\n",
       "  2356,\n",
       "  2359,\n",
       "  2362,\n",
       "  2365,\n",
       "  2368,\n",
       "  2371,\n",
       "  2374,\n",
       "  2377,\n",
       "  2380,\n",
       "  2383,\n",
       "  2386,\n",
       "  2389,\n",
       "  2392,\n",
       "  2395,\n",
       "  2398,\n",
       "  2401,\n",
       "  2404,\n",
       "  2407,\n",
       "  2410,\n",
       "  2413,\n",
       "  2416,\n",
       "  2419,\n",
       "  2422,\n",
       "  2425,\n",
       "  2428,\n",
       "  2431,\n",
       "  2434,\n",
       "  2437,\n",
       "  2440,\n",
       "  2443,\n",
       "  2446,\n",
       "  2449,\n",
       "  2452,\n",
       "  2455,\n",
       "  2458,\n",
       "  2461,\n",
       "  2464,\n",
       "  2467,\n",
       "  2470,\n",
       "  2473,\n",
       "  2476,\n",
       "  2479,\n",
       "  2482,\n",
       "  2485,\n",
       "  2488,\n",
       "  2491,\n",
       "  2494,\n",
       "  2497,\n",
       "  2500,\n",
       "  2503,\n",
       "  2506,\n",
       "  2509,\n",
       "  2512,\n",
       "  2515,\n",
       "  2518,\n",
       "  2521,\n",
       "  2524,\n",
       "  2527,\n",
       "  2530,\n",
       "  2533,\n",
       "  2536,\n",
       "  2539,\n",
       "  2542,\n",
       "  2545,\n",
       "  2548,\n",
       "  2551,\n",
       "  2554,\n",
       "  2557,\n",
       "  2560,\n",
       "  2563,\n",
       "  2566,\n",
       "  2569,\n",
       "  2572,\n",
       "  2575,\n",
       "  2578,\n",
       "  2581,\n",
       "  2584,\n",
       "  2587,\n",
       "  2590,\n",
       "  2593,\n",
       "  2596,\n",
       "  2599,\n",
       "  2602,\n",
       "  2605,\n",
       "  2608,\n",
       "  2611,\n",
       "  2614,\n",
       "  2617,\n",
       "  2620,\n",
       "  2623,\n",
       "  2626,\n",
       "  2629,\n",
       "  2632,\n",
       "  2635,\n",
       "  2638,\n",
       "  2641,\n",
       "  2644,\n",
       "  2647,\n",
       "  2650,\n",
       "  2653,\n",
       "  2656,\n",
       "  2659,\n",
       "  2662,\n",
       "  2665,\n",
       "  2668,\n",
       "  2671,\n",
       "  2674,\n",
       "  2677,\n",
       "  2680,\n",
       "  2683,\n",
       "  2686,\n",
       "  2689,\n",
       "  2692,\n",
       "  2695,\n",
       "  2698,\n",
       "  2701,\n",
       "  2704,\n",
       "  2707,\n",
       "  2710,\n",
       "  2713,\n",
       "  2716,\n",
       "  2719,\n",
       "  2722,\n",
       "  2725,\n",
       "  2728,\n",
       "  2731,\n",
       "  2734,\n",
       "  2737,\n",
       "  2740,\n",
       "  2743,\n",
       "  2746,\n",
       "  2749,\n",
       "  2752,\n",
       "  2755,\n",
       "  2758,\n",
       "  2761,\n",
       "  2764,\n",
       "  2767,\n",
       "  2770,\n",
       "  2773,\n",
       "  2776,\n",
       "  2779,\n",
       "  2782,\n",
       "  2785,\n",
       "  2788,\n",
       "  2791,\n",
       "  2794,\n",
       "  2797,\n",
       "  2800,\n",
       "  2803,\n",
       "  2806,\n",
       "  2809,\n",
       "  2812,\n",
       "  2815,\n",
       "  2818,\n",
       "  2821,\n",
       "  2824,\n",
       "  2827,\n",
       "  2830,\n",
       "  2833,\n",
       "  2836,\n",
       "  2839,\n",
       "  2842,\n",
       "  2845,\n",
       "  2848,\n",
       "  2851,\n",
       "  2854,\n",
       "  2857,\n",
       "  2860,\n",
       "  2863,\n",
       "  2866,\n",
       "  2869,\n",
       "  2872,\n",
       "  2875,\n",
       "  2878,\n",
       "  2881,\n",
       "  2884,\n",
       "  2887,\n",
       "  2890,\n",
       "  2893,\n",
       "  2896,\n",
       "  2899,\n",
       "  2902,\n",
       "  2905,\n",
       "  2908,\n",
       "  2911,\n",
       "  2914,\n",
       "  2917,\n",
       "  2920,\n",
       "  2923,\n",
       "  2926,\n",
       "  2929,\n",
       "  2932,\n",
       "  2935,\n",
       "  2938,\n",
       "  2941,\n",
       "  2944,\n",
       "  2947,\n",
       "  2950,\n",
       "  2953,\n",
       "  2956,\n",
       "  2959,\n",
       "  2962,\n",
       "  2965,\n",
       "  2968,\n",
       "  2971,\n",
       "  2974,\n",
       "  2977,\n",
       "  2980,\n",
       "  2983,\n",
       "  2986,\n",
       "  2989,\n",
       "  2992,\n",
       "  2995,\n",
       "  2998,\n",
       "  ...]}"
      ]
     },
     "execution_count": 59,
     "metadata": {},
     "output_type": "execute_result"
    }
   ],
   "source": [
    "s.__dict__"
   ]
  },
  {
   "cell_type": "code",
   "execution_count": 60,
   "metadata": {},
   "outputs": [
    {
     "data": {
      "text/plain": [
       "3333"
      ]
     },
     "execution_count": 60,
     "metadata": {},
     "output_type": "execute_result"
    }
   ],
   "source": [
    "len(s)"
   ]
  },
  {
   "cell_type": "code",
   "execution_count": 63,
   "metadata": {},
   "outputs": [
    {
     "data": {
      "text/plain": [
       "([4, 7, 10, 13, 16, 19, 22, 25, 28], 9997)"
      ]
     },
     "execution_count": 63,
     "metadata": {},
     "output_type": "execute_result"
    }
   ],
   "source": [
    "s[1:10], s[-1]"
   ]
  },
  {
   "cell_type": "markdown",
   "metadata": {},
   "source": [
    "## 파이썬 추상클래스\n",
    "- https://docs.python.org/3/library/collections.abc.html\n",
    "- 자체적으로 객체 생성 불가\n",
    "- 상속을 통해서 자식 클래스에서 인스턴스를 생성해야 함\n",
    "- 개발과 관련된 공통된 내용(필드, 메소드) 추출 및 통합해서 공통된 내용으로 작성하게 하는 것"
   ]
  },
  {
   "cell_type": "markdown",
   "metadata": {},
   "source": [
    "### Sequence 상속 X\n",
    "- 상속받지 않았지만, Python 자동으로 자료형 타입 인식하여 `__iter__`, `__contain__` 기능 작동"
   ]
  },
  {
   "cell_type": "code",
   "execution_count": 65,
   "metadata": {},
   "outputs": [
    {
     "data": {
      "text/plain": [
       "9"
      ]
     },
     "execution_count": 65,
     "metadata": {},
     "output_type": "execute_result"
    }
   ],
   "source": [
    "class IterTestA():\n",
    "    def __getitem__(self, idx):\n",
    "        return range(1, 50, 2)[idx]\n",
    "\n",
    "i1 = IterTestA()\n",
    "i1[4]"
   ]
  },
  {
   "cell_type": "code",
   "execution_count": 66,
   "metadata": {},
   "outputs": [
    {
     "data": {
      "text/plain": [
       "True"
      ]
     },
     "execution_count": 66,
     "metadata": {},
     "output_type": "execute_result"
    }
   ],
   "source": [
    "3 in i1[1:10]  # __contain__"
   ]
  },
  {
   "cell_type": "code",
   "execution_count": 67,
   "metadata": {},
   "outputs": [
    {
     "data": {
      "text/plain": [
       "[1,\n",
       " 3,\n",
       " 5,\n",
       " 7,\n",
       " 9,\n",
       " 11,\n",
       " 13,\n",
       " 15,\n",
       " 17,\n",
       " 19,\n",
       " 21,\n",
       " 23,\n",
       " 25,\n",
       " 27,\n",
       " 29,\n",
       " 31,\n",
       " 33,\n",
       " 35,\n",
       " 37,\n",
       " 39,\n",
       " 41,\n",
       " 43,\n",
       " 45,\n",
       " 47,\n",
       " 49]"
      ]
     },
     "execution_count": 67,
     "metadata": {},
     "output_type": "execute_result"
    }
   ],
   "source": [
    "[i for i in i1]  # __iter__"
   ]
  },
  {
   "cell_type": "markdown",
   "metadata": {},
   "source": [
    "### Sequense 상속\n",
    "- 요구사항인 추상메소드를 모두 구현해야 동작"
   ]
  },
  {
   "cell_type": "code",
   "execution_count": 70,
   "metadata": {},
   "outputs": [],
   "source": [
    "from collections.abc import Sequence\n",
    "\n",
    "class IterTestB(Sequence):\n",
    "    def __getitem__(self, idx):\n",
    "        return range(1, 50, 2)[idx]\n",
    "    \n",
    "    def __len__(self, idx):  # 추상 메소드 __len__을 꼭 구현해야함\n",
    "\n",
    "        return len(range(1, 50, 2)[idx])\n",
    "\n",
    "i2 = IterTestB()"
   ]
  },
  {
   "cell_type": "code",
   "execution_count": 72,
   "metadata": {},
   "outputs": [],
   "source": [
    "import abc\n",
    "\n",
    "class RandomMachine(abc.ABC):  # metaclass=abc.ABCMeta -> 3.4 이하\n",
    "    # __metaclass__ = abc.ABCMeta\n",
    "    # 추상 메소드\n",
    "    @abc.abstractmethod\n",
    "    def load(self, iterobj):\n",
    "        '''Iterable 항목 추가'''\n",
    "        \n",
    "    @abc.abstractmethod\n",
    "    def pick(self, iterobj):\n",
    "        '''무작위 항목 뽑기'''\n",
    "        \n",
    "    def inspect(self):\n",
    "        items = []\n",
    "        while True:\n",
    "            try:\n",
    "                items.append(self.pick())\n",
    "            except LookupError:\n",
    "                break\n",
    "            return tuple(sorted(items))"
   ]
  },
  {
   "cell_type": "code",
   "execution_count": 79,
   "metadata": {},
   "outputs": [],
   "source": [
    "import random\n",
    "\n",
    "class CraneMachine(RandomMachine):\n",
    "    def __init__(self, items):\n",
    "        self._randomizer = random.SystemRandom()\n",
    "        self._items = []\n",
    "        self.load(items)\n",
    "        \n",
    "    def load(self, items):\n",
    "        self._items.extend(items)\n",
    "        self._randomizer.shuffle(self._items)\n",
    "        \n",
    "    def pick(self):\n",
    "        try:\n",
    "            return self._items.pop()\n",
    "        except IndexError:\n",
    "            raise LookupError('Empty')\n",
    "            \n",
    "    def __call__(self):\n",
    "        return self.pick()"
   ]
  },
  {
   "cell_type": "markdown",
   "metadata": {},
   "source": [
    "### 서브 클래스 확인"
   ]
  },
  {
   "cell_type": "code",
   "execution_count": 76,
   "metadata": {},
   "outputs": [
    {
     "name": "stdout",
     "output_type": "stream",
     "text": [
      "False\n",
      "True\n"
     ]
    }
   ],
   "source": [
    "print(issubclass(RandomMachine, CraneMachine))\n",
    "print(issubclass(CraneMachine, RandomMachine))  # 자식, 부모 순서가 되야함"
   ]
  },
  {
   "cell_type": "markdown",
   "metadata": {},
   "source": [
    "### 상속 구조 확인"
   ]
  },
  {
   "cell_type": "code",
   "execution_count": 200,
   "metadata": {},
   "outputs": [
    {
     "data": {
      "text/plain": [
       "(__main__.CraneMachine, __main__.RandomMachine, abc.ABC, object)"
      ]
     },
     "execution_count": 200,
     "metadata": {},
     "output_type": "execute_result"
    }
   ],
   "source": [
    "CraneMachine.__mro__"
   ]
  },
  {
   "cell_type": "code",
   "execution_count": 201,
   "metadata": {},
   "outputs": [],
   "source": [
    "cm = CraneMachine(range(1, 100))  # 추상 메소드 구현 안되어있을 시 에러 발생"
   ]
  },
  {
   "cell_type": "code",
   "execution_count": 202,
   "metadata": {},
   "outputs": [
    {
     "name": "stdout",
     "output_type": "stream",
     "text": [
      "[22, 95, 91, 2, 15, 46, 21, 50, 43, 32, 55, 31, 99, 47, 29, 85, 45, 9, 11, 97, 42, 65, 76, 20, 86, 80, 19, 70, 93, 98, 87, 34, 27, 48, 33, 12, 83, 90, 1, 14, 23, 77, 17, 57, 51, 44, 94, 88, 6, 79, 37, 67, 56, 63, 62, 40, 61, 7, 49, 75, 41, 58, 54, 13, 64, 53, 82, 39, 26, 4, 8, 36, 89, 96, 84, 92, 18, 52, 66, 16, 5, 24, 38, 35, 30, 10, 81, 68, 71, 28, 74, 59, 3, 73, 78, 72, 25, 60, 69]\n"
     ]
    }
   ],
   "source": [
    "print(cm._items)"
   ]
  },
  {
   "cell_type": "code",
   "execution_count": 203,
   "metadata": {},
   "outputs": [
    {
     "data": {
      "text/plain": [
       "69"
      ]
     },
     "execution_count": 203,
     "metadata": {},
     "output_type": "execute_result"
    }
   ],
   "source": [
    "cm.pick()"
   ]
  },
  {
   "cell_type": "code",
   "execution_count": 204,
   "metadata": {},
   "outputs": [
    {
     "data": {
      "text/plain": [
       "(60,)"
      ]
     },
     "execution_count": 204,
     "metadata": {},
     "output_type": "execute_result"
    }
   ],
   "source": [
    "cm.inspect()  # 만약 찾는 메소드가 없으면 부모 클래스에 가서 찾는다."
   ]
  },
  {
   "cell_type": "code",
   "execution_count": null,
   "metadata": {},
   "outputs": [],
   "source": []
  }
 ],
 "metadata": {
  "kernelspec": {
   "display_name": "Python 3",
   "language": "python",
   "name": "python3"
  },
  "language_info": {
   "codemirror_mode": {
    "name": "ipython",
    "version": 3
   },
   "file_extension": ".py",
   "mimetype": "text/x-python",
   "name": "python",
   "nbconvert_exporter": "python",
   "pygments_lexer": "ipython3",
   "version": "3.7.2"
  }
 },
 "nbformat": 4,
 "nbformat_minor": 2
}
