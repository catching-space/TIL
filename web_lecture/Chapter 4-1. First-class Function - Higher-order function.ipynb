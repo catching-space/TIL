{
 "cells": [
  {
   "cell_type": "markdown",
   "metadata": {},
   "source": [
    "## 1급 함수 (1급 객체)"
   ]
  },
  {
   "cell_type": "markdown",
   "metadata": {},
   "source": [
    "### 파이썬 함수 특징\n",
    "\n",
    "1. 런타임 초기화\n",
    "1. 변수 등에 할당 가능\n",
    "1. 함수의 인수로 전달 가능\n",
    "1. 함수 결과로 반환 가능 (return func)"
   ]
  },
  {
   "cell_type": "markdown",
   "metadata": {},
   "source": [
    "#### 함수 객체 예제"
   ]
  },
  {
   "cell_type": "code",
   "execution_count": 1,
   "metadata": {},
   "outputs": [],
   "source": [
    "def factorial(n):\n",
    "    '''Factorial Function -> n: int'''\n",
    "    if n == 1:\n",
    "        return 1\n",
    "    return n * factorial(n-1)"
   ]
  },
  {
   "cell_type": "code",
   "execution_count": 2,
   "metadata": {},
   "outputs": [
    {
     "name": "stdout",
     "output_type": "stream",
     "text": [
      "EX 1-1 - 120\n"
     ]
    }
   ],
   "source": [
    "print('EX 1-1 -', factorial(5))"
   ]
  },
  {
   "cell_type": "code",
   "execution_count": 3,
   "metadata": {},
   "outputs": [],
   "source": [
    "class A:\n",
    "    pass"
   ]
  },
  {
   "cell_type": "code",
   "execution_count": 4,
   "metadata": {},
   "outputs": [
    {
     "name": "stdout",
     "output_type": "stream",
     "text": [
      "EX 1-2 - Factorial Function -> n: int\n"
     ]
    }
   ],
   "source": [
    "print('EX 1-2 -', factorial.__doc__)"
   ]
  },
  {
   "cell_type": "code",
   "execution_count": 5,
   "metadata": {},
   "outputs": [
    {
     "name": "stdout",
     "output_type": "stream",
     "text": [
      "EX 1-3 - <class 'function'> <class 'type'>\n"
     ]
    }
   ],
   "source": [
    "print('EX 1-3 -', type(factorial), type(A))"
   ]
  },
  {
   "cell_type": "markdown",
   "metadata": {},
   "source": [
    ">파이썬의 모든 것은 객체로 이루어져있다."
   ]
  },
  {
   "cell_type": "code",
   "execution_count": 8,
   "metadata": {},
   "outputs": [
    {
     "name": "stdout",
     "output_type": "stream",
     "text": [
      "EX 1-4 - ['__annotations__', '__call__', '__closure__', '__code__', '__defaults__', '__get__', '__globals__', '__kwdefaults__', '__name__', '__qualname__']\n"
     ]
    }
   ],
   "source": [
    "print('EX 1-4 -', sorted(set(dir(factorial))-set(dir(A))))"
   ]
  },
  {
   "cell_type": "markdown",
   "metadata": {},
   "source": [
    ">함수 클래스만 갖고 있는 속성들 표시"
   ]
  },
  {
   "cell_type": "code",
   "execution_count": 9,
   "metadata": {},
   "outputs": [
    {
     "name": "stdout",
     "output_type": "stream",
     "text": [
      "EX 1-5 - factorial\n"
     ]
    }
   ],
   "source": [
    "print('EX 1-5 -', factorial.__name__)"
   ]
  },
  {
   "cell_type": "code",
   "execution_count": 10,
   "metadata": {},
   "outputs": [
    {
     "name": "stdout",
     "output_type": "stream",
     "text": [
      "EX 1-6 - <code object factorial at 0x1105088a0, file \"<ipython-input-1-63799e59496e>\", line 1>\n"
     ]
    }
   ],
   "source": [
    "print('EX 1-6 -', factorial.__code__)"
   ]
  },
  {
   "cell_type": "markdown",
   "metadata": {},
   "source": [
    "#### 변수 할당"
   ]
  },
  {
   "cell_type": "code",
   "execution_count": 11,
   "metadata": {},
   "outputs": [],
   "source": [
    "var_func = factorial"
   ]
  },
  {
   "cell_type": "code",
   "execution_count": 13,
   "metadata": {},
   "outputs": [
    {
     "name": "stdout",
     "output_type": "stream",
     "text": [
      "EX 2-1 - <function factorial at 0x11f30ed08>\n"
     ]
    }
   ],
   "source": [
    "print('EX 2-1 -', var_func)"
   ]
  },
  {
   "cell_type": "code",
   "execution_count": 15,
   "metadata": {},
   "outputs": [
    {
     "name": "stdout",
     "output_type": "stream",
     "text": [
      "EX 2-1 - 120\n"
     ]
    }
   ],
   "source": [
    "print('EX 2-1 -', var_func(5))"
   ]
  },
  {
   "cell_type": "code",
   "execution_count": 16,
   "metadata": {},
   "outputs": [
    {
     "name": "stdout",
     "output_type": "stream",
     "text": [
      "EX 2-3 - <map object at 0x11f433a58>\n"
     ]
    }
   ],
   "source": [
    "print('EX 2-3 -', map(var_func, range(1, 6)))"
   ]
  },
  {
   "cell_type": "code",
   "execution_count": 17,
   "metadata": {},
   "outputs": [
    {
     "name": "stdout",
     "output_type": "stream",
     "text": [
      "EX 2-4 - [1, 2, 6, 24, 120]\n"
     ]
    }
   ],
   "source": [
    "print('EX 2-4 -', list(map(var_func, range(1, 6))))"
   ]
  },
  {
   "cell_type": "markdown",
   "metadata": {},
   "source": [
    "### 고위 함수 (Higher-order Function)\n",
    "- 함수 인수 전달 및 함수로 결과 반환"
   ]
  },
  {
   "cell_type": "code",
   "execution_count": 19,
   "metadata": {},
   "outputs": [
    {
     "name": "stdout",
     "output_type": "stream",
     "text": [
      "EX 3-1 - [1, 6, 120]\n"
     ]
    }
   ],
   "source": [
    "print('EX 3-1 -', list(map(var_func, filter(lambda x: x % 2, range(1, 6)))))"
   ]
  },
  {
   "cell_type": "markdown",
   "metadata": {},
   "source": [
    ">filter의 조건에 맞는 홀수 [1, 3, 5]만 실행"
   ]
  },
  {
   "cell_type": "code",
   "execution_count": 20,
   "metadata": {},
   "outputs": [
    {
     "name": "stdout",
     "output_type": "stream",
     "text": [
      "EX 3-2 - [1, 6, 120]\n"
     ]
    }
   ],
   "source": [
    "print('EX 3-2 -', [var_func(i) for i in range(1, 6) if i % 2])"
   ]
  },
  {
   "cell_type": "markdown",
   "metadata": {},
   "source": [
    ">List Comprehension을 쓰는 편이 가독성에 더 유리함"
   ]
  },
  {
   "cell_type": "markdown",
   "metadata": {},
   "source": [
    "#### reduce()"
   ]
  },
  {
   "cell_type": "code",
   "execution_count": 22,
   "metadata": {},
   "outputs": [],
   "source": [
    "from functools import reduce\n",
    "from operator import add"
   ]
  },
  {
   "cell_type": "code",
   "execution_count": 23,
   "metadata": {},
   "outputs": [
    {
     "name": "stdout",
     "output_type": "stream",
     "text": [
      "EX 3-3 - 55\n"
     ]
    }
   ],
   "source": [
    "print('EX 3-3 -', reduce(add, range(1, 11)))"
   ]
  },
  {
   "cell_type": "code",
   "execution_count": 24,
   "metadata": {},
   "outputs": [
    {
     "name": "stdout",
     "output_type": "stream",
     "text": [
      "EX 3-4 - 55\n"
     ]
    }
   ],
   "source": [
    "print('EX 3-4 -', sum(range(1, 11)))"
   ]
  },
  {
   "cell_type": "markdown",
   "metadata": {},
   "source": [
    ">자주 쓰이진 않지만 어떤 함수의 결과를 받아 연속적으로 처리해야 하는 경우 사용"
   ]
  },
  {
   "cell_type": "markdown",
   "metadata": {},
   "source": [
    "#### 익명함수 (Lambda)\n",
    "- 가급적이면 함수를 사용하고 그렇지 않을 경우에는 주석을 붙일 것을 권장 (pep8)"
   ]
  },
  {
   "cell_type": "code",
   "execution_count": 25,
   "metadata": {},
   "outputs": [
    {
     "name": "stdout",
     "output_type": "stream",
     "text": [
      "EX 3-5 - 55\n"
     ]
    }
   ],
   "source": [
    "print('EX 3-5 -', reduce(lambda x, t: x + t, range(1, 11)))"
   ]
  },
  {
   "cell_type": "markdown",
   "metadata": {},
   "source": [
    ">(((1+2)+3)+4)+...)"
   ]
  },
  {
   "cell_type": "markdown",
   "metadata": {},
   "source": [
    "### Callable\n",
    "- 호출 연산자: Method 형태로 호출 가능한지 확인\n",
    "- `__call__`"
   ]
  },
  {
   "cell_type": "code",
   "execution_count": 26,
   "metadata": {},
   "outputs": [],
   "source": [
    "import random"
   ]
  },
  {
   "cell_type": "markdown",
   "metadata": {},
   "source": [
    "#### 로또 추첨 클래스 선언"
   ]
  },
  {
   "cell_type": "code",
   "execution_count": 64,
   "metadata": {},
   "outputs": [],
   "source": [
    "class LottoGame:\n",
    "    def __init__(self):\n",
    "        self._balls = [n for n in range(1, 46)]\n",
    "        \n",
    "    def pick(self):\n",
    "        random.shuffle(self._balls)\n",
    "        return sorted([random.choice(self._balls) for n in range(6)])\n",
    "    \n",
    "    def __call__(self):\n",
    "        return self.pick()"
   ]
  },
  {
   "cell_type": "markdown",
   "metadata": {},
   "source": [
    "#### 객체 생성"
   ]
  },
  {
   "cell_type": "code",
   "execution_count": 65,
   "metadata": {},
   "outputs": [],
   "source": [
    "game = LottoGame()"
   ]
  },
  {
   "cell_type": "markdown",
   "metadata": {},
   "source": [
    "#### 게임 실행"
   ]
  },
  {
   "cell_type": "code",
   "execution_count": 55,
   "metadata": {},
   "outputs": [
    {
     "name": "stdout",
     "output_type": "stream",
     "text": [
      "EX 4-1 - [6, 10, 23, 25, 29, 31]\n"
     ]
    }
   ],
   "source": [
    "print('EX 4-1 -', game.pick())"
   ]
  },
  {
   "cell_type": "markdown",
   "metadata": {},
   "source": [
    "#### 호출 가능 확인 (`__call__` 추가 전)"
   ]
  },
  {
   "cell_type": "code",
   "execution_count": 59,
   "metadata": {},
   "outputs": [
    {
     "name": "stdout",
     "output_type": "stream",
     "text": [
      "EX 4-2 - True True True False False\n"
     ]
    }
   ],
   "source": [
    "print('EX 4-2 -', \n",
    "      callable(str), \n",
    "      callable(list), \n",
    "      callable(factorial), \n",
    "      callable(3.14),\n",
    "      callable(game))"
   ]
  },
  {
   "cell_type": "code",
   "execution_count": 60,
   "metadata": {},
   "outputs": [
    {
     "ename": "TypeError",
     "evalue": "'LottoGame' object is not callable",
     "output_type": "error",
     "traceback": [
      "\u001b[0;31m---------------------------------------------------------------------------\u001b[0m",
      "\u001b[0;31mTypeError\u001b[0m                                 Traceback (most recent call last)",
      "\u001b[0;32m<ipython-input-60-4a8413945148>\u001b[0m in \u001b[0;36m<module>\u001b[0;34m\u001b[0m\n\u001b[0;32m----> 1\u001b[0;31m \u001b[0mgame\u001b[0m\u001b[0;34m(\u001b[0m\u001b[0;34m)\u001b[0m\u001b[0;34m\u001b[0m\u001b[0;34m\u001b[0m\u001b[0m\n\u001b[0m",
      "\u001b[0;31mTypeError\u001b[0m: 'LottoGame' object is not callable"
     ]
    }
   ],
   "source": [
    "game()"
   ]
  },
  {
   "cell_type": "markdown",
   "metadata": {},
   "source": [
    "#### 호출 가능 확인 (`__call__` 추가 후)"
   ]
  },
  {
   "cell_type": "code",
   "execution_count": 66,
   "metadata": {},
   "outputs": [
    {
     "name": "stdout",
     "output_type": "stream",
     "text": [
      "EX 4-3 - [1, 3, 6, 27, 32, 42]\n"
     ]
    }
   ],
   "source": [
    "print('EX 4-3 -', game())"
   ]
  },
  {
   "cell_type": "code",
   "execution_count": 67,
   "metadata": {},
   "outputs": [
    {
     "name": "stdout",
     "output_type": "stream",
     "text": [
      "EX 4-4 - True\n"
     ]
    }
   ],
   "source": [
    "print('EX 4-4 -', callable(game))"
   ]
  },
  {
   "cell_type": "markdown",
   "metadata": {},
   "source": [
    "#### 다양한 매개변수 입력 (`*args`, `**kwargs`)"
   ]
  },
  {
   "cell_type": "code",
   "execution_count": 68,
   "metadata": {},
   "outputs": [],
   "source": [
    "def args_test(name, *contents, point=None, **attrs):\n",
    "    return '<args_test> -> ({}) ({}) ({}) ({})'.format(name,\n",
    "                                                       contents,\n",
    "                                                       point,\n",
    "                                                       attrs)"
   ]
  },
  {
   "cell_type": "code",
   "execution_count": 70,
   "metadata": {},
   "outputs": [
    {
     "name": "stdout",
     "output_type": "stream",
     "text": [
      "EX 5-1 - <args_test> -> (test1) (()) (None) ({})\n"
     ]
    }
   ],
   "source": [
    "print('EX 5-1 -', args_test('test1'))"
   ]
  },
  {
   "cell_type": "code",
   "execution_count": 71,
   "metadata": {},
   "outputs": [
    {
     "name": "stdout",
     "output_type": "stream",
     "text": [
      "EX 5-2 - <args_test> -> (test1) (('test2',)) (None) ({})\n"
     ]
    }
   ],
   "source": [
    "print('EX 5-2 -', args_test('test1', 'test2'))"
   ]
  },
  {
   "cell_type": "code",
   "execution_count": 73,
   "metadata": {},
   "outputs": [
    {
     "name": "stdout",
     "output_type": "stream",
     "text": [
      "EX 5-3 - <args_test> -> (test1) (('test2', 'test3')) (None) ({'id': 'admin'})\n"
     ]
    }
   ],
   "source": [
    "print('EX 5-3 -', args_test('test1', 'test2', 'test3', id='admin'))"
   ]
  },
  {
   "cell_type": "code",
   "execution_count": 75,
   "metadata": {},
   "outputs": [
    {
     "name": "stdout",
     "output_type": "stream",
     "text": [
      "EX 5-4 - <args_test> -> (test1) (('test2', 'test3')) (7) ({'id': 'admin'})\n"
     ]
    }
   ],
   "source": [
    "print('EX 5-4 -', args_test('test1', 'test2', 'test3', id='admin', point=7))"
   ]
  },
  {
   "cell_type": "code",
   "execution_count": 78,
   "metadata": {},
   "outputs": [
    {
     "name": "stdout",
     "output_type": "stream",
     "text": [
      "EX 5-3 - <args_test> -> (test1) (('test2', 'test3')) (7) ({'id': 'admin', 'password': '1234'})\n"
     ]
    }
   ],
   "source": [
    "print('EX 5-3 -', args_test('test1', 'test2', 'test3', id='admin', \n",
    "                            point=7, password='1234'))"
   ]
  },
  {
   "cell_type": "markdown",
   "metadata": {},
   "source": [
    "### 함수 Signatures\n",
    "- 함수의 인자에 대한 정보를 알려주는 역할"
   ]
  },
  {
   "cell_type": "code",
   "execution_count": 79,
   "metadata": {},
   "outputs": [],
   "source": [
    "from inspect import signature"
   ]
  },
  {
   "cell_type": "code",
   "execution_count": 80,
   "metadata": {},
   "outputs": [],
   "source": [
    "sg = signature(args_test)"
   ]
  },
  {
   "cell_type": "code",
   "execution_count": 81,
   "metadata": {},
   "outputs": [
    {
     "name": "stdout",
     "output_type": "stream",
     "text": [
      "EX 6-1 - (name, *contents, point=None, **attrs)\n"
     ]
    }
   ],
   "source": [
    "print('EX 6-1 -', sg)"
   ]
  },
  {
   "cell_type": "code",
   "execution_count": 82,
   "metadata": {},
   "outputs": [
    {
     "name": "stdout",
     "output_type": "stream",
     "text": [
      "EX 6-2 - OrderedDict([('name', <Parameter \"name\">), ('contents', <Parameter \"*contents\">), ('point', <Parameter \"point=None\">), ('attrs', <Parameter \"**attrs\">)])\n"
     ]
    }
   ],
   "source": [
    "print('EX 6-2 -', sg.parameters)"
   ]
  },
  {
   "cell_type": "markdown",
   "metadata": {},
   "source": [
    "#### 모든 정보 출력"
   ]
  },
  {
   "cell_type": "code",
   "execution_count": 83,
   "metadata": {},
   "outputs": [
    {
     "name": "stdout",
     "output_type": "stream",
     "text": [
      "EX 6-3 - name POSITIONAL_OR_KEYWORD <class 'inspect._empty'>\n",
      "EX 6-3 - contents VAR_POSITIONAL <class 'inspect._empty'>\n",
      "EX 6-3 - point KEYWORD_ONLY None\n",
      "EX 6-3 - attrs VAR_KEYWORD <class 'inspect._empty'>\n"
     ]
    }
   ],
   "source": [
    "for name, param in sg.parameters.items():\n",
    "    print('EX 6-3 -', name, param.kind, param.default)"
   ]
  },
  {
   "cell_type": "markdown",
   "metadata": {},
   "source": [
    "### partial\n",
    "- 인수 고정 -> 주로 특정 인수 고정 후 callback 함수에 사용\n",
    "- 하나 이상의 인수가 이미 할당된(채워진) 함수의 새 버전 반환\n",
    "- 함수의 새 객체 타입은 이전 함수의 자체를 기술하고 있다"
   ]
  },
  {
   "cell_type": "code",
   "execution_count": 85,
   "metadata": {},
   "outputs": [],
   "source": [
    "from operator import mul\n",
    "from functools import partial"
   ]
  },
  {
   "cell_type": "code",
   "execution_count": 86,
   "metadata": {},
   "outputs": [
    {
     "name": "stdout",
     "output_type": "stream",
     "text": [
      "EX 7-1 - 1000\n"
     ]
    }
   ],
   "source": [
    "print('EX 7-1 -', mul(10, 100))"
   ]
  },
  {
   "cell_type": "markdown",
   "metadata": {},
   "source": [
    "#### 인수 고정"
   ]
  },
  {
   "cell_type": "code",
   "execution_count": 87,
   "metadata": {},
   "outputs": [],
   "source": [
    "five = partial(mul, 5)"
   ]
  },
  {
   "cell_type": "markdown",
   "metadata": {},
   "source": [
    "#### 고정 추가"
   ]
  },
  {
   "cell_type": "code",
   "execution_count": 88,
   "metadata": {},
   "outputs": [],
   "source": [
    "six = partial(five, 6)"
   ]
  },
  {
   "cell_type": "code",
   "execution_count": 89,
   "metadata": {},
   "outputs": [
    {
     "name": "stdout",
     "output_type": "stream",
     "text": [
      "EX 7-2 - 500\n"
     ]
    }
   ],
   "source": [
    "print('EX 7-2 -', five(100))"
   ]
  },
  {
   "cell_type": "code",
   "execution_count": 90,
   "metadata": {},
   "outputs": [
    {
     "ename": "TypeError",
     "evalue": "mul expected 2 arguments, got 3",
     "output_type": "error",
     "traceback": [
      "\u001b[0;31m---------------------------------------------------------------------------\u001b[0m",
      "\u001b[0;31mTypeError\u001b[0m                                 Traceback (most recent call last)",
      "\u001b[0;32m<ipython-input-90-363d9eb7a0e1>\u001b[0m in \u001b[0;36m<module>\u001b[0;34m\u001b[0m\n\u001b[0;32m----> 1\u001b[0;31m \u001b[0mprint\u001b[0m\u001b[0;34m(\u001b[0m\u001b[0;34m'EX 7-3 -'\u001b[0m\u001b[0;34m,\u001b[0m \u001b[0msix\u001b[0m\u001b[0;34m(\u001b[0m\u001b[0;36m10\u001b[0m\u001b[0;34m)\u001b[0m\u001b[0;34m)\u001b[0m\u001b[0;34m\u001b[0m\u001b[0;34m\u001b[0m\u001b[0m\n\u001b[0m",
      "\u001b[0;31mTypeError\u001b[0m: mul expected 2 arguments, got 3"
     ]
    }
   ],
   "source": [
    "print('EX 7-3 -', six(10))"
   ]
  },
  {
   "cell_type": "markdown",
   "metadata": {},
   "source": [
    ">이미 `five` 함수에 인자 하나가 고정되어 있기 때문에 에러 발생"
   ]
  },
  {
   "cell_type": "code",
   "execution_count": 91,
   "metadata": {},
   "outputs": [
    {
     "name": "stdout",
     "output_type": "stream",
     "text": [
      "EX 7-3 - 30\n"
     ]
    }
   ],
   "source": [
    "print('EX 7-3 -', six())"
   ]
  },
  {
   "cell_type": "code",
   "execution_count": 92,
   "metadata": {},
   "outputs": [
    {
     "name": "stdout",
     "output_type": "stream",
     "text": [
      "EX 7-4 - [5, 10, 15, 20, 25, 30, 35, 40, 45, 50]\n"
     ]
    }
   ],
   "source": [
    "print('EX 7-4 -', [five(i) for i in range(1, 11)])"
   ]
  },
  {
   "cell_type": "code",
   "execution_count": 93,
   "metadata": {},
   "outputs": [
    {
     "name": "stdout",
     "output_type": "stream",
     "text": [
      "EX 7-5 - [5, 10, 15, 20, 25, 30, 35, 40, 45, 50]\n"
     ]
    }
   ],
   "source": [
    "print('EX 7-5 -', list(map(five, range(1, 11))))"
   ]
  },
  {
   "cell_type": "code",
   "execution_count": null,
   "metadata": {},
   "outputs": [],
   "source": []
  }
 ],
 "metadata": {
  "kernelspec": {
   "display_name": "Python 3",
   "language": "python",
   "name": "python3"
  },
  "language_info": {
   "codemirror_mode": {
    "name": "ipython",
    "version": 3
   },
   "file_extension": ".py",
   "mimetype": "text/x-python",
   "name": "python",
   "nbconvert_exporter": "python",
   "pygments_lexer": "ipython3",
   "version": "3.7.2"
  }
 },
 "nbformat": 4,
 "nbformat_minor": 2
}
