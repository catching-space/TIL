{
 "cells": [
  {
   "cell_type": "markdown",
   "metadata": {},
   "source": [
    "## Sequence"
   ]
  },
  {
   "cell_type": "markdown",
   "metadata": {},
   "source": [
    "Container: 서로 다른 자료형 저장 (list, tuple, collections.deque)    \n",
    "Flat: 한 개의 자료형 저장 (str, bytes, bytearray, array.array, memoryview)"
   ]
  },
  {
   "cell_type": "markdown",
   "metadata": {},
   "source": [
    "mutable: list, bytearray, array.array, memoryview, deque  \n",
    "immutable: tuple, str, bytes"
   ]
  },
  {
   "cell_type": "markdown",
   "metadata": {},
   "source": [
    "### 지능형 리스트 (Comprehending Lists)"
   ]
  },
  {
   "cell_type": "markdown",
   "metadata": {},
   "source": [
    "#### Non Comprehending Lists"
   ]
  },
  {
   "cell_type": "code",
   "execution_count": 9,
   "metadata": {},
   "outputs": [
    {
     "name": "stdout",
     "output_type": "stream",
     "text": [
      "EX1-1 - [33, 64, 35, 36, 37, 94, 38, 42, 40, 41, 95, 43]\n"
     ]
    }
   ],
   "source": [
    "chars = '!@#$%^&*()_+'\n",
    "codes1 = []\n",
    "\n",
    "for s in chars:\n",
    "    codes1.append(ord(s))\n",
    "    \n",
    "print('EX1-1 -', codes1)"
   ]
  },
  {
   "cell_type": "markdown",
   "metadata": {},
   "source": [
    "#### Comprehending Lists\n",
    "- 데이터 많을 경우 속도 약간 우세"
   ]
  },
  {
   "cell_type": "code",
   "execution_count": 10,
   "metadata": {
    "scrolled": true
   },
   "outputs": [
    {
     "name": "stdout",
     "output_type": "stream",
     "text": [
      "EX1-2 - [33, 64, 35, 36, 37, 94, 38, 42, 40, 41, 95, 43]\n"
     ]
    }
   ],
   "source": [
    "codes2 = [ord(s) for s in chars]\n",
    "print('EX1-2 -', codes2)"
   ]
  },
  {
   "cell_type": "code",
   "execution_count": 11,
   "metadata": {},
   "outputs": [
    {
     "name": "stdout",
     "output_type": "stream",
     "text": [
      "EX1-3 - [64, 94, 42, 41, 95, 43]\n"
     ]
    }
   ],
   "source": [
    "codes3 = [ord(s) for s in chars if ord(s) > 40]\n",
    "print('EX1-3 -', codes3)"
   ]
  },
  {
   "cell_type": "markdown",
   "metadata": {},
   "source": [
    "#### Map, Filter"
   ]
  },
  {
   "cell_type": "code",
   "execution_count": 13,
   "metadata": {},
   "outputs": [
    {
     "name": "stdout",
     "output_type": "stream",
     "text": [
      "EX1-4 - [64, 94, 42, 41, 95, 43]\n"
     ]
    }
   ],
   "source": [
    "codes4 = list(filter(lambda x: x > 40, map(ord, chars)))\n",
    "print('EX1-4 -', codes4)"
   ]
  },
  {
   "cell_type": "code",
   "execution_count": 14,
   "metadata": {},
   "outputs": [
    {
     "name": "stdout",
     "output_type": "stream",
     "text": [
      "EX1-5 - ['!', '@', '#', '$', '%', '^', '&', '*', '(', ')', '_', '+']\n",
      "EX1-6 - ['!', '@', '#', '$', '%', '^', '&', '*', '(', ')', '_', '+']\n",
      "EX1-7 - ['@', '^', '*', ')', '_', '+']\n",
      "EX1-8 - ['@', '^', '*', ')', '_', '+']\n"
     ]
    }
   ],
   "source": [
    "print('EX1-5 -', [chr(s) for s in codes1])\n",
    "print('EX1-6 -', [chr(s) for s in codes2])\n",
    "print('EX1-7 -', [chr(s) for s in codes3])\n",
    "print('EX1-8 -', [chr(s) for s in codes4])"
   ]
  },
  {
   "cell_type": "markdown",
   "metadata": {},
   "source": [
    "### Generator\n",
    "- 한 번에 한 개의 항목을 생성 (메모리 유지X)\n",
    "- 필요한 경우 하나씩 반환 -> next()"
   ]
  },
  {
   "cell_type": "code",
   "execution_count": 16,
   "metadata": {},
   "outputs": [
    {
     "name": "stdout",
     "output_type": "stream",
     "text": [
      "EX2-1 - <generator object <genexpr> at 0x11d0d1390>\n"
     ]
    }
   ],
   "source": [
    "tuple_g = (ord(s) for s in chars)\n",
    "print('EX2-1 -', tuple_g)"
   ]
  },
  {
   "cell_type": "code",
   "execution_count": 17,
   "metadata": {},
   "outputs": [
    {
     "name": "stdout",
     "output_type": "stream",
     "text": [
      "EX2-2 - 33\n"
     ]
    }
   ],
   "source": [
    "print('EX2-2 -', next(tuple_g))"
   ]
  },
  {
   "cell_type": "code",
   "execution_count": 18,
   "metadata": {},
   "outputs": [
    {
     "name": "stdout",
     "output_type": "stream",
     "text": [
      "EX2-3 - 64\n"
     ]
    }
   ],
   "source": [
    "print('EX2-3 -', next(tuple_g))"
   ]
  },
  {
   "cell_type": "code",
   "execution_count": 20,
   "metadata": {},
   "outputs": [
    {
     "name": "stdout",
     "output_type": "stream",
     "text": [
      "EX2-4 - array('I', [33, 64, 35, 36, 37, 94, 38, 42, 40, 41, 95, 43])\n",
      "EX2-5 - [33, 64, 35, 36, 37, 94, 38, 42, 40, 41, 95, 43]\n"
     ]
    }
   ],
   "source": [
    "import array\n",
    "\n",
    "array_g = array.array('I', (ord(s) for s in chars))\n",
    "print('EX2-4 -', array_g)\n",
    "print('EX2-5 -', array_g.tolist())"
   ]
  },
  {
   "cell_type": "code",
   "execution_count": 22,
   "metadata": {},
   "outputs": [
    {
     "name": "stdout",
     "output_type": "stream",
     "text": [
      "EX3-1 - 1 <generator object <genexpr> at 0x11d0d1480>\n"
     ]
    }
   ],
   "source": [
    "print('EX3-1 - 1', ('%s' % c + str(n) for c in ['A', 'B', 'C', 'D'] for n in range(1, 11)))"
   ]
  },
  {
   "cell_type": "code",
   "execution_count": 23,
   "metadata": {},
   "outputs": [
    {
     "name": "stdout",
     "output_type": "stream",
     "text": [
      "EX3-2 - A1\n",
      "EX3-2 - A2\n",
      "EX3-2 - A3\n",
      "EX3-2 - A4\n",
      "EX3-2 - A5\n",
      "EX3-2 - A6\n",
      "EX3-2 - A7\n",
      "EX3-2 - A8\n",
      "EX3-2 - A9\n",
      "EX3-2 - A10\n",
      "EX3-2 - B1\n",
      "EX3-2 - B2\n",
      "EX3-2 - B3\n",
      "EX3-2 - B4\n",
      "EX3-2 - B5\n",
      "EX3-2 - B6\n",
      "EX3-2 - B7\n",
      "EX3-2 - B8\n",
      "EX3-2 - B9\n",
      "EX3-2 - B10\n",
      "EX3-2 - C1\n",
      "EX3-2 - C2\n",
      "EX3-2 - C3\n",
      "EX3-2 - C4\n",
      "EX3-2 - C5\n",
      "EX3-2 - C6\n",
      "EX3-2 - C7\n",
      "EX3-2 - C8\n",
      "EX3-2 - C9\n",
      "EX3-2 - C10\n",
      "EX3-2 - D1\n",
      "EX3-2 - D2\n",
      "EX3-2 - D3\n",
      "EX3-2 - D4\n",
      "EX3-2 - D5\n",
      "EX3-2 - D6\n",
      "EX3-2 - D7\n",
      "EX3-2 - D8\n",
      "EX3-2 - D9\n",
      "EX3-2 - D10\n"
     ]
    }
   ],
   "source": [
    "for s in ('%s' % c + str(n) for c in ['A', 'B', 'C', 'D'] for n in range(1, 11)):\n",
    "    print('EX3-2 -', s)"
   ]
  },
  {
   "cell_type": "markdown",
   "metadata": {},
   "source": [
    "맨 끝까지 가면 Stop error가 발생하면서 자연스럽게 for문 반복에서 나옴"
   ]
  },
  {
   "cell_type": "markdown",
   "metadata": {},
   "source": [
    "### 리스트 주의할 점"
   ]
  },
  {
   "cell_type": "code",
   "execution_count": 25,
   "metadata": {},
   "outputs": [
    {
     "name": "stdout",
     "output_type": "stream",
     "text": [
      "EX4-1 -  [['~', '~', '~'], ['~', '~', '~'], ['~', '~', '~']]\n",
      "EX4-2 -  [['~', '~', '~'], ['~', '~', '~'], ['~', '~', '~']]\n"
     ]
    }
   ],
   "source": [
    "marks1 = [['~'] * 3 for n in range(3)]\n",
    "marks2 = [['~'] * 3] * 3\n",
    "\n",
    "print('EX4-1 -', marks1)\n",
    "print('EX4-2 -', marks2)"
   ]
  },
  {
   "cell_type": "code",
   "execution_count": 26,
   "metadata": {},
   "outputs": [
    {
     "name": "stdout",
     "output_type": "stream",
     "text": [
      "EX4-3 -  [['~', 'X', '~'], ['~', '~', '~'], ['~', '~', '~']]\n",
      "EX4-4 -  [['~', 'X', '~'], ['~', 'X', '~'], ['~', 'X', '~']]\n"
     ]
    }
   ],
   "source": [
    "marks1[0][1] = 'X'\n",
    "marks2[0][1] = 'X'\n",
    "\n",
    "print('EX4-3 -', marks1)\n",
    "print('EX4-4 -', marks2)"
   ]
  },
  {
   "cell_type": "markdown",
   "metadata": {},
   "source": [
    "marks2는 모든 요소의 첫번째 인덱스 값이 전부 다 업데이트 되었다. 이는 의도하지 않은 현상이다. id값을 확인해보자"
   ]
  },
  {
   "cell_type": "code",
   "execution_count": 27,
   "metadata": {},
   "outputs": [
    {
     "name": "stdout",
     "output_type": "stream",
     "text": [
      "EX4-5 -  [4768775112, 4782432648, 4782728456]\n",
      "EX4-6 -  [4782819336, 4782819336, 4782819336]\n"
     ]
    }
   ],
   "source": [
    "print('EX4-5 -', [id(i) for i in marks1])\n",
    "print('EX4-6 -', [id(i) for i in marks2])"
   ]
  },
  {
   "cell_type": "markdown",
   "metadata": {},
   "source": [
    "list comprehension이 아니라 단순히 3을 곱한 것은 모두 같은 메모리 주소를 참조하고 있다는 것을 확인할 수 있다. 정말 많이 나오는 실수이니 주의할 것!!\n"
   ]
  },
  {
   "cell_type": "markdown",
   "metadata": {},
   "source": [
    " "
   ]
  },
  {
   "cell_type": "markdown",
   "metadata": {},
   "source": [
    "## Tuple\n",
    "\n",
    "### Packing & Unpacking"
   ]
  },
  {
   "cell_type": "code",
   "execution_count": 30,
   "metadata": {},
   "outputs": [
    {
     "name": "stdout",
     "output_type": "stream",
     "text": [
      "EX5-1 - (11, 1)\n",
      "EX5-2 - (11, 1)\n"
     ]
    }
   ],
   "source": [
    "print('EX5-1 -', divmod(100, 9))\n",
    "print('EX5-2 -', divmod(*(100, 9)))"
   ]
  },
  {
   "cell_type": "code",
   "execution_count": 31,
   "metadata": {},
   "outputs": [
    {
     "name": "stdout",
     "output_type": "stream",
     "text": [
      "EX5-3 - 11 1\n"
     ]
    }
   ],
   "source": [
    "print('EX5-3 -', *(divmod(100, 9)))"
   ]
  },
  {
   "cell_type": "code",
   "execution_count": 36,
   "metadata": {},
   "outputs": [
    {
     "name": "stdout",
     "output_type": "stream",
     "text": [
      "EX5-4 - 0 1 [2, 3, 4, 5, 6, 7, 8, 9]\n"
     ]
    }
   ],
   "source": [
    "x, y, *rest = range(10) \n",
    "print('EX5-4 -', x, y, rest)"
   ]
  },
  {
   "cell_type": "code",
   "execution_count": 37,
   "metadata": {},
   "outputs": [
    {
     "name": "stdout",
     "output_type": "stream",
     "text": [
      "EX5-5 - 0 1 []\n"
     ]
    }
   ],
   "source": [
    "x, y, *rest = range(2)\n",
    "print('EX5-5 -', x, y, rest)"
   ]
  },
  {
   "cell_type": "code",
   "execution_count": 38,
   "metadata": {},
   "outputs": [
    {
     "name": "stdout",
     "output_type": "stream",
     "text": [
      "EX5-6 - 1 2 [3, 4, 5]\n"
     ]
    }
   ],
   "source": [
    "x, y, *rest = 1, 2, 3, 4, 5\n",
    "print('EX5-6 -', x, y, rest)"
   ]
  },
  {
   "cell_type": "markdown",
   "metadata": {},
   "source": [
    "### Mutable vs Immutable"
   ]
  },
  {
   "cell_type": "code",
   "execution_count": 53,
   "metadata": {},
   "outputs": [],
   "source": [
    "l = (10, 15, 20)\n",
    "m = [10, 15, 20]"
   ]
  },
  {
   "cell_type": "code",
   "execution_count": 47,
   "metadata": {},
   "outputs": [
    {
     "name": "stdout",
     "output_type": "stream",
     "text": [
      "EX6-1 - (10, 15, 20) [10, 15, 20] 4781767056 4782837832\n"
     ]
    }
   ],
   "source": [
    "print('EX6-1 -', l, m, id(l), id(m))"
   ]
  },
  {
   "cell_type": "code",
   "execution_count": 52,
   "metadata": {},
   "outputs": [
    {
     "name": "stdout",
     "output_type": "stream",
     "text": [
      "EX6-2 - (10, 15, 20, 10, 15, 20) [10, 15, 20, 10, 15, 20] 4781688872 4782751560\n"
     ]
    }
   ],
   "source": [
    "l = l * 2\n",
    "m = m * 2\n",
    "\n",
    "print('EX6-2 -', l, m, id(l), id(m))"
   ]
  },
  {
   "cell_type": "code",
   "execution_count": 54,
   "metadata": {},
   "outputs": [
    {
     "name": "stdout",
     "output_type": "stream",
     "text": [
      "EX6-3 - (10, 15, 20, 10, 15, 20) [10, 15, 20, 10, 15, 20] 4781688872 4782854280\n"
     ]
    }
   ],
   "source": [
    "l *= 2\n",
    "m *= 2\n",
    "\n",
    "print('EX6-3 -', l, m, id(l), id(m))"
   ]
  },
  {
   "cell_type": "markdown",
   "metadata": {},
   "source": [
    "리스트는 메모리 주소가 변하지 않는다 -> Mutable  \n",
    "튜플은 **메모리 주소가 변한다(재할당된다)** -> Immutable"
   ]
  },
  {
   "cell_type": "markdown",
   "metadata": {},
   "source": [
    "### sort vs sorted\n",
    "- reverse, key=len, key=str.lower, key=func"
   ]
  },
  {
   "cell_type": "code",
   "execution_count": 55,
   "metadata": {},
   "outputs": [],
   "source": [
    "f_list = ['orange', 'apple', 'mango', 'papaya', 'lemon', 'strawberry', 'coconut']"
   ]
  },
  {
   "cell_type": "markdown",
   "metadata": {},
   "source": [
    "#### sorted\n",
    "- 정렬 후 '새로운' 객체 반환"
   ]
  },
  {
   "cell_type": "code",
   "execution_count": 56,
   "metadata": {},
   "outputs": [
    {
     "name": "stdout",
     "output_type": "stream",
     "text": [
      "EX7-1 - ['apple', 'coconut', 'lemon', 'mango', 'orange', 'papaya', 'strawberry']\n"
     ]
    }
   ],
   "source": [
    "print('EX7-1 -', sorted(f_list))"
   ]
  },
  {
   "cell_type": "code",
   "execution_count": 57,
   "metadata": {},
   "outputs": [
    {
     "name": "stdout",
     "output_type": "stream",
     "text": [
      "EX7-2 - ['strawberry', 'papaya', 'orange', 'mango', 'lemon', 'coconut', 'apple']\n"
     ]
    }
   ],
   "source": [
    "print('EX7-2 -', sorted(f_list, reverse=True))"
   ]
  },
  {
   "cell_type": "code",
   "execution_count": 58,
   "metadata": {},
   "outputs": [
    {
     "name": "stdout",
     "output_type": "stream",
     "text": [
      "EX7-3 - ['apple', 'mango', 'lemon', 'orange', 'papaya', 'coconut', 'strawberry']\n"
     ]
    }
   ],
   "source": [
    "print('EX7-3 -', sorted(f_list, key=len))"
   ]
  },
  {
   "cell_type": "code",
   "execution_count": 59,
   "metadata": {},
   "outputs": [
    {
     "name": "stdout",
     "output_type": "stream",
     "text": [
      "EX7-4 - ['papaya', 'orange', 'apple', 'lemon', 'mango', 'coconut', 'strawberry']\n"
     ]
    }
   ],
   "source": [
    "print('EX7-4 -', sorted(f_list, key=lambda x: x[-1]))"
   ]
  },
  {
   "cell_type": "code",
   "execution_count": 61,
   "metadata": {},
   "outputs": [
    {
     "name": "stdout",
     "output_type": "stream",
     "text": [
      "EX7-4 - ['strawberry', 'coconut', 'mango', 'lemon', 'orange', 'apple', 'papaya']\n"
     ]
    }
   ],
   "source": [
    "print('EX7-4 -', sorted(f_list, key=lambda x: x[-1], reverse=True))"
   ]
  },
  {
   "cell_type": "code",
   "execution_count": 62,
   "metadata": {},
   "outputs": [
    {
     "name": "stdout",
     "output_type": "stream",
     "text": [
      "EX7-6 - ['orange', 'apple', 'mango', 'papaya', 'lemon', 'strawberry', 'coconut']\n"
     ]
    }
   ],
   "source": [
    "print('EX7-6 -', f_list)"
   ]
  },
  {
   "cell_type": "markdown",
   "metadata": {},
   "source": [
    "#### sort\n",
    "- 정렬 후 객체 직접 변경\n",
    "- 반환 값 확인 -> None일 경우 이 함수는 반환값 없이 객체를 직접 변경한다는 뜻"
   ]
  },
  {
   "cell_type": "code",
   "execution_count": 63,
   "metadata": {},
   "outputs": [],
   "source": [
    "f_list.sort()"
   ]
  },
  {
   "cell_type": "code",
   "execution_count": 64,
   "metadata": {},
   "outputs": [
    {
     "name": "stdout",
     "output_type": "stream",
     "text": [
      "EX7-7 - None ['apple', 'coconut', 'lemon', 'mango', 'orange', 'papaya', 'strawberry']\n"
     ]
    }
   ],
   "source": [
    "print('EX7-7 -', f_list.sort(), f_list)"
   ]
  },
  {
   "cell_type": "code",
   "execution_count": 65,
   "metadata": {},
   "outputs": [
    {
     "name": "stdout",
     "output_type": "stream",
     "text": [
      "EX7-8 - None ['strawberry', 'papaya', 'orange', 'mango', 'lemon', 'coconut', 'apple']\n"
     ]
    }
   ],
   "source": [
    "print('EX7-8 -', f_list.sort(reverse=True), f_list)"
   ]
  },
  {
   "cell_type": "code",
   "execution_count": 66,
   "metadata": {},
   "outputs": [
    {
     "name": "stdout",
     "output_type": "stream",
     "text": [
      "EX7-9 - None ['mango', 'lemon', 'apple', 'papaya', 'orange', 'coconut', 'strawberry']\n"
     ]
    }
   ],
   "source": [
    "print('EX7-9 -', f_list.sort(key=len), f_list)"
   ]
  },
  {
   "cell_type": "code",
   "execution_count": 67,
   "metadata": {},
   "outputs": [
    {
     "name": "stdout",
     "output_type": "stream",
     "text": [
      "EX7-10 - None ['papaya', 'apple', 'orange', 'lemon', 'mango', 'coconut', 'strawberry']\n"
     ]
    }
   ],
   "source": [
    "print('EX7-10 -', f_list.sort(key=lambda x: x[-1]), f_list)"
   ]
  },
  {
   "cell_type": "code",
   "execution_count": 68,
   "metadata": {},
   "outputs": [
    {
     "name": "stdout",
     "output_type": "stream",
     "text": [
      "EX7-11 - None ['strawberry', 'coconut', 'mango', 'lemon', 'apple', 'orange', 'papaya']\n"
     ]
    }
   ],
   "source": [
    "print('EX7-11 -', f_list.sort(key=lambda x: x[-1], reverse=True), f_list)"
   ]
  },
  {
   "cell_type": "markdown",
   "metadata": {},
   "source": [
    "---"
   ]
  },
  {
   "cell_type": "code",
   "execution_count": null,
   "metadata": {},
   "outputs": [],
   "source": []
  }
 ],
 "metadata": {
  "kernelspec": {
   "display_name": "Python 3",
   "language": "python",
   "name": "python3"
  },
  "language_info": {
   "codemirror_mode": {
    "name": "ipython",
    "version": 3
   },
   "file_extension": ".py",
   "mimetype": "text/x-python",
   "name": "python",
   "nbconvert_exporter": "python",
   "pygments_lexer": "ipython3",
   "version": "3.7.2"
  }
 },
 "nbformat": 4,
 "nbformat_minor": 2
}
