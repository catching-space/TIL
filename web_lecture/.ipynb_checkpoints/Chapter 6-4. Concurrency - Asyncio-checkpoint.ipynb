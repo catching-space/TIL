{
 "cells": [
  {
   "cell_type": "markdown",
   "metadata": {},
   "source": [
    "## Asyncio\n",
    "- 비동기 I/O Coroutine 작업\n",
    "- Generator -> 반복적인 객체 Return (yield)\n",
    "- 실행 Stop -> 다른 작업으로 위임 -> Stop 지점부터 재실행\n",
    "- Non-Blocking 비동기 처리에 적합"
   ]
  },
  {
   "cell_type": "markdown",
   "metadata": {},
   "source": [
    "### BlockIO\n",
    "- 순차 실행\n",
    "- thread 갯수 및 GIL 문제 염두, 공유 메모리 문제 해결"
   ]
  },
  {
   "cell_type": "code",
   "execution_count": 1,
   "metadata": {},
   "outputs": [],
   "source": [
    "import timeit\n",
    "from urllib.request import urlopen"
   ]
  },
  {
   "cell_type": "code",
   "execution_count": 2,
   "metadata": {},
   "outputs": [],
   "source": [
    "urls = ['https://daum.net', \n",
    "        'https://google.com', \n",
    "        'https://apple.com',\n",
    "        'https://tistory.com',\n",
    "        'https://github.com',\n",
    "        'https://gmarket.co.kr']"
   ]
  },
  {
   "cell_type": "markdown",
   "metadata": {},
   "source": [
    "#### 순차 실행부"
   ]
  },
  {
   "cell_type": "code",
   "execution_count": 3,
   "metadata": {},
   "outputs": [
    {
     "name": "stdout",
     "output_type": "stream",
     "text": [
      "Start: https://daum.net\n",
      "Done: https://daum.net\n",
      "Start: https://google.com\n",
      "Done: https://google.com\n",
      "Start: https://apple.com\n",
      "Done: https://apple.com\n",
      "Start: https://tistory.com\n",
      "Done: https://tistory.com\n",
      "Start: https://github.com\n",
      "Done: https://github.com\n",
      "Start: https://gmarket.co.kr\n",
      "Done: https://gmarket.co.kr\n",
      "Total time: 1.421016221\n"
     ]
    }
   ],
   "source": [
    "start = timeit.default_timer()\n",
    "\n",
    "for url in urls:\n",
    "    print('Start:', url)\n",
    "    # 실제 요청\n",
    "    text = urlopen(url)\n",
    "    # print('Contents:', text.read())\n",
    "    print('Done:', url)\n",
    "    \n",
    "durations = timeit.default_timer() - start\n",
    "print('Total time:', durations)"
   ]
  },
  {
   "cell_type": "markdown",
   "metadata": {},
   "source": [
    "threading을 사용할 때는 꼭 프로그램 진입점을 정의해줘야 한다.\n",
    "```\n",
    "if __name__ == '__main__':\n",
    "    main()\n",
    "```"
   ]
  },
  {
   "cell_type": "code",
   "execution_count": 4,
   "metadata": {},
   "outputs": [],
   "source": [
    "from concurrent.futures import ThreadPoolExecutor\n",
    "import threading"
   ]
  },
  {
   "cell_type": "code",
   "execution_count": 5,
   "metadata": {},
   "outputs": [
    {
     "name": "stdout",
     "output_type": "stream",
     "text": [
      "Thread Name:Thread Name: ThreadPoolExecutor-0_1 Start https://google.com\n",
      "Thread Name: Thread Name:ThreadPoolExecutor-0_2 Start https://apple.com\n",
      "Thread Name:  ThreadPoolExecutor-0_3 Start https://tistory.com\n",
      "Thread Name:  ThreadPoolExecutor-0_5 Start ThreadPoolExecutor-0_4 Start https://github.com\n",
      "https://gmarket.co.kr\n",
      "ThreadPoolExecutor-0_0 Start https://daum.net\n",
      "Thread Name: ThreadPoolExecutor-0_4 Done https://github.com\n",
      "Thread Name: ThreadPoolExecutor-0_0 Done https://daum.net\n",
      "Thread Name: ThreadPoolExecutor-0_3 Done https://tistory.com\n",
      "Thread Name: ThreadPoolExecutor-0_5 Done https://gmarket.co.kr\n",
      "Thread Name: ThreadPoolExecutor-0_2 Done https://apple.com\n",
      "Thread Name: ThreadPoolExecutor-0_1 Done https://google.com\n",
      "Total time: 0.6766989830000001\n"
     ]
    }
   ],
   "source": [
    "def fetch(url):\n",
    "    print('Thread Name:', threading.current_thread().getName(),\n",
    "          'Start', url)\n",
    "    urlopen(url)\n",
    "    print('Thread Name:', threading.current_thread().getName(),\n",
    "          'Done', url)\n",
    "\n",
    "\n",
    "def main():\n",
    "    with ThreadPoolExecutor(max_workers=10) as executor:\n",
    "        for url in urls:\n",
    "            executor.submit(fetch, url)\n",
    "            \n",
    "\n",
    "if __name__ == '__main__':\n",
    "    start = timeit.default_timer()\n",
    "    main()\n",
    "    durations = timeit.default_timer() - start\n",
    "    print('Total time:', durations)"
   ]
  },
  {
   "cell_type": "markdown",
   "metadata": {},
   "source": [
    ">이처럼 threading으로 비동기 처리를 하면 순서가 섞여 엉망이 된다. 대신 속도는 아주 빨라진다."
   ]
  },
  {
   "cell_type": "markdown",
   "metadata": {},
   "source": [
    "### asyncio"
   ]
  },
  {
   "cell_type": "code",
   "execution_count": 6,
   "metadata": {},
   "outputs": [],
   "source": [
    "import asyncio\n",
    "# import aiohttp  # aiohttp 쓰면 편하게 작업할 수 있음"
   ]
  },
  {
   "cell_type": "code",
   "execution_count": 7,
   "metadata": {},
   "outputs": [
    {
     "ename": "RuntimeError",
     "evalue": "This event loop is already running",
     "output_type": "error",
     "traceback": [
      "\u001b[0;31m---------------------------------------------------------------------------\u001b[0m",
      "\u001b[0;31mRuntimeError\u001b[0m                              Traceback (most recent call last)",
      "\u001b[0;32m<ipython-input-7-9b8cfb288066>\u001b[0m in \u001b[0;36m<module>\u001b[0;34m\u001b[0m\n\u001b[1;32m     28\u001b[0m     \u001b[0mloop\u001b[0m \u001b[0;34m=\u001b[0m \u001b[0masyncio\u001b[0m\u001b[0;34m.\u001b[0m\u001b[0mget_event_loop\u001b[0m\u001b[0;34m(\u001b[0m\u001b[0;34m)\u001b[0m\u001b[0;34m\u001b[0m\u001b[0;34m\u001b[0m\u001b[0m\n\u001b[1;32m     29\u001b[0m     \u001b[0;31m# loop 대기\u001b[0m\u001b[0;34m\u001b[0m\u001b[0;34m\u001b[0m\u001b[0;34m\u001b[0m\u001b[0m\n\u001b[0;32m---> 30\u001b[0;31m     \u001b[0mloop\u001b[0m\u001b[0;34m.\u001b[0m\u001b[0mrun_until_complete\u001b[0m\u001b[0;34m(\u001b[0m\u001b[0mmain\u001b[0m\u001b[0;34m(\u001b[0m\u001b[0;34m)\u001b[0m\u001b[0;34m)\u001b[0m\u001b[0;34m\u001b[0m\u001b[0;34m\u001b[0m\u001b[0m\n\u001b[0m\u001b[1;32m     31\u001b[0m     \u001b[0mmain\u001b[0m\u001b[0;34m(\u001b[0m\u001b[0;34m)\u001b[0m\u001b[0;34m\u001b[0m\u001b[0;34m\u001b[0m\u001b[0m\n\u001b[1;32m     32\u001b[0m     \u001b[0mduration\u001b[0m \u001b[0;34m=\u001b[0m \u001b[0mtimeit\u001b[0m\u001b[0;34m.\u001b[0m\u001b[0mdefault_timer\u001b[0m\u001b[0;34m(\u001b[0m\u001b[0;34m)\u001b[0m \u001b[0;34m-\u001b[0m \u001b[0mstart\u001b[0m\u001b[0;34m\u001b[0m\u001b[0;34m\u001b[0m\u001b[0m\n",
      "\u001b[0;32m/usr/local/Cellar/python/3.7.2_1/Frameworks/Python.framework/Versions/3.7/lib/python3.7/asyncio/base_events.py\u001b[0m in \u001b[0;36mrun_until_complete\u001b[0;34m(self, future)\u001b[0m\n\u001b[1;32m    569\u001b[0m         \u001b[0mfuture\u001b[0m\u001b[0;34m.\u001b[0m\u001b[0madd_done_callback\u001b[0m\u001b[0;34m(\u001b[0m\u001b[0m_run_until_complete_cb\u001b[0m\u001b[0;34m)\u001b[0m\u001b[0;34m\u001b[0m\u001b[0;34m\u001b[0m\u001b[0m\n\u001b[1;32m    570\u001b[0m         \u001b[0;32mtry\u001b[0m\u001b[0;34m:\u001b[0m\u001b[0;34m\u001b[0m\u001b[0;34m\u001b[0m\u001b[0m\n\u001b[0;32m--> 571\u001b[0;31m             \u001b[0mself\u001b[0m\u001b[0;34m.\u001b[0m\u001b[0mrun_forever\u001b[0m\u001b[0;34m(\u001b[0m\u001b[0;34m)\u001b[0m\u001b[0;34m\u001b[0m\u001b[0;34m\u001b[0m\u001b[0m\n\u001b[0m\u001b[1;32m    572\u001b[0m         \u001b[0;32mexcept\u001b[0m\u001b[0;34m:\u001b[0m\u001b[0;34m\u001b[0m\u001b[0;34m\u001b[0m\u001b[0m\n\u001b[1;32m    573\u001b[0m             \u001b[0;32mif\u001b[0m \u001b[0mnew_task\u001b[0m \u001b[0;32mand\u001b[0m \u001b[0mfuture\u001b[0m\u001b[0;34m.\u001b[0m\u001b[0mdone\u001b[0m\u001b[0;34m(\u001b[0m\u001b[0;34m)\u001b[0m \u001b[0;32mand\u001b[0m \u001b[0;32mnot\u001b[0m \u001b[0mfuture\u001b[0m\u001b[0;34m.\u001b[0m\u001b[0mcancelled\u001b[0m\u001b[0;34m(\u001b[0m\u001b[0;34m)\u001b[0m\u001b[0;34m:\u001b[0m\u001b[0;34m\u001b[0m\u001b[0;34m\u001b[0m\u001b[0m\n",
      "\u001b[0;32m/usr/local/Cellar/python/3.7.2_1/Frameworks/Python.framework/Versions/3.7/lib/python3.7/asyncio/base_events.py\u001b[0m in \u001b[0;36mrun_forever\u001b[0;34m(self)\u001b[0m\n\u001b[1;32m    524\u001b[0m         \u001b[0mself\u001b[0m\u001b[0;34m.\u001b[0m\u001b[0m_check_closed\u001b[0m\u001b[0;34m(\u001b[0m\u001b[0;34m)\u001b[0m\u001b[0;34m\u001b[0m\u001b[0;34m\u001b[0m\u001b[0m\n\u001b[1;32m    525\u001b[0m         \u001b[0;32mif\u001b[0m \u001b[0mself\u001b[0m\u001b[0;34m.\u001b[0m\u001b[0mis_running\u001b[0m\u001b[0;34m(\u001b[0m\u001b[0;34m)\u001b[0m\u001b[0;34m:\u001b[0m\u001b[0;34m\u001b[0m\u001b[0;34m\u001b[0m\u001b[0m\n\u001b[0;32m--> 526\u001b[0;31m             \u001b[0;32mraise\u001b[0m \u001b[0mRuntimeError\u001b[0m\u001b[0;34m(\u001b[0m\u001b[0;34m'This event loop is already running'\u001b[0m\u001b[0;34m)\u001b[0m\u001b[0;34m\u001b[0m\u001b[0;34m\u001b[0m\u001b[0m\n\u001b[0m\u001b[1;32m    527\u001b[0m         \u001b[0;32mif\u001b[0m \u001b[0mevents\u001b[0m\u001b[0;34m.\u001b[0m\u001b[0m_get_running_loop\u001b[0m\u001b[0;34m(\u001b[0m\u001b[0;34m)\u001b[0m \u001b[0;32mis\u001b[0m \u001b[0;32mnot\u001b[0m \u001b[0;32mNone\u001b[0m\u001b[0;34m:\u001b[0m\u001b[0;34m\u001b[0m\u001b[0;34m\u001b[0m\u001b[0m\n\u001b[1;32m    528\u001b[0m             raise RuntimeError(\n",
      "\u001b[0;31mRuntimeError\u001b[0m: This event loop is already running"
     ]
    },
    {
     "name": "stdout",
     "output_type": "stream",
     "text": [
      "Thread Name: MainThread Start https://daum.net\n",
      "Thread Name: MainThread Start https://google.com\n",
      "Thread Name: MainThread Start https://apple.com\n",
      "Thread Name: MainThread Start https://tistory.com\n",
      "Thread Name: MainThread Start https://github.com\n",
      "Thread Name: MainThread Start https://gmarket.co.kr\n",
      "Thread Name: MainThread Done https://github.com\n",
      "Thread Name: MainThread Done https://daum.net\n",
      "Thread Name: MainThread Done https://tistory.com\n",
      "Thread Name: MainThread Done https://apple.com\n",
      "Thread Name: MainThread Done https://gmarket.co.kr\n",
      "Thread Name: MainThread Done https://google.com\n"
     ]
    }
   ],
   "source": [
    "async def fetch(url, executor):\n",
    "    print('Thread Name:', threading.current_thread().getName(),\n",
    "          'Start', url)\n",
    "    # res = await urlopen(url) # urlopen -> 동기함수라 자동으로 BlockIO\n",
    "    res = await loop.run_in_executor(executor, urlopen, url)\n",
    "    print('Thread Name:', threading.current_thread().getName(),\n",
    "          'Done', url)\n",
    "    return res.read()[0:5]  ## Too Long\n",
    "\n",
    "\n",
    "async def main():\n",
    "    # 쓰레드 풀 생성\n",
    "    executor = ThreadPoolExecutor(max_workers=10)\n",
    "    \n",
    "    # asyncio.ensure_future\n",
    "    futures = [asyncio.ensure_future(fetch(url, executor)) \n",
    "               for url in urls]\n",
    "    rst = await asynio.gather(*futures)  # await == yield from\n",
    "    \n",
    "    print()\n",
    "    print('Result:', rst)\n",
    "    \n",
    "    \n",
    "    \n",
    "if __name__ == '__main__':\n",
    "    start = timeit.default_timer()\n",
    "    # loop 생성 (중앙 관리)\n",
    "    loop = asyncio.get_event_loop()\n",
    "    # loop 대기\n",
    "    loop.run_until_complete(main())\n",
    "    main()\n",
    "    duration = timeit.default_timer() - start\n",
    "    print('Total time:', durations)"
   ]
  },
  {
   "cell_type": "markdown",
   "metadata": {},
   "source": [
    "---"
   ]
  }
 ],
 "metadata": {
  "kernelspec": {
   "display_name": "Python 3",
   "language": "python",
   "name": "python3"
  },
  "language_info": {
   "codemirror_mode": {
    "name": "ipython",
    "version": 3
   },
   "file_extension": ".py",
   "mimetype": "text/x-python",
   "name": "python",
   "nbconvert_exporter": "python",
   "pygments_lexer": "ipython3",
   "version": "3.7.2"
  }
 },
 "nbformat": 4,
 "nbformat_minor": 4
}
