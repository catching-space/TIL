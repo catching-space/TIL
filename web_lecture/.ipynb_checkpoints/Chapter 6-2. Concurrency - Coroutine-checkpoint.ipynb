{
 "cells": [
  {
   "cell_type": "markdown",
   "metadata": {},
   "source": [
    "## Coroutine\n",
    "- yield: Main-routine <-> Sub-routine\n",
    "- coroutine 제어, coroutine 상태, 양방향 값 전송\n",
    "- yield from"
   ]
  },
  {
   "cell_type": "markdown",
   "metadata": {},
   "source": [
    "- sub-routine: 메인 루틴에서 return에 의해 호출 부분으로 돌아가 다시 프로세스\n",
    "- coroutine: 루틴 실행 중 멈춤 가능. 특정 위치로 돌아갔다가 다시 원래 위치로 돌아와 수행 가능 -> 동시성 프로그래밍 가능! 하나의 쓰레드에서 실행하기 때문에 스케줄링 오버헤드 매우 적다.\n",
    "- thread: 운영체제 단에서 생성. 파이썬은 기본적으로 싱글 쓰레드로 운영되며, 멀티쓰레드는 공유되는 자원의 교착 상태 발생 가능성이 있어 복잡하고 어렵다. 컨텍스트 스위칭 비용 발생. 자원 소비 증가."
   ]
  },
  {
   "cell_type": "code",
   "execution_count": 2,
   "metadata": {},
   "outputs": [],
   "source": [
    "def coroutine1():\n",
    "    print('>>> coroutine started.')\n",
    "    i = yield  # 양방향 통신 가능!\n",
    "    print('>>> coroutine received : {}'.format(i))"
   ]
  },
  {
   "cell_type": "markdown",
   "metadata": {},
   "source": [
    "### Generator 선언"
   ]
  },
  {
   "cell_type": "code",
   "execution_count": 8,
   "metadata": {},
   "outputs": [
    {
     "data": {
      "text/plain": [
       "(<generator object coroutine1 at 0x121a4e4f8>, generator)"
      ]
     },
     "execution_count": 8,
     "metadata": {},
     "output_type": "execute_result"
    }
   ],
   "source": [
    "c1 = coroutine1()\n",
    "c1, type(c1)"
   ]
  },
  {
   "cell_type": "markdown",
   "metadata": {},
   "source": [
    "#### 기본으로 None 전달"
   ]
  },
  {
   "cell_type": "code",
   "execution_count": 9,
   "metadata": {},
   "outputs": [
    {
     "name": "stdout",
     "output_type": "stream",
     "text": [
      ">>> coroutine started.\n"
     ]
    }
   ],
   "source": [
    "next(c1)"
   ]
  },
  {
   "cell_type": "code",
   "execution_count": 10,
   "metadata": {},
   "outputs": [
    {
     "name": "stdout",
     "output_type": "stream",
     "text": [
      ">>> coroutine received : 100\n"
     ]
    },
    {
     "ename": "StopIteration",
     "evalue": "",
     "output_type": "error",
     "traceback": [
      "\u001b[0;31m---------------------------------------------------------------------------\u001b[0m",
      "\u001b[0;31mStopIteration\u001b[0m                             Traceback (most recent call last)",
      "\u001b[0;32m<ipython-input-10-871a78b127e4>\u001b[0m in \u001b[0;36m<module>\u001b[0;34m\u001b[0m\n\u001b[0;32m----> 1\u001b[0;31m \u001b[0mc1\u001b[0m\u001b[0;34m.\u001b[0m\u001b[0msend\u001b[0m\u001b[0;34m(\u001b[0m\u001b[0;36m100\u001b[0m\u001b[0;34m)\u001b[0m\u001b[0;34m\u001b[0m\u001b[0;34m\u001b[0m\u001b[0m\n\u001b[0m",
      "\u001b[0;31mStopIteration\u001b[0m: "
     ]
    }
   ],
   "source": [
    "c1.send(100)"
   ]
  },
  {
   "cell_type": "code",
   "execution_count": null,
   "metadata": {},
   "outputs": [],
   "source": []
  }
 ],
 "metadata": {
  "kernelspec": {
   "display_name": "Python 3",
   "language": "python",
   "name": "python3"
  },
  "language_info": {
   "codemirror_mode": {
    "name": "ipython",
    "version": 3
   },
   "file_extension": ".py",
   "mimetype": "text/x-python",
   "name": "python",
   "nbconvert_exporter": "python",
   "pygments_lexer": "ipython3",
   "version": "3.7.2"
  }
 },
 "nbformat": 4,
 "nbformat_minor": 4
}
